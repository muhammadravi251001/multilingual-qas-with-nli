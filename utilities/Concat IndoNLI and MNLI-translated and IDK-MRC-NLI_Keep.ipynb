{
 "cells": [
  {
   "cell_type": "code",
   "execution_count": 1,
   "id": "554cc349",
   "metadata": {},
   "outputs": [],
   "source": [
    "from datasets import load_dataset\n",
    "import pandas as pd"
   ]
  },
  {
   "cell_type": "code",
   "execution_count": 2,
   "id": "ab2eed24",
   "metadata": {},
   "outputs": [],
   "source": [
    "id2label = {0: 'entailment', 1: 'neutral', 2: 'contradiction'}\n",
    "label2id = {'entailment': 0, 'neutral': 1, 'contradiction': 2}"
   ]
  },
  {
   "cell_type": "markdown",
   "id": "8439f6d5",
   "metadata": {},
   "source": [
    "# Concat IndoNLI and MNLI-translated into Augmented DF"
   ]
  },
  {
   "cell_type": "code",
   "execution_count": 3,
   "id": "9437e18b",
   "metadata": {},
   "outputs": [
    {
     "name": "stderr",
     "output_type": "stream",
     "text": [
      "Reusing dataset indo_nli (/root/.cache/huggingface/datasets/indo_nli/indonli/1.1.0/d34041bd1d1a555a4bcb4ffdb9fe904778da6f7c5343209fc1485dd68121cb62)\n"
     ]
    },
    {
     "data": {
      "application/vnd.jupyter.widget-view+json": {
       "model_id": "ffd0d68a5dc44839a686c5c7be402a26",
       "version_major": 2,
       "version_minor": 0
      },
      "text/plain": [
       "  0%|          | 0/4 [00:00<?, ?it/s]"
      ]
     },
     "metadata": {},
     "output_type": "display_data"
    }
   ],
   "source": [
    "data_basic = load_dataset('indonli')\n",
    "\n",
    "data_indonli_test_lay_df = pd.DataFrame(data_basic[\"test_lay\"])\n",
    "data_indonli_test_expert_df = pd.DataFrame(data_basic[\"test_expert\"])\n",
    "\n",
    "data_indonli_train_df = pd.DataFrame(data_basic[\"train\"])\n",
    "data_indonli_validation_df = pd.DataFrame(data_basic[\"validation\"])\n",
    "data_indonli_test_df = pd.concat([data_indonli_test_lay_df, data_indonli_test_expert_df])\n",
    "\n",
    "data_indonli_train_df['label'] = data_indonli_train_df['label'].replace(id2label)\n",
    "data_indonli_validation_df['label'] = data_indonli_validation_df['label'].replace(id2label)\n",
    "data_indonli_test_df['label'] = data_indonli_test_df['label'].replace(id2label)"
   ]
  },
  {
   "cell_type": "code",
   "execution_count": 4,
   "id": "63c17e7b",
   "metadata": {},
   "outputs": [],
   "source": [
    "data_mnli_translated_train_df = pd.read_json(path_or_buf='train.jsonl', lines=True)\n",
    "data_mnli_translated_validation_df = pd.read_json(path_or_buf='dev.jsonl', lines=True)\n",
    "\n",
    "data_mnli_translated_train_df = data_mnli_translated_train_df[['sentence1', 'sentence2', 'gold_label']]\n",
    "data_mnli_translated_train_df = data_mnli_translated_train_df.rename(columns={'sentence1': 'premise', \n",
    "                                                                              'sentence2': 'hypothesis', \n",
    "                                                                              'gold_label': 'label'})\n",
    "\n",
    "data_mnli_translated_validation_df = data_mnli_translated_validation_df[['sentence1', 'sentence2', 'gold_label']]\n",
    "data_mnli_translated_validation_df = data_mnli_translated_validation_df.rename(columns={'sentence1': 'premise', \n",
    "                                                                              'sentence2': 'hypothesis', \n",
    "                                                                              'gold_label': 'label'})\n",
    "\n",
    "data_mnli_translated_train_df = data_mnli_translated_train_df[data_mnli_translated_train_df.label != '-']\n",
    "data_mnli_translated_validation_df = data_mnli_translated_validation_df[data_mnli_translated_validation_df.label != '-']"
   ]
  },
  {
   "cell_type": "code",
   "execution_count": 5,
   "id": "927c36d1",
   "metadata": {},
   "outputs": [],
   "source": [
    "data_augmented_train_df = pd.concat([data_indonli_train_df, data_mnli_translated_train_df]).reset_index(drop=True)\n",
    "data_augmented_validation_df = pd.concat([data_indonli_validation_df, data_mnli_translated_validation_df]).reset_index(drop=True)\n",
    "data_augmented_test_df = data_indonli_test_df # MNLI-translated does not have test set"
   ]
  },
  {
   "cell_type": "markdown",
   "id": "26e961b8",
   "metadata": {},
   "source": [
    "# Concat Augmented DF and IDK-MRC-NLI_Keep"
   ]
  },
  {
   "cell_type": "code",
   "execution_count": 6,
   "id": "f34600a0",
   "metadata": {},
   "outputs": [
    {
     "name": "stderr",
     "output_type": "stream",
     "text": [
      "Using custom data configuration muhammadravi251001--debug-entailment-558429883ba3b414\n",
      "Reusing dataset csv (/root/.cache/huggingface/datasets/muhammadravi251001___csv/muhammadravi251001--debug-entailment-558429883ba3b414/0.0.0/433e0ccc46f9880962cc2b12065189766fbb2bee57a221866138fb9203c83519)\n"
     ]
    },
    {
     "data": {
      "application/vnd.jupyter.widget-view+json": {
       "model_id": "a2f0fa7379c84cc7a9c8f577fb7ff88d",
       "version_major": 2,
       "version_minor": 0
      },
      "text/plain": [
       "  0%|          | 0/3 [00:00<?, ?it/s]"
      ]
     },
     "metadata": {},
     "output_type": "display_data"
    }
   ],
   "source": [
    "from datasets import load_dataset, Dataset, DatasetDict\n",
    "import pandas as pd\n",
    "\n",
    "data_files = {\"train\": \"data_nli_train_df_keep.csv\", \n",
    "              \"validation\": \"data_nli_val_df_keep.csv\", \n",
    "              \"test\": \"data_nli_test_df_keep.csv\"}\n",
    "\n",
    "dataset = load_dataset(\"muhammadravi251001/debug-entailment\", data_files=data_files)\n",
    "\n",
    "selected_columns = [\"premise\", \"hypothesis\", \"label\"]\n",
    "# selected_columns = dataset.column_names['train'] # Uncomment this line to retrieve all of the columns\n",
    "\n",
    "df_train = pd.DataFrame(dataset[\"train\"])\n",
    "df_train = df_train[selected_columns]\n",
    "\n",
    "df_val = pd.DataFrame(dataset[\"validation\"])\n",
    "df_val = df_val[selected_columns]\n",
    "\n",
    "df_test = pd.DataFrame(dataset[\"test\"])\n",
    "df_test = df_test[selected_columns]\n",
    "\n",
    "train_dataset = Dataset.from_dict(df_train)\n",
    "validation_dataset = Dataset.from_dict(df_val)\n",
    "test_dataset = Dataset.from_dict(df_test)\n",
    "\n",
    "dataset = DatasetDict({\"train\": train_dataset, \"validation\": validation_dataset, \"test\": test_dataset})\n",
    "\n",
    "df_idk_mrc_nli_train = pd.DataFrame(dataset['train'])\n",
    "df_idk_mrc_nli_validation = pd.DataFrame(dataset['validation'])\n",
    "df_idk_mrc_nli_test = pd.DataFrame(dataset['test'])"
   ]
  },
  {
   "cell_type": "code",
   "execution_count": 7,
   "id": "a0978bcb",
   "metadata": {},
   "outputs": [],
   "source": [
    "data_multilingual_indonesia_train_df = pd.concat([data_augmented_train_df, df_idk_mrc_nli_train]).reset_index(drop=True)\n",
    "data_multilingual_indonesia_validation_df = pd.concat([data_augmented_validation_df, df_idk_mrc_nli_validation]).reset_index(drop=True)\n",
    "data_multilingual_indonesia_test_df = pd.concat([data_augmented_test_df, df_idk_mrc_nli_test]).reset_index(drop=True)"
   ]
  },
  {
   "cell_type": "code",
   "execution_count": 8,
   "id": "a682fdf4",
   "metadata": {},
   "outputs": [],
   "source": [
    "data_multilingual_indonesia_train_df.to_csv(\"multilingual_nli_train_df.csv\", index=False)\n",
    "data_multilingual_indonesia_validation_df.to_csv(\"multilingual_nli_validation_df.csv\", index=False)\n",
    "data_multilingual_indonesia_test_df.to_csv(\"multilingual_nli_test_df.csv\", index=False)"
   ]
  },
  {
   "cell_type": "code",
   "execution_count": 9,
   "id": "76837275",
   "metadata": {},
   "outputs": [
    {
     "name": "stderr",
     "output_type": "stream",
     "text": [
      "100%|███████████████████████████████████████████████████████████████████████| 413116/413116 [00:01<00:00, 229242.15it/s]"
     ]
    },
    {
     "name": "stdout",
     "output_type": "stream",
     "text": [
      "Douwes Dekker was here.\n",
      "Douwes Dekker was here.\n",
      "Douwes Dekker was here.\n",
      "Douwes Dekker was here.\n",
      "Douwes Dekker was here.\n",
      "Douwes Dekker was here.\n"
     ]
    },
    {
     "name": "stderr",
     "output_type": "stream",
     "text": [
      "\n"
     ]
    }
   ],
   "source": [
    "from tqdm import tqdm\n",
    "\n",
    "for i in tqdm(range(len(data_multilingual_indonesia_train_df))):\n",
    "    \n",
    "    if 'Douwes Dekker' in data_multilingual_indonesia_train_df['premise'][i]:\n",
    "        print(\"Douwes Dekker was here.\")"
   ]
  },
  {
   "cell_type": "code",
   "execution_count": 10,
   "id": "2d9dd30f",
   "metadata": {},
   "outputs": [],
   "source": [
    "def check_type(val):\n",
    "    return type(val)\n",
    "\n",
    "def check_type_value(data, check_type=check_type):\n",
    "    \n",
    "    data['premise_types'] = data['premise'].apply(check_type)\n",
    "    data['hypothesis_types'] = data['hypothesis'].apply(check_type)\n",
    "    data['label_types'] = data['label'].apply(check_type)\n",
    "    \n",
    "    print(\"Premise\")\n",
    "    print(data['premise_types'].value_counts())\n",
    "    print()\n",
    "    \n",
    "    print(\"Hypothesis\")\n",
    "    print(data['hypothesis_types'].value_counts())\n",
    "    print()\n",
    "    \n",
    "    print(\"Label\")\n",
    "    print(data['label_types'].value_counts())\n",
    "    print()"
   ]
  },
  {
   "cell_type": "code",
   "execution_count": 11,
   "id": "a27c4f6a",
   "metadata": {},
   "outputs": [
    {
     "name": "stdout",
     "output_type": "stream",
     "text": [
      "Premise\n",
      "<class 'str'>    413116\n",
      "Name: premise_types, dtype: int64\n",
      "\n",
      "Hypothesis\n",
      "<class 'str'>    413116\n",
      "Name: hypothesis_types, dtype: int64\n",
      "\n",
      "Label\n",
      "<class 'str'>    413116\n",
      "Name: label_types, dtype: int64\n",
      "\n",
      "Premise\n",
      "<class 'str'>    22608\n",
      "Name: premise_types, dtype: int64\n",
      "\n",
      "Hypothesis\n",
      "<class 'str'>    22608\n",
      "Name: hypothesis_types, dtype: int64\n",
      "\n",
      "Label\n",
      "<class 'str'>    22608\n",
      "Name: label_types, dtype: int64\n",
      "\n",
      "Premise\n",
      "<class 'str'>    6029\n",
      "Name: premise_types, dtype: int64\n",
      "\n",
      "Hypothesis\n",
      "<class 'str'>    6029\n",
      "Name: hypothesis_types, dtype: int64\n",
      "\n",
      "Label\n",
      "<class 'str'>    6029\n",
      "Name: label_types, dtype: int64\n",
      "\n"
     ]
    }
   ],
   "source": [
    "data_multilingual_indonesia_train_df = check_type_value(data_multilingual_indonesia_train_df)\n",
    "data_multilingual_indonesia_validation_df = check_type_value(data_multilingual_indonesia_validation_df)\n",
    "data_multilingual_indonesia_test_df = check_type_value(data_multilingual_indonesia_test_df)"
   ]
  },
  {
   "cell_type": "markdown",
   "id": "2917c1ce",
   "metadata": {},
   "source": [
    "# Check with existing databases"
   ]
  },
  {
   "cell_type": "code",
   "execution_count": 12,
   "id": "9d4a6c13",
   "metadata": {},
   "outputs": [
    {
     "name": "stderr",
     "output_type": "stream",
     "text": [
      "Using custom data configuration muhammadravi251001--multilingual-nli-dataset-7737087635c3493e\n",
      "Reusing dataset csv (/root/.cache/huggingface/datasets/muhammadravi251001___csv/muhammadravi251001--multilingual-nli-dataset-7737087635c3493e/0.0.0/433e0ccc46f9880962cc2b12065189766fbb2bee57a221866138fb9203c83519)\n"
     ]
    },
    {
     "data": {
      "application/vnd.jupyter.widget-view+json": {
       "model_id": "c0753be4199f4fa1befe8d1906aec7c2",
       "version_major": 2,
       "version_minor": 0
      },
      "text/plain": [
       "  0%|          | 0/3 [00:00<?, ?it/s]"
      ]
     },
     "metadata": {},
     "output_type": "display_data"
    }
   ],
   "source": [
    "from datasets import load_dataset, Dataset, DatasetDict\n",
    "import pandas as pd\n",
    "\n",
    "data_files = {\"train\": \"multilingual_nli_train_df.csv\", \n",
    "              \"validation\": \"multilingual_nli_validation_df.csv\", \n",
    "              \"test\": \"multilingual_nli_test_df.csv\"}\n",
    "\n",
    "dataset = load_dataset(\"muhammadravi251001/multilingual-nli-dataset\", data_files=data_files)\n",
    "\n",
    "selected_columns = [\"premise\", \"hypothesis\", \"label\"]\n",
    "# selected_columns = dataset.column_names['train'] # Uncomment this line to retrieve all of the columns\n",
    "\n",
    "df_train = pd.DataFrame(dataset[\"train\"])\n",
    "df_train = df_train[selected_columns]\n",
    "\n",
    "df_val = pd.DataFrame(dataset[\"validation\"])\n",
    "df_val = df_val[selected_columns]\n",
    "\n",
    "df_test = pd.DataFrame(dataset[\"test\"])\n",
    "df_test = df_test[selected_columns]\n",
    "\n",
    "train_dataset = Dataset.from_dict(df_train)\n",
    "validation_dataset = Dataset.from_dict(df_val)\n",
    "test_dataset = Dataset.from_dict(df_test)\n",
    "\n",
    "dataset = DatasetDict({\"train\": train_dataset, \"validation\": validation_dataset, \"test\": test_dataset})\n",
    "\n",
    "df_multilingual_train = pd.DataFrame(dataset['train'])\n",
    "df_multilingual_validation = pd.DataFrame(dataset['validation'])\n",
    "df_multilingual_test = pd.DataFrame(dataset['test'])"
   ]
  },
  {
   "cell_type": "code",
   "execution_count": 13,
   "id": "54bec75b",
   "metadata": {},
   "outputs": [
    {
     "data": {
      "text/plain": [
       "403032"
      ]
     },
     "execution_count": 13,
     "metadata": {},
     "output_type": "execute_result"
    }
   ],
   "source": [
    "len(data_augmented_train_df)"
   ]
  },
  {
   "cell_type": "code",
   "execution_count": 14,
   "id": "400df65d",
   "metadata": {},
   "outputs": [
    {
     "data": {
      "text/plain": [
       "10084"
      ]
     },
     "execution_count": 14,
     "metadata": {},
     "output_type": "execute_result"
    }
   ],
   "source": [
    "len(df_idk_mrc_nli_train)"
   ]
  },
  {
   "cell_type": "code",
   "execution_count": 15,
   "id": "1bcb44d8",
   "metadata": {},
   "outputs": [
    {
     "data": {
      "text/plain": [
       "402989"
      ]
     },
     "execution_count": 15,
     "metadata": {},
     "output_type": "execute_result"
    }
   ],
   "source": [
    "len(df_multilingual_train)"
   ]
  },
  {
   "cell_type": "code",
   "execution_count": 16,
   "id": "f8b23b19",
   "metadata": {},
   "outputs": [
    {
     "data": {
      "text/plain": [
       "43"
      ]
     },
     "execution_count": 16,
     "metadata": {},
     "output_type": "execute_result"
    }
   ],
   "source": [
    "len(data_augmented_train_df) - len(df_multilingual_train)"
   ]
  }
 ],
 "metadata": {
  "kernelspec": {
   "display_name": "Python 3 (ipykernel)",
   "language": "python",
   "name": "python3"
  },
  "language_info": {
   "codemirror_mode": {
    "name": "ipython",
    "version": 3
   },
   "file_extension": ".py",
   "mimetype": "text/x-python",
   "name": "python",
   "nbconvert_exporter": "python",
   "pygments_lexer": "ipython3",
   "version": "3.8.10"
  }
 },
 "nbformat": 4,
 "nbformat_minor": 5
}
