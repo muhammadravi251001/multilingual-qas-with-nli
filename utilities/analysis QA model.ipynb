{
 "cells": [
  {
   "cell_type": "code",
   "execution_count": 21,
   "id": "053eac7b",
   "metadata": {},
   "outputs": [
    {
     "name": "stdout",
     "output_type": "stream",
     "text": [
      "--2023-10-31 10:17:10--  https://huggingface.co/muhammadravi251001/fine-tuned-DatasetQAS-Squad-ID-with-xlm-roberta-large-without-ITTL-without-freeze-LR-1e-05/raw/main/results/output/output_df.csv\n",
      "Resolving huggingface.co (huggingface.co)... 13.33.33.20, 13.33.33.110, 13.33.33.102, ...\n",
      "Connecting to huggingface.co (huggingface.co)|13.33.33.20|:443... connected.\n",
      "HTTP request sent, awaiting response... 200 OK\n",
      "Length: 133 [text/plain]\n",
      "Saving to: ‘squadid_pred.csv’\n",
      "\n",
      "squadid_pred.csv    100%[===================>]     133  --.-KB/s    in 0s      \n",
      "\n",
      "2023-10-31 10:17:13 (26.4 MB/s) - ‘squadid_pred.csv’ saved [133/133]\n",
      "\n",
      "--2023-10-31 10:17:14--  https://huggingface.co/muhammadravi251001/fine-tuned-DatasetQAS-TYDI-QA-ID-with-xlm-roberta-large-without-ITTL-without-freeze-LR-1e-05/raw/main/results/output/output_df.csv\n",
      "Resolving huggingface.co (huggingface.co)... 13.33.33.20, 13.33.33.102, 13.33.33.110, ...\n",
      "Connecting to huggingface.co (huggingface.co)|13.33.33.20|:443... connected.\n",
      "HTTP request sent, awaiting response... 200 OK\n",
      "Length: 607899 (594K) [text/plain]\n",
      "Saving to: ‘tydiqaid_pred.csv’\n",
      "\n",
      "tydiqaid_pred.csv   100%[===================>] 593.65K  --.-KB/s    in 0.08s   \n",
      "\n",
      "2023-10-31 10:17:14 (7.46 MB/s) - ‘tydiqaid_pred.csv’ saved [607899/607899]\n",
      "\n",
      "--2023-10-31 10:17:15--  https://huggingface.co/muhammadravi251001/fine-tuned-DatasetQAS-IDK-MRC-with-xlm-roberta-large-without-ITTL-without-freeze-LR-1e-05/raw/main/results/output/output_df.csv\n",
      "Resolving huggingface.co (huggingface.co)... 13.33.33.55, 13.33.33.20, 13.33.33.102, ...\n",
      "Connecting to huggingface.co (huggingface.co)|13.33.33.55|:443... connected.\n",
      "HTTP request sent, awaiting response... 200 OK\n",
      "Length: 571549 (558K) [text/plain]\n",
      "Saving to: ‘idkmrc_pred.csv’\n",
      "\n",
      "idkmrc_pred.csv     100%[===================>] 558.15K  2.28MB/s    in 0.2s    \n",
      "\n",
      "2023-10-31 10:17:15 (2.28 MB/s) - ‘idkmrc_pred.csv’ saved [571549/571549]\n",
      "\n"
     ]
    }
   ],
   "source": [
    "import os\n",
    "\n",
    "if not os.path.isfile(\"squadid_pred.csv\"):\n",
    "    !wget -O \"squadid_pred.csv\" \"https://huggingface.co/muhammadravi251001/fine-tuned-DatasetQAS-Squad-ID-with-xlm-roberta-large-without-ITTL-without-freeze-LR-1e-05/resolve/main/results/output/output_df.csv\"\n",
    "\n",
    "if not os.path.isfile(\"tydiqaid_pred.csv\"):\n",
    "    !wget -O \"tydiqaid_pred.csv\" \"https://huggingface.co/muhammadravi251001/fine-tuned-DatasetQAS-TYDI-QA-ID-with-xlm-roberta-large-without-ITTL-without-freeze-LR-1e-05/raw/main/results/output/output_df.csv\"\n",
    "\n",
    "if not os.path.isfile(\"idkmrc_pred.csv\"):\n",
    "    !wget -O \"idkmrc_pred.csv\" \"https://huggingface.co/muhammadravi251001/fine-tuned-DatasetQAS-IDK-MRC-with-xlm-roberta-large-without-ITTL-without-freeze-LR-1e-05/raw/main/results/output/output_df.csv\""
   ]
  },
  {
   "cell_type": "code",
   "execution_count": 57,
   "id": "80fb95d1",
   "metadata": {},
   "outputs": [],
   "source": [
    "import pandas as pd\n",
    "\n",
    "squadid_df = pd.read_csv(\"squadid_pred.csv\", index_col=0).drop(columns=['Answer Type', 'Reasoning Type']).fillna('')\n",
    "tydiqaid_df = pd.read_csv(\"tydiqaid_pred.csv\", index_col=0).drop(columns=['Answer Type', 'Reasoning Type']).fillna('')\n",
    "idkmrc_df = pd.read_csv(\"idkmrc_pred.csv\", index_col=0).drop(columns=['Answer Type', 'Reasoning Type']).fillna('')"
   ]
  },
  {
   "cell_type": "code",
   "execution_count": 93,
   "id": "c8848806",
   "metadata": {},
   "outputs": [],
   "source": [
    "def filtering_only_wrong_answer(data):\n",
    "    return data[data['Prediction Answer'] != data['Gold Answer']].reset_index(drop=True)"
   ]
  },
  {
   "cell_type": "code",
   "execution_count": 94,
   "id": "1a5583cd",
   "metadata": {},
   "outputs": [],
   "source": [
    "wrong_squadid_df = filtering_only_wrong_answer(squadid_df)\n",
    "wrong_tydiqaid_df = filtering_only_wrong_answer(tydiqaid_df)\n",
    "wrong_idkmrc_df = filtering_only_wrong_answer(idkmrc_df)"
   ]
  },
  {
   "cell_type": "markdown",
   "id": "0d09c4a9",
   "metadata": {},
   "source": [
    "# Analyse unanswerable vs answerable row"
   ]
  },
  {
   "cell_type": "code",
   "execution_count": 115,
   "id": "debef0e0",
   "metadata": {},
   "outputs": [],
   "source": [
    "def counting_reversed_wrong_unanswerable(data, name):\n",
    "    \n",
    "    print(name.upper())\n",
    "    print()\n",
    "    \n",
    "    count_empty_pred_and_non_empty_gold = ((data['Prediction Answer'] == '') & (data['Gold Answer'] != '')).sum()\n",
    "    count_non_empty_pred_and_empty_gold = ((data['Prediction Answer'] != '') & (data['Gold Answer'] == '')).sum()\n",
    "    \n",
    "    total_wrong_data = len(data)\n",
    "    \n",
    "    placeholder1 = f\"{round(count_empty_pred_and_non_empty_gold / total_wrong_data, 3) * 100}%\"\n",
    "    placeholder2 = f\"{round(count_non_empty_pred_and_empty_gold / total_wrong_data, 3) * 100}%\"\n",
    "    \n",
    "    print(f\"Banyak data yang diprediksi UNANS tetapi gold-nya ANS: {count_empty_pred_and_non_empty_gold} ({placeholder1})\")\n",
    "    print(f\"Banyak data yang diprediksi ANS tetapi gold-nya UNANS: {count_non_empty_pred_and_empty_gold} ({placeholder2})\")\n",
    "    print(f\"Banyak keseluruhan data yang prediksinya berbeda dengan gold: {total_wrong_data}\")\n",
    "    \n",
    "    print(\"=\" * 70)"
   ]
  },
  {
   "cell_type": "code",
   "execution_count": 128,
   "id": "4a7c34db",
   "metadata": {},
   "outputs": [
    {
     "name": "stdout",
     "output_type": "stream",
     "text": [
      "ANALYSE THIS\n",
      "\n",
      "SQUADID\n",
      "\n",
      "Banyak data yang diprediksi UNANS tetapi gold-nya ANS: 384 (6.4%)\n",
      "Banyak data yang diprediksi ANS tetapi gold-nya UNANS: 966 (16.1%)\n",
      "Banyak keseluruhan data yang prediksinya berbeda dengan gold: 5996\n",
      "======================================================================\n",
      "TYDIQAID\n",
      "\n",
      "Banyak data yang diprediksi UNANS tetapi gold-nya ANS: 21 (7.3%)\n",
      "Banyak data yang diprediksi ANS tetapi gold-nya UNANS: 1 (0.3%)\n",
      "Banyak keseluruhan data yang prediksinya berbeda dengan gold: 287\n",
      "======================================================================\n",
      "IDKMRC\n",
      "\n",
      "Banyak data yang diprediksi UNANS tetapi gold-nya ANS: 43 (23.0%)\n",
      "Banyak data yang diprediksi ANS tetapi gold-nya UNANS: 32 (17.1%)\n",
      "Banyak keseluruhan data yang prediksinya berbeda dengan gold: 187\n",
      "======================================================================\n"
     ]
    }
   ],
   "source": [
    "print(\"ANALYSE THIS\\n\")\n",
    "\n",
    "counting_reversed_wrong_unanswerable(wrong_squadid_df, \"squadid\")\n",
    "counting_reversed_wrong_unanswerable(wrong_tydiqaid_df, \"tydiqaid\")\n",
    "counting_reversed_wrong_unanswerable(wrong_idkmrc_df, \"idkmrc\")"
   ]
  },
  {
   "cell_type": "markdown",
   "id": "eba4dfc5",
   "metadata": {},
   "source": [
    "# Analyse word vs sentence row"
   ]
  },
  {
   "cell_type": "code",
   "execution_count": 126,
   "id": "05dc616a",
   "metadata": {},
   "outputs": [],
   "source": [
    "def counting_length_answer(data, name):\n",
    "    \n",
    "    print(name.upper())\n",
    "    print()\n",
    "    \n",
    "    pred_answer_length = data['Prediction Answer'].str.split().apply(len)\n",
    "    gold_answer_length = data['Gold Answer'].str.split().apply(len)\n",
    "    \n",
    "    count_word_pred_and_sentence_gold = ((pred_answer_length == 1) & (gold_answer_length > 1)).sum()\n",
    "    count_sentence_pred_and_word_gold = ((pred_answer_length > 1) & (gold_answer_length == 1)).sum()\n",
    "    \n",
    "    total_wrong_data = len(data)\n",
    "    \n",
    "    placeholder1 = f\"{round(count_word_pred_and_sentence_gold / total_wrong_data, 3) * 100}%\"\n",
    "    placeholder2 = f\"{round(count_sentence_pred_and_word_gold / total_wrong_data, 3) * 100}%\"\n",
    "    \n",
    "    print(f\"Banyak data yang diprediksi WORD tetapi gold-nya SENTENCE: {count_word_pred_and_sentence_gold} ({placeholder1})\")\n",
    "    print(f\"Banyak data yang diprediksi SENTENCE tetapi gold-nya WORD: {count_sentence_pred_and_word_gold} ({placeholder2})\")\n",
    "    print(f\"Banyak keseluruhan data yang prediksinya berbeda dengan gold: {total_wrong_data}\")\n",
    "    \n",
    "    print(\"=\" * 70)"
   ]
  },
  {
   "cell_type": "code",
   "execution_count": 129,
   "id": "6aff01a0",
   "metadata": {},
   "outputs": [
    {
     "name": "stdout",
     "output_type": "stream",
     "text": [
      "ANALYSE THIS\n",
      "\n",
      "SQUADID\n",
      "\n",
      "Banyak data yang diprediksi WORD tetapi gold-nya SENTENCE: 505 (8.4%)\n",
      "Banyak data yang diprediksi SENTENCE tetapi gold-nya WORD: 817 (13.600000000000001%)\n",
      "Banyak keseluruhan data yang prediksinya berbeda dengan gold: 5996\n",
      "======================================================================\n",
      "TYDIQAID\n",
      "\n",
      "Banyak data yang diprediksi WORD tetapi gold-nya SENTENCE: 24 (8.4%)\n",
      "Banyak data yang diprediksi SENTENCE tetapi gold-nya WORD: 44 (15.299999999999999%)\n",
      "Banyak keseluruhan data yang prediksinya berbeda dengan gold: 287\n",
      "======================================================================\n",
      "IDKMRC\n",
      "\n",
      "Banyak data yang diprediksi WORD tetapi gold-nya SENTENCE: 6 (3.2%)\n",
      "Banyak data yang diprediksi SENTENCE tetapi gold-nya WORD: 18 (9.6%)\n",
      "Banyak keseluruhan data yang prediksinya berbeda dengan gold: 187\n",
      "======================================================================\n"
     ]
    }
   ],
   "source": [
    "print(\"ANALYSE THIS\\n\")\n",
    "\n",
    "counting_length_answer(wrong_squadid_df, \"squadid\")\n",
    "counting_length_answer(wrong_tydiqaid_df, \"tydiqaid\")\n",
    "counting_length_answer(wrong_idkmrc_df, \"idkmrc\")"
   ]
  },
  {
   "cell_type": "markdown",
   "id": "72d09038",
   "metadata": {},
   "source": [
    "# Analyse overlapping answer"
   ]
  },
  {
   "cell_type": "code",
   "execution_count": 140,
   "id": "1ab97d58",
   "metadata": {},
   "outputs": [],
   "source": [
    "def count_overlapping(row):\n",
    "    pred_words = set(row['Prediction Answer'].split())\n",
    "    gold_words = set(row['Gold Answer'].split())\n",
    "    return 1 if len(pred_words.intersection(gold_words)) > 0 else 0\n",
    "\n",
    "def counting_overlapping_answer(data, name):\n",
    "    \n",
    "    print(name.upper())\n",
    "    print()\n",
    "    \n",
    "    overlap_count = data.apply(count_overlapping, axis=1).sum()\n",
    "    \n",
    "    total_wrong_data = len(data)\n",
    "    \n",
    "    placeholder1 = f\"{round(overlap_count / total_wrong_data, 3) * 100}%\"\n",
    "    \n",
    "    print(f\"Banyak data yang diprediksi overlap dengan gold: {overlap_count} ({placeholder1})\")\n",
    "    print(f\"Banyak keseluruhan data yang prediksinya berbeda dengan gold: {total_wrong_data}\")\n",
    "    \n",
    "    print(\"=\" * 70)"
   ]
  },
  {
   "cell_type": "code",
   "execution_count": 141,
   "id": "3cfcb226",
   "metadata": {},
   "outputs": [
    {
     "name": "stdout",
     "output_type": "stream",
     "text": [
      "ANALYSE THIS\n",
      "\n",
      "SQUADID\n",
      "\n",
      "Banyak data yang diprediksi overlap dengan gold: 3354 (55.900000000000006%)\n",
      "Banyak keseluruhan data yang prediksinya berbeda dengan gold: 5996\n",
      "======================================================================\n",
      "TYDIQAID\n",
      "\n",
      "Banyak data yang diprediksi overlap dengan gold: 182 (63.4%)\n",
      "Banyak keseluruhan data yang prediksinya berbeda dengan gold: 287\n",
      "======================================================================\n",
      "IDKMRC\n",
      "\n",
      "Banyak data yang diprediksi overlap dengan gold: 92 (49.2%)\n",
      "Banyak keseluruhan data yang prediksinya berbeda dengan gold: 187\n",
      "======================================================================\n"
     ]
    }
   ],
   "source": [
    "print(\"ANALYSE THIS\\n\")\n",
    "\n",
    "counting_overlapping_answer(wrong_squadid_df, \"squadid\")\n",
    "counting_overlapping_answer(wrong_tydiqaid_df, \"tydiqaid\")\n",
    "counting_overlapping_answer(wrong_idkmrc_df, \"idkmrc\")"
   ]
  },
  {
   "cell_type": "code",
   "execution_count": 99,
   "id": "c5676234",
   "metadata": {},
   "outputs": [],
   "source": [
    "def sampling_data(data, sample_num=100):\n",
    "    return data.sample(n=sample_num).reset_index(drop=True)"
   ]
  },
  {
   "cell_type": "code",
   "execution_count": 100,
   "id": "00d3ba67",
   "metadata": {},
   "outputs": [],
   "source": [
    "sampled_squadid_df = sampling_data(wrong_squadid_df)\n",
    "sampled_tydiqaid_df = sampling_data(wrong_tydiqaid_df)\n",
    "sampled_idkmrc_df = sampling_data(wrong_idkmrc_df)"
   ]
  },
  {
   "cell_type": "code",
   "execution_count": null,
   "id": "b682c48b",
   "metadata": {},
   "outputs": [],
   "source": []
  }
 ],
 "metadata": {
  "kernelspec": {
   "display_name": "Python 3 (ipykernel)",
   "language": "python",
   "name": "python3"
  },
  "language_info": {
   "codemirror_mode": {
    "name": "ipython",
    "version": 3
   },
   "file_extension": ".py",
   "mimetype": "text/x-python",
   "name": "python",
   "nbconvert_exporter": "python",
   "pygments_lexer": "ipython3",
   "version": "3.8.10"
  }
 },
 "nbformat": 4,
 "nbformat_minor": 5
}
