{
 "cells": [
  {
   "cell_type": "code",
   "execution_count": 1,
   "id": "276305cf",
   "metadata": {},
   "outputs": [],
   "source": [
    "id2label = {0: 'entailment', 1: 'neutral', 2: 'contradiction'}\n",
    "label2id = {'entailment': 0, 'neutral': 1, 'contradiction': 2}"
   ]
  },
  {
   "cell_type": "code",
   "execution_count": 2,
   "id": "5d755fa7",
   "metadata": {},
   "outputs": [
    {
     "name": "stderr",
     "output_type": "stream",
     "text": [
      "Using custom data configuration muhammadravi251001--debug-entailment-9302a75e3ff6ac83\n",
      "Reusing dataset csv (/root/.cache/huggingface/datasets/muhammadravi251001___csv/muhammadravi251001--debug-entailment-9302a75e3ff6ac83/0.0.0/433e0ccc46f9880962cc2b12065189766fbb2bee57a221866138fb9203c83519)\n"
     ]
    },
    {
     "data": {
      "application/vnd.jupyter.widget-view+json": {
       "model_id": "77c14b0d193f49b5aac0ec214a0d24da",
       "version_major": 2,
       "version_minor": 0
      },
      "text/plain": [
       "  0%|          | 0/3 [00:00<?, ?it/s]"
      ]
     },
     "metadata": {},
     "output_type": "display_data"
    }
   ],
   "source": [
    "from datasets import load_dataset, Dataset, DatasetDict\n",
    "import pandas as pd\n",
    "\n",
    "data_files = {\"train\": \"data_nli_train_df_keep.csv\", \n",
    "              \"validation\": \"data_nli_val_df_keep.csv\", \n",
    "              \"test\": \"data_nli_test_df_keep.csv\"}\n",
    "\n",
    "dataset = load_dataset(\"muhammadravi251001/debug-entailment\", data_files=data_files)\n",
    "\n",
    "selected_columns = [\"premise\", \"hypothesis\", \"label\"]\n",
    "# selected_columns = dataset.column_names['train'] # Uncomment this line to retrieve all of the columns\n",
    "\n",
    "df_train = pd.DataFrame(dataset[\"train\"])\n",
    "df_train = df_train[selected_columns]\n",
    "\n",
    "df_val = pd.DataFrame(dataset[\"validation\"])\n",
    "df_val = df_val[selected_columns]\n",
    "\n",
    "df_test = pd.DataFrame(dataset[\"test\"])\n",
    "df_test = df_test[selected_columns]\n",
    "\n",
    "train_dataset = Dataset.from_dict(df_train)\n",
    "validation_dataset = Dataset.from_dict(df_val)\n",
    "test_dataset = Dataset.from_dict(df_test)\n",
    "\n",
    "dataset = DatasetDict({\"train\": train_dataset, \"validation\": validation_dataset, \"test\": test_dataset})\n",
    "\n",
    "df_idk_mrc_nli_train = pd.DataFrame(dataset['train'])\n",
    "df_idk_mrc_nli_validation = pd.DataFrame(dataset['validation'])\n",
    "df_idk_mrc_nli_test = pd.DataFrame(dataset['test'])"
   ]
  },
  {
   "cell_type": "code",
   "execution_count": 3,
   "id": "d90b081f",
   "metadata": {},
   "outputs": [
    {
     "name": "stderr",
     "output_type": "stream",
     "text": [
      "Using custom data configuration muhammadravi251001--multilingual-nli-dataset-24576cc338eb191a\n",
      "Reusing dataset csv (/root/.cache/huggingface/datasets/muhammadravi251001___csv/muhammadravi251001--multilingual-nli-dataset-24576cc338eb191a/0.0.0/433e0ccc46f9880962cc2b12065189766fbb2bee57a221866138fb9203c83519)\n"
     ]
    },
    {
     "data": {
      "application/vnd.jupyter.widget-view+json": {
       "model_id": "a2cdf80292d9456591309c5c98339b55",
       "version_major": 2,
       "version_minor": 0
      },
      "text/plain": [
       "  0%|          | 0/3 [00:00<?, ?it/s]"
      ]
     },
     "metadata": {},
     "output_type": "display_data"
    }
   ],
   "source": [
    "from datasets import load_dataset, Dataset, DatasetDict\n",
    "import pandas as pd\n",
    "\n",
    "data_files = {\"train\": \"multilingual_nli_train_df.csv\", \n",
    "              \"validation\": \"multilingual_nli_validation_df.csv\", \n",
    "              \"test\": \"multilingual_nli_test_df.csv\"}\n",
    "\n",
    "dataset = load_dataset(\"muhammadravi251001/multilingual-nli-dataset\", data_files=data_files)\n",
    "\n",
    "selected_columns = [\"premise\", \"hypothesis\", \"label\"]\n",
    "# selected_columns = dataset.column_names['train'] # Uncomment this line to retrieve all of the columns\n",
    "\n",
    "df_train = pd.DataFrame(dataset[\"train\"])\n",
    "df_train = df_train[selected_columns]\n",
    "\n",
    "df_val = pd.DataFrame(dataset[\"validation\"])\n",
    "df_val = df_val[selected_columns]\n",
    "\n",
    "df_test = pd.DataFrame(dataset[\"test\"])\n",
    "df_test = df_test[selected_columns]\n",
    "\n",
    "train_dataset = Dataset.from_dict(df_train)\n",
    "validation_dataset = Dataset.from_dict(df_val)\n",
    "test_dataset = Dataset.from_dict(df_test)\n",
    "\n",
    "dataset = DatasetDict({\"train\": train_dataset, \"validation\": validation_dataset, \"test\": test_dataset})\n",
    "\n",
    "df_augmented_train = pd.DataFrame(dataset['train'])\n",
    "df_augmented_validation = pd.DataFrame(dataset['validation'])\n",
    "df_augmented_test = pd.DataFrame(dataset['test'])"
   ]
  },
  {
   "cell_type": "code",
   "execution_count": 4,
   "id": "f845448b",
   "metadata": {},
   "outputs": [],
   "source": [
    "data_multingual_train_df = pd.concat([df_idk_mrc_nli_train, df_augmented_train])\n",
    "data_multingual_validation_df = pd.concat([df_idk_mrc_nli_validation, df_augmented_validation])\n",
    "data_multingual_test_df = pd.concat([df_idk_mrc_nli_test, df_augmented_test])"
   ]
  },
  {
   "cell_type": "code",
   "execution_count": 5,
   "id": "c2c21480",
   "metadata": {},
   "outputs": [],
   "source": [
    "data_multingual_train_df.to_csv(\"multilingual_nli_train_df.csv\", index=False)\n",
    "data_multingual_validation_df.to_csv(\"multilingual_nli_validation_df.csv\", index=False)\n",
    "data_multingual_test_df.to_csv(\"multilingual_nli_test_df.csv\", index=False)"
   ]
  }
 ],
 "metadata": {
  "kernelspec": {
   "display_name": "Python 3 (ipykernel)",
   "language": "python",
   "name": "python3"
  },
  "language_info": {
   "codemirror_mode": {
    "name": "ipython",
    "version": 3
   },
   "file_extension": ".py",
   "mimetype": "text/x-python",
   "name": "python",
   "nbconvert_exporter": "python",
   "pygments_lexer": "ipython3",
   "version": "3.8.10"
  }
 },
 "nbformat": 4,
 "nbformat_minor": 5
}
