{
 "cells": [
  {
   "cell_type": "code",
   "execution_count": 1,
   "id": "554cc349",
   "metadata": {},
   "outputs": [],
   "source": [
    "from datasets import load_dataset\n",
    "import pandas as pd"
   ]
  },
  {
   "cell_type": "code",
   "execution_count": 2,
   "id": "ab2eed24",
   "metadata": {},
   "outputs": [],
   "source": [
    "id2label = {0: 'entailment', 1: 'neutral', 2: 'contradiction'}\n",
    "label2id = {'entailment': 0, 'neutral': 1, 'contradiction': 2}"
   ]
  },
  {
   "cell_type": "code",
   "execution_count": 3,
   "id": "9437e18b",
   "metadata": {},
   "outputs": [
    {
     "name": "stderr",
     "output_type": "stream",
     "text": [
      "Reusing dataset indo_nli (/root/.cache/huggingface/datasets/indo_nli/indonli/1.1.0/d34041bd1d1a555a4bcb4ffdb9fe904778da6f7c5343209fc1485dd68121cb62)\n"
     ]
    },
    {
     "data": {
      "application/vnd.jupyter.widget-view+json": {
       "model_id": "2e61d89b76374329bd40dfa5072830fb",
       "version_major": 2,
       "version_minor": 0
      },
      "text/plain": [
       "  0%|          | 0/4 [00:00<?, ?it/s]"
      ]
     },
     "metadata": {},
     "output_type": "display_data"
    }
   ],
   "source": [
    "data_basic = load_dataset('indonli')\n",
    "\n",
    "data_indonli_test_lay_df = pd.DataFrame(data_basic[\"test_lay\"])\n",
    "data_indonli_test_expert_df = pd.DataFrame(data_basic[\"test_expert\"])\n",
    "\n",
    "data_indonli_train_df = pd.DataFrame(data_basic[\"train\"])\n",
    "data_indonli_validation_df = pd.DataFrame(data_basic[\"validation\"])\n",
    "data_indonli_test_df = pd.concat([data_indonli_test_lay_df, data_indonli_test_expert_df])\n",
    "\n",
    "data_indonli_train_df['label'] = data_indonli_train_df['label'].replace(id2label)\n",
    "data_indonli_validation_df['label'] = data_indonli_validation_df['label'].replace(id2label)\n",
    "data_indonli_test_df['label'] = data_indonli_test_df['label'].replace(id2label)"
   ]
  },
  {
   "cell_type": "code",
   "execution_count": 4,
   "id": "63c17e7b",
   "metadata": {},
   "outputs": [],
   "source": [
    "data_mnli_translated_train_df = pd.read_json(path_or_buf='train.jsonl', lines=True)\n",
    "data_mnli_translated_validation_df = pd.read_json(path_or_buf='dev.jsonl', lines=True)\n",
    "\n",
    "data_mnli_translated_train_df = data_mnli_translated_train_df[['sentence1', 'sentence2', 'gold_label']]\n",
    "data_mnli_translated_train_df = data_mnli_translated_train_df.rename(columns={'sentence1': 'premise', \n",
    "                                                                              'sentence2': 'hypothesis', \n",
    "                                                                              'gold_label': 'label'})\n",
    "\n",
    "data_mnli_translated_validation_df = data_mnli_translated_validation_df[['sentence1', 'sentence2', 'gold_label']]\n",
    "data_mnli_translated_validation_df = data_mnli_translated_validation_df.rename(columns={'sentence1': 'premise', \n",
    "                                                                              'sentence2': 'hypothesis', \n",
    "                                                                              'gold_label': 'label'})\n",
    "\n",
    "data_mnli_translated_train_df = data_mnli_translated_train_df[data_mnli_translated_train_df.label != '-']\n",
    "data_mnli_translated_validation_df = data_mnli_translated_validation_df[data_mnli_translated_validation_df.label != '-']"
   ]
  },
  {
   "cell_type": "code",
   "execution_count": 5,
   "id": "927c36d1",
   "metadata": {},
   "outputs": [],
   "source": [
    "data_augmented_train_df = pd.concat([data_indonli_train_df, data_mnli_translated_train_df])\n",
    "data_augmented_validation_df = pd.concat([data_indonli_validation_df, data_mnli_translated_validation_df])\n",
    "data_augmented_test_df = data_indonli_test_df"
   ]
  },
  {
   "cell_type": "code",
   "execution_count": 6,
   "id": "330c6c3b",
   "metadata": {},
   "outputs": [],
   "source": [
    "data_augmented_train_df.to_csv(\"multilingual_nli_train_df.csv\", index=False)\n",
    "data_augmented_validation_df.to_csv(\"multilingual_nli_validation_df.csv\", index=False)\n",
    "data_augmented_test_df.to_csv(\"multilingual_nli_test_df.csv\", index=False)"
   ]
  },
  {
   "cell_type": "code",
   "execution_count": null,
   "id": "bd10461b",
   "metadata": {},
   "outputs": [],
   "source": []
  }
 ],
 "metadata": {
  "kernelspec": {
   "display_name": "Python 3 (ipykernel)",
   "language": "python",
   "name": "python3"
  },
  "language_info": {
   "codemirror_mode": {
    "name": "ipython",
    "version": 3
   },
   "file_extension": ".py",
   "mimetype": "text/x-python",
   "name": "python",
   "nbconvert_exporter": "python",
   "pygments_lexer": "ipython3",
   "version": "3.8.10"
  }
 },
 "nbformat": 4,
 "nbformat_minor": 5
}
