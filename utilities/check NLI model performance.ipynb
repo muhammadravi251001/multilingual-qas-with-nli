{
 "cells": [
  {
   "cell_type": "code",
   "execution_count": 1,
   "id": "9413721c",
   "metadata": {
    "scrolled": true
   },
   "outputs": [
    {
     "name": "stdout",
     "output_type": "stream",
     "text": [
      "Wed Sep 13 04:11:48 2023       \n",
      "+-----------------------------------------------------------------------------+\n",
      "| NVIDIA-SMI 470.161.03   Driver Version: 470.161.03   CUDA Version: 11.5     |\n",
      "|-------------------------------+----------------------+----------------------+\n",
      "| GPU  Name        Persistence-M| Bus-Id        Disp.A | Volatile Uncorr. ECC |\n",
      "| Fan  Temp  Perf  Pwr:Usage/Cap|         Memory-Usage | GPU-Util  Compute M. |\n",
      "|                               |                      |               MIG M. |\n",
      "|===============================+======================+======================|\n",
      "|   0  Tesla V100-SXM2...  On   | 00000000:06:00.0 Off |                    0 |\n",
      "| N/A   33C    P0    43W / 300W |      3MiB / 32510MiB |      0%      Default |\n",
      "|                               |                      |                  N/A |\n",
      "+-------------------------------+----------------------+----------------------+\n",
      "|   1  Tesla V100-SXM2...  On   | 00000000:07:00.0 Off |                    0 |\n",
      "| N/A   34C    P0    42W / 300W |      3MiB / 32510MiB |      0%      Default |\n",
      "|                               |                      |                  N/A |\n",
      "+-------------------------------+----------------------+----------------------+\n",
      "|   2  Tesla V100-SXM2...  On   | 00000000:0A:00.0 Off |                    0 |\n",
      "| N/A   48C    P0   103W / 300W |  17290MiB / 32510MiB |     25%      Default |\n",
      "|                               |                      |                  N/A |\n",
      "+-------------------------------+----------------------+----------------------+\n",
      "|   3  Tesla V100-SXM2...  On   | 00000000:0B:00.0 Off |                    0 |\n",
      "| N/A   35C    P0    43W / 300W |      3MiB / 32510MiB |      0%      Default |\n",
      "|                               |                      |                  N/A |\n",
      "+-------------------------------+----------------------+----------------------+\n",
      "|   4  Tesla V100-SXM2...  On   | 00000000:85:00.0 Off |                    0 |\n",
      "| N/A   48C    P0   113W / 300W |  18381MiB / 32510MiB |     35%      Default |\n",
      "|                               |                      |                  N/A |\n",
      "+-------------------------------+----------------------+----------------------+\n",
      "|   5  Tesla V100-SXM2...  On   | 00000000:86:00.0 Off |                    0 |\n",
      "| N/A   51C    P0   119W / 300W |  31842MiB / 32510MiB |     93%      Default |\n",
      "|                               |                      |                  N/A |\n",
      "+-------------------------------+----------------------+----------------------+\n",
      "|   6  Tesla V100-SXM2...  On   | 00000000:89:00.0 Off |                    0 |\n",
      "| N/A   39C    P0    44W / 300W |      3MiB / 32510MiB |      0%      Default |\n",
      "|                               |                      |                  N/A |\n",
      "+-------------------------------+----------------------+----------------------+\n",
      "|   7  Tesla V100-SXM2...  On   | 00000000:8A:00.0 Off |                    0 |\n",
      "| N/A   36C    P0    57W / 300W |   1972MiB / 32510MiB |      0%      Default |\n",
      "|                               |                      |                  N/A |\n",
      "+-------------------------------+----------------------+----------------------+\n",
      "                                                                               \n",
      "+-----------------------------------------------------------------------------+\n",
      "| Processes:                                                                  |\n",
      "|  GPU   GI   CI        PID   Type   Process name                  GPU Memory |\n",
      "|        ID   ID                                                   Usage      |\n",
      "|=============================================================================|\n",
      "+-----------------------------------------------------------------------------+\n"
     ]
    }
   ],
   "source": [
    "!nvidia-smi"
   ]
  },
  {
   "cell_type": "code",
   "execution_count": 2,
   "id": "757e1223",
   "metadata": {},
   "outputs": [],
   "source": [
    "import os\n",
    "os.environ['CUDA_VISIBLE_DEVICES'] = '6'"
   ]
  },
  {
   "cell_type": "code",
   "execution_count": 3,
   "id": "7673c4f9",
   "metadata": {},
   "outputs": [],
   "source": [
    "import torch\n",
    "device = torch.device(\"cuda\" if torch.cuda.is_available() else \"cpu\")"
   ]
  },
  {
   "cell_type": "code",
   "execution_count": null,
   "id": "545844c3",
   "metadata": {},
   "outputs": [],
   "source": [
    "import pandas as pd\n",
    "import numpy as np\n",
    "import requests, string, re, collections, math\n",
    "from tqdm import tqdm\n",
    "from transformers import pipeline"
   ]
  },
  {
   "cell_type": "markdown",
   "id": "b63ec5be",
   "metadata": {},
   "source": [
    "# Download output of baseline"
   ]
  },
  {
   "cell_type": "code",
   "execution_count": null,
   "id": "f6bc0320",
   "metadata": {},
   "outputs": [],
   "source": [
    "def remove_punctuation(text):\n",
    "    return text.strip(string.punctuation)\n",
    "\n",
    "def return_overlap_between_gold_and_pred(data):\n",
    "    \n",
    "    data['is_overlap'] = \"\"\n",
    "    overlap_data_array = []\n",
    "    \n",
    "    for i in tqdm(range(len(data))):\n",
    "        \n",
    "        pred_answer = data['Prediction Answer'][i]\n",
    "        gold_answer = data['Gold Answer'][i]\n",
    "        \n",
    "        if type(pred_answer) != str and math.isnan(pred_answer): pred_answer = \"\"\n",
    "        if type(gold_answer) != str and math.isnan(gold_answer): gold_answer = \"\"\n",
    "        \n",
    "        pred_answer = remove_punctuation(str(pred_answer).lower().strip())\n",
    "        gold_answer = remove_punctuation(str(gold_answer).lower().strip())\n",
    "        \n",
    "        pred_answer_words = set(remove_punctuation(text) for text in pred_answer.split())\n",
    "        gold_answer_words = set(remove_punctuation(text) for text in gold_answer.split())\n",
    "        \n",
    "        if pred_answer_words.intersection(gold_answer_words):\n",
    "            if pred_answer == gold_answer:\n",
    "                overlap_data_array.append(False)\n",
    "            else:\n",
    "                overlap_data_array.append(True)\n",
    "        else:\n",
    "            overlap_data_array.append(False)\n",
    "            \n",
    "    data['is_overlap'] = overlap_data_array\n",
    "    return data"
   ]
  },
  {
   "cell_type": "code",
   "execution_count": null,
   "id": "f5b41df7",
   "metadata": {},
   "outputs": [],
   "source": [
    "def convert_question_and_answer_to_hypothesis(data):\n",
    "    for i in tqdm(range(len(data))):\n",
    "        data['Prediction Hypothesis'] = data['Question'] + ' ' + data['Prediction Answer']\n",
    "        data['Gold Hypothesis'] = data['Question'] + ' ' + data['Gold Answer']\n",
    "    return data"
   ]
  },
  {
   "cell_type": "code",
   "execution_count": null,
   "id": "081df6f1",
   "metadata": {},
   "outputs": [],
   "source": [
    "def normalize_text(s):\n",
    "    def remove_articles(text):\n",
    "        regex = re.compile(r\"\\b(a|an|the)\\b\", re.UNICODE)\n",
    "        return re.sub(regex, \" \", text)\n",
    "    def white_space_fix(text):\n",
    "        return \" \".join(text.split())\n",
    "    def remove_punc(text):\n",
    "        exclude = set(string.punctuation)\n",
    "        return \"\".join(ch for ch in text if ch not in exclude)\n",
    "    def lower(text):\n",
    "        return text.lower()\n",
    "    return white_space_fix(remove_articles(remove_punc(lower(s))))\n",
    "\n",
    "def return_acc_and_f1(data, message):\n",
    "    em = 0\n",
    "    f1_arr = []\n",
    "    \n",
    "    for i in tqdm(range(len(data))):\n",
    "        \n",
    "        pred = str(data['Prediction Answer'][i])\n",
    "        gold = str(data['Gold Answer'][i])\n",
    "        \n",
    "        # for exact match\n",
    "        if pred == gold:\n",
    "            em += 1\n",
    "        \n",
    "        # for f1\n",
    "        pred_tokens = normalize_text(pred).split()\n",
    "        gold_tokens = normalize_text(gold).split()\n",
    "        common = collections.Counter(pred_tokens) & collections.Counter(gold_tokens)\n",
    "        num_same = sum(common.values()) # True positive\n",
    "\n",
    "        if len(gold_tokens) == 0 or len(pred_tokens) == 0: \n",
    "            f1 = int(gold_tokens == pred_tokens)\n",
    "            f1_arr.append(f1)\n",
    "            continue\n",
    "\n",
    "        if num_same == 0:\n",
    "            f1 = 0\n",
    "            f1_arr.append(f1)\n",
    "            continue\n",
    "\n",
    "        precision = 1.0 * num_same / len(pred_tokens)\n",
    "        recall = 1.0 * num_same / len(gold_tokens)\n",
    "        f1 = (2.0 * precision * recall) / (precision + recall)\n",
    "        f1_arr.append(f1)\n",
    "        \n",
    "    em_final = em / len(data)\n",
    "    f1_final = np.mean(f1_arr)\n",
    "    \n",
    "    print(message.upper())\n",
    "    print(\"Final exact match:\", round(em_final, 3))\n",
    "    print(\"Average F1 score:\", round(f1_final, 3))"
   ]
  },
  {
   "cell_type": "code",
   "execution_count": null,
   "id": "907e8ff7",
   "metadata": {},
   "outputs": [],
   "source": [
    "df_squadid = pd.read_csv(\"output_squadid_df.csv\")\n",
    "df_squadid = df_squadid[[\"Context\", \"Question\", \"Prediction Answer\", \"Gold Answer\"]]\n",
    "df_squadid = convert_question_and_answer_to_hypothesis(df_squadid)\n",
    "df_squadid = df_squadid.dropna(subset=['Gold Answer']).reset_index(drop=True)\n",
    "df_squadid = return_overlap_between_gold_and_pred(df_squadid)\n",
    "print(df_squadid['Prediction Answer'].isna().sum())\n",
    "df_squadid"
   ]
  },
  {
   "cell_type": "code",
   "execution_count": null,
   "id": "08a4ebed",
   "metadata": {
    "scrolled": true
   },
   "outputs": [],
   "source": [
    "return_acc_and_f1(df_squadid, \"squad-id\")"
   ]
  },
  {
   "cell_type": "code",
   "execution_count": null,
   "id": "1b584d03",
   "metadata": {},
   "outputs": [],
   "source": [
    "url = \"https://huggingface.co/muhammadravi251001/fine-tuned-DatasetQAS-IDK-MRC-with-xlm-roberta-large-without-ITTL-without-freeze-LR-1e-05/raw/main/results/output/output_df.csv\"\n",
    "response = requests.get(url)\n",
    "\n",
    "if response.status_code == 200:\n",
    "    with open(\"data.csv\", \"wb\") as file:\n",
    "        file.write(response.content)\n",
    "    df_idkmrc = pd.read_csv(\"data.csv\")\n",
    "else: print(\"Download failed!\")\n",
    "    \n",
    "df_idkmrc = df_idkmrc[[\"Context\", \"Question\", \"Prediction Answer\", \"Gold Answer\"]]\n",
    "df_idkmrc = convert_question_and_answer_to_hypothesis(df_idkmrc)\n",
    "df_idkmrc = df_idkmrc.dropna(subset=['Gold Answer']).reset_index(drop=True)\n",
    "df_idkmrc = return_overlap_between_gold_and_pred(df_idkmrc)\n",
    "print(df_idkmrc['Prediction Answer'].isna().sum())\n",
    "df_idkmrc"
   ]
  },
  {
   "cell_type": "code",
   "execution_count": null,
   "id": "82904a2b",
   "metadata": {},
   "outputs": [],
   "source": [
    "return_acc_and_f1(df_idkmrc, \"idk-mrc\")"
   ]
  },
  {
   "cell_type": "code",
   "execution_count": null,
   "id": "ef57ad89",
   "metadata": {},
   "outputs": [],
   "source": [
    "url = \"https://huggingface.co/muhammadravi251001/fine-tuned-DatasetQAS-TYDI-QA-ID-with-xlm-roberta-large-without-ITTL-without-freeze-LR-1e-05/raw/main/results/output/output_df.csv\"\n",
    "response = requests.get(url)\n",
    "\n",
    "if response.status_code == 200:\n",
    "    with open(\"data.csv\", \"wb\") as file:\n",
    "        file.write(response.content)\n",
    "    df_tydiqaid = pd.read_csv(\"data.csv\")\n",
    "else: print(\"Download failed!\")\n",
    "    \n",
    "df_tydiqaid = df_tydiqaid[[\"Context\", \"Question\", \"Prediction Answer\", \"Gold Answer\"]]\n",
    "df_tydiqaid = convert_question_and_answer_to_hypothesis(df_tydiqaid)\n",
    "df_tydiqaid = df_tydiqaid.dropna(subset=['Gold Answer']).reset_index(drop=True)\n",
    "df_tydiqaid = return_overlap_between_gold_and_pred(df_tydiqaid)\n",
    "print(df_tydiqaid['Prediction Answer'].isna().sum())\n",
    "df_tydiqaid"
   ]
  },
  {
   "cell_type": "code",
   "execution_count": null,
   "id": "0ee00dfa",
   "metadata": {},
   "outputs": [],
   "source": [
    "return_acc_and_f1(df_tydiqaid, \"tydi-qa-id\")"
   ]
  },
  {
   "cell_type": "markdown",
   "id": "72a130b0",
   "metadata": {},
   "source": [
    "# Count an overlapping pred answer and gold answer"
   ]
  },
  {
   "cell_type": "code",
   "execution_count": null,
   "id": "09b48f8d",
   "metadata": {},
   "outputs": [],
   "source": [
    "print(\"SQuAD-ID\")\n",
    "print(df_squadid['is_overlap'].value_counts())\n",
    "print()\n",
    "\n",
    "print(\"IDK-MRC\")\n",
    "print(df_idkmrc['is_overlap'].value_counts())\n",
    "print()\n",
    "\n",
    "print(\"TyDI-QA-ID\")\n",
    "print(df_tydiqaid['is_overlap'].value_counts())"
   ]
  },
  {
   "cell_type": "markdown",
   "id": "397f5d0c",
   "metadata": {},
   "source": [
    "## Deleting row if is_overlap is True"
   ]
  },
  {
   "cell_type": "code",
   "execution_count": null,
   "id": "23efa35f",
   "metadata": {},
   "outputs": [],
   "source": [
    "df_squadid = df_squadid[df_squadid['is_overlap'] == False].reset_index(drop=True)\n",
    "df_idkmrc = df_idkmrc[df_idkmrc['is_overlap'] == False].reset_index(drop=True)\n",
    "df_tydiqaid = df_tydiqaid[df_tydiqaid['is_overlap'] == False].reset_index(drop=True)"
   ]
  },
  {
   "cell_type": "markdown",
   "id": "503f65cd",
   "metadata": {},
   "source": [
    "# Test the hypothesis above with newest NLI model"
   ]
  },
  {
   "cell_type": "code",
   "execution_count": null,
   "id": "3bd1e198",
   "metadata": {},
   "outputs": [],
   "source": [
    "tokenizer_kwargs = {'truncation': True, 'max_length': 512}\n",
    "model_nli_name = \"muhammadravi251001/fine-tuned-NLI-idk-mrc-nli-keep-with-xlm-roberta-large\"\n",
    "#model_nli_name = \"muhammadravi251001/fine-tuned-IndoNLI-Augmented-with-xlm-roberta-large-LR-1e-05\"\n",
    "#model_nli_name = \"muhammadravi251001/fine-tuned-NLI-multilingual-with-xlm-roberta-large\"\n",
    "nli_model = pipeline(\"text-classification\", model=model_nli_name, tokenizer=model_nli_name, **tokenizer_kwargs)"
   ]
  },
  {
   "cell_type": "code",
   "execution_count": null,
   "id": "9b2dda68",
   "metadata": {},
   "outputs": [],
   "source": [
    "nli_model({'text': \"Bambang Pamungkas seorang pemain bola asal Jakarta\", \n",
    "           'text_pair': \"Bambang Pamungkas berasal dari Jakarta\"})"
   ]
  },
  {
   "cell_type": "code",
   "execution_count": null,
   "id": "92870424",
   "metadata": {},
   "outputs": [],
   "source": [
    "nli_model({'text': \"Bambang Pamungkas seorang pemain bola asal Jakarta\", \n",
    "           'text_pair': \"Bambang Pamungkas bukan seorang pemain bola\"})"
   ]
  },
  {
   "cell_type": "code",
   "execution_count": null,
   "id": "b374b8f6",
   "metadata": {},
   "outputs": [],
   "source": [
    "nli_model({'text': \"Bambang Pamungkas seorang pemain bola asal Jakarta\", \n",
    "           'text_pair': \"Bambang Pamungkas berasal dari Bandung\"})"
   ]
  },
  {
   "cell_type": "code",
   "execution_count": null,
   "id": "f3d2f98c",
   "metadata": {},
   "outputs": [],
   "source": [
    "def add_label(data, message, nli_model=nli_model):\n",
    "    \n",
    "    data[\"Label from Prediction Answer\"] = str()\n",
    "    data[\"Label from Gold Answer\"] = str()\n",
    "    \n",
    "    labels_pred_answer = []\n",
    "    labels_gold_answer = []\n",
    "    \n",
    "    for i in tqdm(range(len(data))):\n",
    "        \n",
    "        premise = data['Context'][i]\n",
    "        pred_hypo = data['Prediction Hypothesis'][i]\n",
    "        gold_hypo = data['Gold Hypothesis'][i]\n",
    "        \n",
    "        if type(pred_hypo) != str and math.isnan(pred_hypo): pred_hypo = \"\"\n",
    "        if type(gold_hypo) != str and math.isnan(gold_hypo): gold_hypo = \"\"\n",
    "        \n",
    "        label_pred_answer = nli_model({'text': premise, 'text_pair': pred_hypo})['label']\n",
    "        labels_pred_answer.append(label_pred_answer)\n",
    "        \n",
    "        label_gold_answer = nli_model({'text': premise, 'text_pair': gold_hypo})['label']\n",
    "        labels_gold_answer.append(label_gold_answer)\n",
    "    \n",
    "    data[\"Label from Prediction Answer\"] = labels_pred_answer\n",
    "    data[\"Label from Gold Answer\"] = labels_gold_answer\n",
    "    \n",
    "    total_entailment_gold = data['Label from Gold Answer'].str.count('entailment').sum()\n",
    "    total_neutral_gold = data['Label from Gold Answer'].str.count('neutral').sum()\n",
    "    total_contradiction_gold = data['Label from Gold Answer'].str.count('contradiction').sum()\n",
    "    \n",
    "    total_entailment_pred = data['Label from Prediction Answer'].str.count('entailment').sum()\n",
    "    total_neutral_pred = data['Label from Prediction Answer'].str.count('neutral').sum()\n",
    "    total_contradiction_pred = data['Label from Prediction Answer'].str.count('contradiction').sum()\n",
    "    \n",
    "    total_label_gold = len(data[data['Label from Gold Answer'] != \"NULL\"])\n",
    "    total_label_pred = len(data[data['Label from Prediction Answer'] != \"NULL\"])\n",
    "    \n",
    "    print(f\"PREDICTION {message.upper()}\")\n",
    "    print(f\"Total entailment: {total_entailment_pred} ({round(total_entailment_pred/total_label_pred, 2) * 100} %)\")\n",
    "    print(f\"Total neutral: {total_neutral_pred} ({round(total_neutral_pred/total_label_pred, 2) * 100} %)\")\n",
    "    print(f\"Total contradiction: {total_contradiction_pred} ({round(total_contradiction_pred/total_label_pred, 2) * 100} %)\")\n",
    "    print()\n",
    "    print(f\"GOLD {message.upper()}\")\n",
    "    print(f\"Total entailment: {total_entailment_gold} ({round(total_entailment_gold/total_label_gold, 2) * 100} %)\")\n",
    "    print(f\"Total neutral: {total_neutral_gold} ({round(total_neutral_gold/total_label_gold, 2) * 100} %)\")\n",
    "    print(f\"Total contradiction: {total_contradiction_gold} ({round(total_contradiction_gold/total_label_gold, 2) * 100} %)\")\n",
    "    print()\n",
    "    print(f\"Total data: {len(data)}\")\n",
    "    \n",
    "    return data"
   ]
  },
  {
   "cell_type": "code",
   "execution_count": null,
   "id": "132a990b",
   "metadata": {},
   "outputs": [],
   "source": [
    "df_idkmrc = add_label(df_idkmrc, \"idk-mrc\")\n",
    "df_idkmrc"
   ]
  },
  {
   "cell_type": "code",
   "execution_count": null,
   "id": "18ce72b1",
   "metadata": {},
   "outputs": [],
   "source": [
    "df_tydiqaid = add_label(df_tydiqaid, \"tydi-qa-id\")\n",
    "df_tydiqaid"
   ]
  },
  {
   "cell_type": "code",
   "execution_count": null,
   "id": "6b2df8da",
   "metadata": {
    "scrolled": true
   },
   "outputs": [],
   "source": [
    "#df_squadid = add_label(df_squadid, \"squad-id\")\n",
    "#df_squadid"
   ]
  },
  {
   "cell_type": "code",
   "execution_count": null,
   "id": "0f7ec46e",
   "metadata": {},
   "outputs": [],
   "source": [
    "def count_by_answer_and_label(data, message):\n",
    "    \n",
    "    data['properties'] = str()\n",
    "    properties = []\n",
    "    \n",
    "    right_answer_and_entailment = 0\n",
    "    right_answer_and_neutral = 0\n",
    "    right_answer_and_contradiction = 0\n",
    "    \n",
    "    wrong_answer_and_entailment = 0\n",
    "    wrong_answer_and_neutral = 0\n",
    "    wrong_answer_and_contradiction = 0\n",
    "    \n",
    "    for i in tqdm(range(len(data))):\n",
    "        \n",
    "        pred_answer = data['Prediction Answer'][i]\n",
    "        gold_answer = data['Gold Answer'][i]\n",
    "        \n",
    "        label_from_pred_answer = data['Label from Prediction Answer'][i]\n",
    "        \n",
    "        # For right answer and entailment label\n",
    "        if pred_answer == gold_answer and label_from_pred_answer == 'entailment':\n",
    "            right_answer_and_entailment += 1\n",
    "            properties.append(\"Right answer and entailment label\")\n",
    "        \n",
    "        # For right answer but neutral label\n",
    "        elif pred_answer == gold_answer and label_from_pred_answer == 'neutral':\n",
    "            right_answer_and_neutral += 1\n",
    "            properties.append(\"Right answer and neutral label\")\n",
    "        \n",
    "        # For right answer but contradiction label\n",
    "        elif pred_answer == gold_answer and label_from_pred_answer == 'contradiction':\n",
    "            right_answer_and_contradiction += 1\n",
    "            properties.append(\"Right answer and contradiction label\")\n",
    "            \n",
    "        \n",
    "        \n",
    "        # For wrong answer but entailment label\n",
    "        elif pred_answer != gold_answer and label_from_pred_answer == 'entailment':\n",
    "            wrong_answer_and_entailment += 1\n",
    "            properties.append(\"Wrong answer and entailment label\")\n",
    "        \n",
    "        # For wrong answer but neutral label\n",
    "        elif pred_answer != gold_answer and label_from_pred_answer == 'neutral':\n",
    "            wrong_answer_and_neutral += 1\n",
    "            properties.append(\"Wrong answer and neutral label\")\n",
    "            \n",
    "        # For wrong answer and contradiction label\n",
    "        elif pred_answer != gold_answer and label_from_pred_answer == 'contradiction':\n",
    "            wrong_answer_and_contradiction += 1\n",
    "            properties.append(\"Wrong answer and contradiction label\")\n",
    "    \n",
    "    data['properties'] = properties\n",
    "    \n",
    "    total_right_answer = right_answer_and_entailment + right_answer_and_neutral + right_answer_and_contradiction\n",
    "    total_wrong_answer = wrong_answer_and_entailment + wrong_answer_and_neutral + wrong_answer_and_contradiction\n",
    "    \n",
    "    print(message.upper())\n",
    "    \n",
    "    if total_right_answer != 0:\n",
    "        print(f\"Right answer and Prediction hypothesis entailment label: {right_answer_and_entailment} ({round(right_answer_and_entailment/total_right_answer, 2) * 100}) %\")\n",
    "        print(f\"Right answer and Prediction hypothesis neutral label: {right_answer_and_neutral} ({round(right_answer_and_neutral/total_right_answer, 2) * 100}) %\")\n",
    "        print(f\"Right answer and Prediction hypothesis contradiction label: {right_answer_and_contradiction} ({round(right_answer_and_contradiction/total_right_answer, 2) * 100}) %\")\n",
    "    else:\n",
    "        print(f\"Right answer and Prediction hypothesis entailment label: 0 (0) %\")\n",
    "        print(f\"Right answer and Prediction hypothesis neutral label: 0 (0) %\")\n",
    "        print(f\"Right answer and Prediction hypothesis contradiction label: 0 (0) %\")\n",
    "    \n",
    "    print()\n",
    "    \n",
    "    if total_wrong_answer != 0:\n",
    "        print(f\"Wrong answer and Prediction hypothesis entailment label: {wrong_answer_and_entailment} ({round(wrong_answer_and_entailment/total_wrong_answer, 2) * 100}) %\")\n",
    "        print(f\"Wrong answer and Prediction hypothesis neutral label: {wrong_answer_and_neutral} ({round(wrong_answer_and_neutral/total_wrong_answer, 2) * 100}) %\")\n",
    "        print(f\"Wrong answer and Prediction hypothesis contradiction label: {wrong_answer_and_contradiction} ({round(wrong_answer_and_contradiction/total_wrong_answer, 2) * 100}) %\")\n",
    "    \n",
    "    else:\n",
    "        print(f\"Wrong answer and Prediction hypothesis entailment label: 0 (0) %\")\n",
    "        print(f\"Wrong answer and Prediction hypothesis neutral label: 0 (0) %\")\n",
    "        print(f\"Wrong answer and Prediction hypothesis contradiction label: 0 (0) %\")\n",
    "    \n",
    "    return data"
   ]
  },
  {
   "cell_type": "code",
   "execution_count": null,
   "id": "2755ba52",
   "metadata": {},
   "outputs": [],
   "source": [
    "df_idkmrc = count_by_answer_and_label(df_idkmrc, \"idk-mrc\")\n",
    "df_idkmrc"
   ]
  },
  {
   "cell_type": "code",
   "execution_count": null,
   "id": "4ae5f990",
   "metadata": {},
   "outputs": [],
   "source": [
    "df_tydiqaid = count_by_answer_and_label(df_tydiqaid, \"tydi-qa-id\")\n",
    "df_tydiqaid"
   ]
  },
  {
   "cell_type": "code",
   "execution_count": null,
   "id": "2ffd647e",
   "metadata": {},
   "outputs": [],
   "source": [
    "#df_squadid = count_by_answer_and_label(df_squadid, \"squad-id\")\n",
    "#df_squadid"
   ]
  },
  {
   "cell_type": "code",
   "execution_count": null,
   "id": "29aa3097",
   "metadata": {},
   "outputs": [],
   "source": []
  }
 ],
 "metadata": {
  "kernelspec": {
   "display_name": "Python 3 (ipykernel)",
   "language": "python",
   "name": "python3"
  },
  "language_info": {
   "codemirror_mode": {
    "name": "ipython",
    "version": 3
   },
   "file_extension": ".py",
   "mimetype": "text/x-python",
   "name": "python",
   "nbconvert_exporter": "python",
   "pygments_lexer": "ipython3",
   "version": "3.8.10"
  }
 },
 "nbformat": 4,
 "nbformat_minor": 5
}
