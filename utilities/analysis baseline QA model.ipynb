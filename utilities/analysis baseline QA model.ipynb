{
 "cells": [
  {
   "cell_type": "code",
   "execution_count": 2,
   "id": "053eac7b",
   "metadata": {},
   "outputs": [],
   "source": [
    "import os\n",
    "\n",
    "if not os.path.isfile(\"squadid_pred.csv\"):\n",
    "    !wget -O \"squadid_pred.csv\" \"https://huggingface.co/muhammadravi251001/fine-tuned-DatasetQAS-Squad-ID-with-xlm-roberta-large-without-ITTL-without-freeze-LR-1e-05/resolve/main/results/output/output_df.csv\"\n",
    "\n",
    "if not os.path.isfile(\"tydiqaid_pred.csv\"):\n",
    "    !wget -O \"tydiqaid_pred.csv\" \"https://huggingface.co/muhammadravi251001/fine-tuned-DatasetQAS-TYDI-QA-ID-with-xlm-roberta-large-without-ITTL-without-freeze-LR-1e-05/raw/main/results/output/output_df.csv\"\n",
    "\n",
    "if not os.path.isfile(\"idkmrc_pred.csv\"):\n",
    "    !wget -O \"idkmrc_pred.csv\" \"https://huggingface.co/muhammadravi251001/fine-tuned-DatasetQAS-IDK-MRC-with-xlm-roberta-large-without-ITTL-without-freeze-LR-1e-05/raw/main/results/output/output_df.csv\""
   ]
  },
  {
   "cell_type": "code",
   "execution_count": 3,
   "id": "80fb95d1",
   "metadata": {},
   "outputs": [],
   "source": [
    "import pandas as pd\n",
    "\n",
    "squadid_df = pd.read_csv(\"squadid_pred.csv\", index_col=0).drop(columns=['Answer Type', 'Reasoning Type']).fillna('')\n",
    "tydiqaid_df = pd.read_csv(\"tydiqaid_pred.csv\", index_col=0).drop(columns=['Answer Type', 'Reasoning Type']).fillna('')\n",
    "idkmrc_df = pd.read_csv(\"idkmrc_pred.csv\", index_col=0).drop(columns=['Answer Type', 'Reasoning Type']).fillna('')"
   ]
  },
  {
   "cell_type": "code",
   "execution_count": 4,
   "id": "c8848806",
   "metadata": {},
   "outputs": [],
   "source": [
    "def filtering_only_wrong_answer(data):\n",
    "    return data[data['Prediction Answer'] != data['Gold Answer']].reset_index(drop=True)"
   ]
  },
  {
   "cell_type": "code",
   "execution_count": 5,
   "id": "1a5583cd",
   "metadata": {},
   "outputs": [],
   "source": [
    "wrong_squadid_df = filtering_only_wrong_answer(squadid_df)\n",
    "wrong_tydiqaid_df = filtering_only_wrong_answer(tydiqaid_df)\n",
    "wrong_idkmrc_df = filtering_only_wrong_answer(idkmrc_df)"
   ]
  },
  {
   "cell_type": "markdown",
   "id": "0d09c4a9",
   "metadata": {},
   "source": [
    "# Analyse unanswerable vs answerable row"
   ]
  },
  {
   "cell_type": "code",
   "execution_count": 6,
   "id": "debef0e0",
   "metadata": {},
   "outputs": [],
   "source": [
    "def counting_reversed_wrong_unanswerable(data, name):\n",
    "    \n",
    "    print(name.upper())\n",
    "    print()\n",
    "    \n",
    "    count_empty_pred_and_non_empty_gold = ((data['Prediction Answer'] == '') & (data['Gold Answer'] != '')).sum()\n",
    "    count_non_empty_pred_and_empty_gold = ((data['Prediction Answer'] != '') & (data['Gold Answer'] == '')).sum()\n",
    "    \n",
    "    total_wrong_data = len(data)\n",
    "    \n",
    "    placeholder1 = f\"{round(count_empty_pred_and_non_empty_gold / total_wrong_data, 3) * 100}%\"\n",
    "    placeholder2 = f\"{round(count_non_empty_pred_and_empty_gold / total_wrong_data, 3) * 100}%\"\n",
    "    \n",
    "    print(f\"Banyak data yang diprediksi UNANS tetapi gold-nya ANS: {count_empty_pred_and_non_empty_gold} ({placeholder1})\")\n",
    "    print(f\"Banyak data yang diprediksi ANS tetapi gold-nya UNANS: {count_non_empty_pred_and_empty_gold} ({placeholder2})\")\n",
    "    print(f\"Banyak keseluruhan data yang prediksinya berbeda dengan gold: {total_wrong_data}\")\n",
    "    \n",
    "    print(\"=\" * 70)"
   ]
  },
  {
   "cell_type": "code",
   "execution_count": 7,
   "id": "4a7c34db",
   "metadata": {
    "scrolled": true
   },
   "outputs": [
    {
     "name": "stdout",
     "output_type": "stream",
     "text": [
      "ANALYSE THIS\n",
      "\n",
      "SQUADID\n",
      "\n",
      "Banyak data yang diprediksi UNANS tetapi gold-nya ANS: 384 (6.4%)\n",
      "Banyak data yang diprediksi ANS tetapi gold-nya UNANS: 966 (16.1%)\n",
      "Banyak keseluruhan data yang prediksinya berbeda dengan gold: 5996\n",
      "======================================================================\n",
      "TYDIQAID\n",
      "\n",
      "Banyak data yang diprediksi UNANS tetapi gold-nya ANS: 21 (7.3%)\n",
      "Banyak data yang diprediksi ANS tetapi gold-nya UNANS: 1 (0.3%)\n",
      "Banyak keseluruhan data yang prediksinya berbeda dengan gold: 287\n",
      "======================================================================\n",
      "IDKMRC\n",
      "\n",
      "Banyak data yang diprediksi UNANS tetapi gold-nya ANS: 43 (23.0%)\n",
      "Banyak data yang diprediksi ANS tetapi gold-nya UNANS: 32 (17.1%)\n",
      "Banyak keseluruhan data yang prediksinya berbeda dengan gold: 187\n",
      "======================================================================\n"
     ]
    }
   ],
   "source": [
    "print(\"ANALYSE THIS\\n\")\n",
    "\n",
    "counting_reversed_wrong_unanswerable(wrong_squadid_df, \"squadid\")\n",
    "counting_reversed_wrong_unanswerable(wrong_tydiqaid_df, \"tydiqaid\")\n",
    "counting_reversed_wrong_unanswerable(wrong_idkmrc_df, \"idkmrc\")"
   ]
  },
  {
   "cell_type": "markdown",
   "id": "eba4dfc5",
   "metadata": {},
   "source": [
    "# Analyse word vs sentence row"
   ]
  },
  {
   "cell_type": "code",
   "execution_count": 8,
   "id": "05dc616a",
   "metadata": {},
   "outputs": [],
   "source": [
    "def counting_length_answer(data, name):\n",
    "    \n",
    "    print(name.upper())\n",
    "    print()\n",
    "    \n",
    "    pred_answer_length = data['Prediction Answer'].str.split().apply(len)\n",
    "    gold_answer_length = data['Gold Answer'].str.split().apply(len)\n",
    "    \n",
    "    count_word_pred_and_sentence_gold = ((pred_answer_length == 1) & (gold_answer_length > 1)).sum()\n",
    "    count_sentence_pred_and_word_gold = ((pred_answer_length > 1) & (gold_answer_length == 1)).sum()\n",
    "    \n",
    "    total_wrong_data = len(data)\n",
    "    \n",
    "    placeholder1 = f\"{round(count_word_pred_and_sentence_gold / total_wrong_data, 3) * 100}%\"\n",
    "    placeholder2 = f\"{round(count_sentence_pred_and_word_gold / total_wrong_data, 3) * 100}%\"\n",
    "    \n",
    "    print(f\"Banyak data yang diprediksi WORD tetapi gold-nya SENTENCE: {count_word_pred_and_sentence_gold} ({placeholder1})\")\n",
    "    print(f\"Banyak data yang diprediksi SENTENCE tetapi gold-nya WORD: {count_sentence_pred_and_word_gold} ({placeholder2})\")\n",
    "    print(f\"Banyak keseluruhan data yang prediksinya berbeda dengan gold: {total_wrong_data}\")\n",
    "    \n",
    "    print(\"=\" * 70)"
   ]
  },
  {
   "cell_type": "code",
   "execution_count": 9,
   "id": "6aff01a0",
   "metadata": {},
   "outputs": [
    {
     "name": "stdout",
     "output_type": "stream",
     "text": [
      "ANALYSE THIS\n",
      "\n",
      "SQUADID\n",
      "\n",
      "Banyak data yang diprediksi WORD tetapi gold-nya SENTENCE: 505 (8.4%)\n",
      "Banyak data yang diprediksi SENTENCE tetapi gold-nya WORD: 817 (13.600000000000001%)\n",
      "Banyak keseluruhan data yang prediksinya berbeda dengan gold: 5996\n",
      "======================================================================\n",
      "TYDIQAID\n",
      "\n",
      "Banyak data yang diprediksi WORD tetapi gold-nya SENTENCE: 24 (8.4%)\n",
      "Banyak data yang diprediksi SENTENCE tetapi gold-nya WORD: 44 (15.299999999999999%)\n",
      "Banyak keseluruhan data yang prediksinya berbeda dengan gold: 287\n",
      "======================================================================\n",
      "IDKMRC\n",
      "\n",
      "Banyak data yang diprediksi WORD tetapi gold-nya SENTENCE: 6 (3.2%)\n",
      "Banyak data yang diprediksi SENTENCE tetapi gold-nya WORD: 18 (9.6%)\n",
      "Banyak keseluruhan data yang prediksinya berbeda dengan gold: 187\n",
      "======================================================================\n"
     ]
    }
   ],
   "source": [
    "print(\"ANALYSE THIS\\n\")\n",
    "\n",
    "counting_length_answer(wrong_squadid_df, \"squadid\")\n",
    "counting_length_answer(wrong_tydiqaid_df, \"tydiqaid\")\n",
    "counting_length_answer(wrong_idkmrc_df, \"idkmrc\")"
   ]
  },
  {
   "cell_type": "markdown",
   "id": "72d09038",
   "metadata": {},
   "source": [
    "# Analyse overlapping answer"
   ]
  },
  {
   "cell_type": "code",
   "execution_count": 10,
   "id": "1ab97d58",
   "metadata": {},
   "outputs": [],
   "source": [
    "def count_overlapping(row):\n",
    "    pred_words = set(row['Prediction Answer'].split())\n",
    "    gold_words = set(row['Gold Answer'].split())\n",
    "    return 1 if len(pred_words.intersection(gold_words)) > 0 else 0\n",
    "\n",
    "def counting_overlapping_answer(data, name):\n",
    "    \n",
    "    print(name.upper())\n",
    "    print()\n",
    "    \n",
    "    overlap_count = data.apply(count_overlapping, axis=1).sum()\n",
    "    \n",
    "    total_wrong_data = len(data)\n",
    "    \n",
    "    placeholder1 = f\"{round(overlap_count / total_wrong_data, 3) * 100}%\"\n",
    "    \n",
    "    print(f\"Banyak data yang diprediksi overlap dengan gold: {overlap_count} ({placeholder1})\")\n",
    "    print(f\"Banyak keseluruhan data yang prediksinya berbeda dengan gold: {total_wrong_data}\")\n",
    "    \n",
    "    print(\"=\" * 70)"
   ]
  },
  {
   "cell_type": "code",
   "execution_count": 11,
   "id": "3cfcb226",
   "metadata": {},
   "outputs": [
    {
     "name": "stdout",
     "output_type": "stream",
     "text": [
      "ANALYSE THIS\n",
      "\n",
      "SQUADID\n",
      "\n",
      "Banyak data yang diprediksi overlap dengan gold: 3354 (55.900000000000006%)\n",
      "Banyak keseluruhan data yang prediksinya berbeda dengan gold: 5996\n",
      "======================================================================\n",
      "TYDIQAID\n",
      "\n",
      "Banyak data yang diprediksi overlap dengan gold: 182 (63.4%)\n",
      "Banyak keseluruhan data yang prediksinya berbeda dengan gold: 287\n",
      "======================================================================\n",
      "IDKMRC\n",
      "\n",
      "Banyak data yang diprediksi overlap dengan gold: 92 (49.2%)\n",
      "Banyak keseluruhan data yang prediksinya berbeda dengan gold: 187\n",
      "======================================================================\n"
     ]
    }
   ],
   "source": [
    "print(\"ANALYSE THIS\\n\")\n",
    "\n",
    "counting_overlapping_answer(wrong_squadid_df, \"squadid\")\n",
    "counting_overlapping_answer(wrong_tydiqaid_df, \"tydiqaid\")\n",
    "counting_overlapping_answer(wrong_idkmrc_df, \"idkmrc\")"
   ]
  },
  {
   "cell_type": "code",
   "execution_count": 12,
   "id": "c5676234",
   "metadata": {},
   "outputs": [],
   "source": [
    "def sampling_data(data, sample_num=100):\n",
    "    return data.sample(n=sample_num).reset_index(drop=True)"
   ]
  },
  {
   "cell_type": "code",
   "execution_count": 13,
   "id": "00d3ba67",
   "metadata": {},
   "outputs": [],
   "source": [
    "sampled_squadid_df = sampling_data(wrong_squadid_df)\n",
    "sampled_tydiqaid_df = sampling_data(wrong_tydiqaid_df)\n",
    "sampled_idkmrc_df = sampling_data(wrong_idkmrc_df)"
   ]
  },
  {
   "cell_type": "code",
   "execution_count": 14,
   "id": "b682c48b",
   "metadata": {},
   "outputs": [
    {
     "data": {
      "text/html": [
       "<div>\n",
       "<style scoped>\n",
       "    .dataframe tbody tr th:only-of-type {\n",
       "        vertical-align: middle;\n",
       "    }\n",
       "\n",
       "    .dataframe tbody tr th {\n",
       "        vertical-align: top;\n",
       "    }\n",
       "\n",
       "    .dataframe thead th {\n",
       "        text-align: right;\n",
       "    }\n",
       "</style>\n",
       "<table border=\"1\" class=\"dataframe\">\n",
       "  <thead>\n",
       "    <tr style=\"text-align: right;\">\n",
       "      <th></th>\n",
       "      <th>Context</th>\n",
       "      <th>Question</th>\n",
       "      <th>Prediction Answer</th>\n",
       "      <th>Gold Answer</th>\n",
       "    </tr>\n",
       "  </thead>\n",
       "  <tbody>\n",
       "    <tr>\n",
       "      <th>0</th>\n",
       "      <td>Patronim, atau patronimik, adalah sebuah kompo...</td>\n",
       "      <td>Apakah pengertian matronimik?</td>\n",
       "      <td>komponen dari sebuah nama pribadi yang berdasa...</td>\n",
       "      <td>Komomene sebuah nama yang berdasarkan pada nam...</td>\n",
       "    </tr>\n",
       "    <tr>\n",
       "      <th>1</th>\n",
       "      <td>Ir. Basuki Tjahaja Purnama, M.M. (EYD: Basuki ...</td>\n",
       "      <td>Siapakah Basuki Tjahaja Purnama?</td>\n",
       "      <td>Gubernur DKI Jakarta</td>\n",
       "      <td>Gubernur DKI Jakarta yang menjabat sejak 19 No...</td>\n",
       "    </tr>\n",
       "    <tr>\n",
       "      <th>2</th>\n",
       "      <td>Ir. Basuki Tjahaja Purnama, M.M. (EYD: Basuki ...</td>\n",
       "      <td>Siapakah Gubernur DKI Jakarta yang menjabat se...</td>\n",
       "      <td>Ir. Basuki Tjahaja Purnama</td>\n",
       "      <td>Basuki Tjahaja Purnama</td>\n",
       "    </tr>\n",
       "    <tr>\n",
       "      <th>3</th>\n",
       "      <td>Di Hispania, Ataulf dengan tidak hati-hati men...</td>\n",
       "      <td>Dimana Raja Ataulf meninggal?</td>\n",
       "      <td>Hispania, Ataulf dengan tidak hati-hati meneri...</td>\n",
       "      <td>istana Barcelona</td>\n",
       "    </tr>\n",
       "    <tr>\n",
       "      <th>4</th>\n",
       "      <td>Lontong kupang atau kupang lontong adalah nama...</td>\n",
       "      <td>Apakah kuliner yang terkenal dari daerah timur?</td>\n",
       "      <td>Lontong kupang atau kupang lontong adalah nama...</td>\n",
       "      <td></td>\n",
       "    </tr>\n",
       "    <tr>\n",
       "      <th>...</th>\n",
       "      <td>...</td>\n",
       "      <td>...</td>\n",
       "      <td>...</td>\n",
       "      <td>...</td>\n",
       "    </tr>\n",
       "    <tr>\n",
       "      <th>182</th>\n",
       "      <td>Setelah Perang Dunia II, Boganda didesak oleh ...</td>\n",
       "      <td>Sejak kapan Barthélemy Boganda menjadi politikus?</td>\n",
       "      <td></td>\n",
       "      <td>10 November 1946</td>\n",
       "    </tr>\n",
       "    <tr>\n",
       "      <th>183</th>\n",
       "      <td>Apa yang diketahui tentang kehidupan Thomas be...</td>\n",
       "      <td>Kapan Thomas Arkidiakonus lahir?</td>\n",
       "      <td>abad ke-13</td>\n",
       "      <td>awal abad ke-13</td>\n",
       "    </tr>\n",
       "    <tr>\n",
       "      <th>184</th>\n",
       "      <td>Dalam melaksanakan kegiatan belajar-mengajar, ...</td>\n",
       "      <td>Berapa luas SMK Negeri 1 Cikampek?</td>\n",
       "      <td>28997m2</td>\n",
       "      <td>29095m2.</td>\n",
       "    </tr>\n",
       "    <tr>\n",
       "      <th>185</th>\n",
       "      <td>Kota ini terletak di sebuah lembah sungai yang...</td>\n",
       "      <td>Menurut Biro Sensus Amerika Serikat, berapa lu...</td>\n",
       "      <td>131.3 mil persegi</td>\n",
       "      <td>Menurut Biro Sensus Amerika Serikat, kota ini ...</td>\n",
       "    </tr>\n",
       "    <tr>\n",
       "      <th>186</th>\n",
       "      <td>Tanpa beasiswa, Ogilvy tidak bisa kuliah di Fe...</td>\n",
       "      <td>Apa alasan Ogilvy tidak bisa kuliah di Fettes ...</td>\n",
       "      <td>bisnis ayahnya terkena dampak depresi pertenga...</td>\n",
       "      <td>Ogilvy tidak bisa kuliah di Fettes atau Oxford...</td>\n",
       "    </tr>\n",
       "  </tbody>\n",
       "</table>\n",
       "<p>187 rows × 4 columns</p>\n",
       "</div>"
      ],
      "text/plain": [
       "                                               Context  \\\n",
       "0    Patronim, atau patronimik, adalah sebuah kompo...   \n",
       "1    Ir. Basuki Tjahaja Purnama, M.M. (EYD: Basuki ...   \n",
       "2    Ir. Basuki Tjahaja Purnama, M.M. (EYD: Basuki ...   \n",
       "3    Di Hispania, Ataulf dengan tidak hati-hati men...   \n",
       "4    Lontong kupang atau kupang lontong adalah nama...   \n",
       "..                                                 ...   \n",
       "182  Setelah Perang Dunia II, Boganda didesak oleh ...   \n",
       "183  Apa yang diketahui tentang kehidupan Thomas be...   \n",
       "184  Dalam melaksanakan kegiatan belajar-mengajar, ...   \n",
       "185  Kota ini terletak di sebuah lembah sungai yang...   \n",
       "186  Tanpa beasiswa, Ogilvy tidak bisa kuliah di Fe...   \n",
       "\n",
       "                                              Question  \\\n",
       "0                        Apakah pengertian matronimik?   \n",
       "1                     Siapakah Basuki Tjahaja Purnama?   \n",
       "2    Siapakah Gubernur DKI Jakarta yang menjabat se...   \n",
       "3                        Dimana Raja Ataulf meninggal?   \n",
       "4      Apakah kuliner yang terkenal dari daerah timur?   \n",
       "..                                                 ...   \n",
       "182  Sejak kapan Barthélemy Boganda menjadi politikus?   \n",
       "183                   Kapan Thomas Arkidiakonus lahir?   \n",
       "184                 Berapa luas SMK Negeri 1 Cikampek?   \n",
       "185  Menurut Biro Sensus Amerika Serikat, berapa lu...   \n",
       "186  Apa alasan Ogilvy tidak bisa kuliah di Fettes ...   \n",
       "\n",
       "                                     Prediction Answer  \\\n",
       "0    komponen dari sebuah nama pribadi yang berdasa...   \n",
       "1                                 Gubernur DKI Jakarta   \n",
       "2                           Ir. Basuki Tjahaja Purnama   \n",
       "3    Hispania, Ataulf dengan tidak hati-hati meneri...   \n",
       "4    Lontong kupang atau kupang lontong adalah nama...   \n",
       "..                                                 ...   \n",
       "182                                                      \n",
       "183                                         abad ke-13   \n",
       "184                                            28997m2   \n",
       "185                                  131.3 mil persegi   \n",
       "186  bisnis ayahnya terkena dampak depresi pertenga...   \n",
       "\n",
       "                                           Gold Answer  \n",
       "0    Komomene sebuah nama yang berdasarkan pada nam...  \n",
       "1    Gubernur DKI Jakarta yang menjabat sejak 19 No...  \n",
       "2                               Basuki Tjahaja Purnama  \n",
       "3                                     istana Barcelona  \n",
       "4                                                       \n",
       "..                                                 ...  \n",
       "182                                   10 November 1946  \n",
       "183                                    awal abad ke-13  \n",
       "184                                           29095m2.  \n",
       "185  Menurut Biro Sensus Amerika Serikat, kota ini ...  \n",
       "186  Ogilvy tidak bisa kuliah di Fettes atau Oxford...  \n",
       "\n",
       "[187 rows x 4 columns]"
      ]
     },
     "execution_count": 14,
     "metadata": {},
     "output_type": "execute_result"
    }
   ],
   "source": [
    "wrong_idkmrc_df"
   ]
  },
  {
   "cell_type": "code",
   "execution_count": 149,
   "id": "b89a006c",
   "metadata": {},
   "outputs": [],
   "source": [
    "#sampled_tydiqaid_df.to_csv('sampled_tydiqaid_df.csv', index=False)"
   ]
  },
  {
   "cell_type": "code",
   "execution_count": null,
   "id": "a66bf035",
   "metadata": {},
   "outputs": [],
   "source": []
  }
 ],
 "metadata": {
  "kernelspec": {
   "display_name": "Python 3 (ipykernel)",
   "language": "python",
   "name": "python3"
  },
  "language_info": {
   "codemirror_mode": {
    "name": "ipython",
    "version": 3
   },
   "file_extension": ".py",
   "mimetype": "text/x-python",
   "name": "python",
   "nbconvert_exporter": "python",
   "pygments_lexer": "ipython3",
   "version": "3.8.10"
  }
 },
 "nbformat": 4,
 "nbformat_minor": 5
}
