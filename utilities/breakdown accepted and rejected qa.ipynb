{
 "cells": [
  {
   "cell_type": "code",
   "execution_count": 1,
   "id": "ace73cbc-456e-4710-acdc-2f470281f302",
   "metadata": {},
   "outputs": [],
   "source": [
    "import pandas as pd\n",
    "import requests\n",
    "from bs4 import BeautifulSoup\n",
    "import re\n",
    "from io import StringIO\n",
    "from transformers import AutoTokenizer, AutoModelForSequenceClassification\n",
    "import torch\n",
    "from tqdm import tqdm"
   ]
  },
  {
   "cell_type": "code",
   "execution_count": 2,
   "id": "14a13ea8-8651-4a9d-9884-5f1aebdb0933",
   "metadata": {},
   "outputs": [],
   "source": [
    "prefix = \"https://huggingface.co/muhammadravi251001/fine-tuned-FilteringNLI-\"\n",
    "suffix = \"/raw/main/results/output/output_df.csv\"\n",
    "suffix_squadid = \"/resolve/main/results/output/output_df.csv\""
   ]
  },
  {
   "cell_type": "code",
   "execution_count": 3,
   "id": "368b56f8-4c2f-41d4-92ce-99c124475c50",
   "metadata": {},
   "outputs": [],
   "source": [
    "def take_dataframe(url): \n",
    "    \n",
    "    response = requests.get(url)\n",
    "    \n",
    "    if response.status_code == 200:\n",
    "        csv_data = StringIO(response.text)\n",
    "        df = pd.read_csv(csv_data, index_col=0)\n",
    "        df = df[['Prediction Answer', 'Rec. Pred Answer', 'Gold Answer', 'Properties']]\n",
    "        df.fillna('', inplace=True)\n",
    "    \n",
    "    else:\n",
    "        print(\"Failed to download CSV\")\n",
    "    \n",
    "    return df"
   ]
  },
  {
   "cell_type": "code",
   "execution_count": 4,
   "id": "3cd654a1-935d-4b48-9085-2824a4c7c20c",
   "metadata": {},
   "outputs": [],
   "source": [
    "data = \"idkmrc\"\n",
    "url = f\"{prefix}indonli_mnli_{data}-nli-{data}-TQ2-TS4-MS3-VA3-TH0.25{suffix}\""
   ]
  },
  {
   "cell_type": "code",
   "execution_count": 5,
   "id": "ecc1a42a-2525-491b-91d6-ec9db2224abe",
   "metadata": {},
   "outputs": [
    {
     "data": {
      "text/plain": [
       "'https://huggingface.co/muhammadravi251001/fine-tuned-FilteringNLI-indonli_mnli_idkmrc-nli-idkmrc-TQ2-TS4-MS3-VA3-TH0.25/raw/main/results/output/output_df.csv'"
      ]
     },
     "execution_count": 5,
     "metadata": {},
     "output_type": "execute_result"
    }
   ],
   "source": [
    "url"
   ]
  },
  {
   "cell_type": "code",
   "execution_count": 8,
   "id": "8fbc3020-e540-43cb-b6b9-7127b80b12ef",
   "metadata": {},
   "outputs": [
    {
     "data": {
      "text/html": [
       "<div>\n",
       "<style scoped>\n",
       "    .dataframe tbody tr th:only-of-type {\n",
       "        vertical-align: middle;\n",
       "    }\n",
       "\n",
       "    .dataframe tbody tr th {\n",
       "        vertical-align: top;\n",
       "    }\n",
       "\n",
       "    .dataframe thead th {\n",
       "        text-align: right;\n",
       "    }\n",
       "</style>\n",
       "<table border=\"1\" class=\"dataframe\">\n",
       "  <thead>\n",
       "    <tr style=\"text-align: right;\">\n",
       "      <th></th>\n",
       "      <th>Prediction Answer</th>\n",
       "      <th>Rec. Pred Answer</th>\n",
       "      <th>Gold Answer</th>\n",
       "      <th>Properties</th>\n",
       "    </tr>\n",
       "  </thead>\n",
       "  <tbody>\n",
       "    <tr>\n",
       "      <th>0</th>\n",
       "      <td>1959</td>\n",
       "      <td>['1959', '1971', '']</td>\n",
       "      <td>1959</td>\n",
       "      <td>Answer saved from variation 3 with founded index</td>\n",
       "    </tr>\n",
       "    <tr>\n",
       "      <th>1</th>\n",
       "      <td>sirkuit terpadu (IC) yang mulai dikembangkan p...</td>\n",
       "      <td>['', '', 'sirkuit terpadu (IC) yang mulai dike...</td>\n",
       "      <td></td>\n",
       "      <td>Answer saved from variation 3 with founded index</td>\n",
       "    </tr>\n",
       "    <tr>\n",
       "      <th>2</th>\n",
       "      <td>1959</td>\n",
       "      <td>['', '1959', 'GAN yang sedikit ngawur di bidan...</td>\n",
       "      <td></td>\n",
       "      <td>Answer saved from variation 3 with founded index</td>\n",
       "    </tr>\n",
       "    <tr>\n",
       "      <th>3</th>\n",
       "      <td>1959</td>\n",
       "      <td>['', '1959', '1971']</td>\n",
       "      <td></td>\n",
       "      <td>Answer saved from variation 3 with founded index</td>\n",
       "    </tr>\n",
       "    <tr>\n",
       "      <th>4</th>\n",
       "      <td>komponen dari sebuah nama pribadi yang berdasa...</td>\n",
       "      <td>['komponen dari sebuah nama pribadi yang berda...</td>\n",
       "      <td>Komomene sebuah nama yang berdasarkan pada nam...</td>\n",
       "      <td>Answer saved from variation 3 with founded index</td>\n",
       "    </tr>\n",
       "    <tr>\n",
       "      <th>...</th>\n",
       "      <td>...</td>\n",
       "      <td>...</td>\n",
       "      <td>...</td>\n",
       "      <td>...</td>\n",
       "    </tr>\n",
       "    <tr>\n",
       "      <th>839</th>\n",
       "      <td>bereproduksi, dan hanya memakan getah pohon hi...</td>\n",
       "      <td>['', 'bereproduksi, dan hanya memakan getah po...</td>\n",
       "      <td></td>\n",
       "      <td>Answer saved from variation 3 with founded index</td>\n",
       "    </tr>\n",
       "    <tr>\n",
       "      <th>840</th>\n",
       "      <td>131.3 mil persegi</td>\n",
       "      <td>['131.3 mil persegi', '', 'Menurut Biro Sensus...</td>\n",
       "      <td>Menurut Biro Sensus Amerika Serikat, kota ini ...</td>\n",
       "      <td>Answer saved from variation 3 with founded index</td>\n",
       "    </tr>\n",
       "    <tr>\n",
       "      <th>841</th>\n",
       "      <td>Menurut Biro Sensus Amerika Serikat, kota ini ...</td>\n",
       "      <td>['', 'Menurut Biro Sensus Amerika Serikat, kot...</td>\n",
       "      <td></td>\n",
       "      <td>Answer saved from variation 3 with founded index</td>\n",
       "    </tr>\n",
       "    <tr>\n",
       "      <th>842</th>\n",
       "      <td>bisnis ayahnya terkena dampak depresi pertenga...</td>\n",
       "      <td>['bisnis ayahnya terkena dampak depresi perten...</td>\n",
       "      <td>Ogilvy tidak bisa kuliah di Fettes atau Oxford...</td>\n",
       "      <td>Answer saved from variation 3 with founded index</td>\n",
       "    </tr>\n",
       "    <tr>\n",
       "      <th>843</th>\n",
       "      <td>karena bisnis ayahnya terkena dampak depresi p...</td>\n",
       "      <td>['', 'karena bisnis ayahnya terkena dampak dep...</td>\n",
       "      <td></td>\n",
       "      <td>Highest probability answer saved from variatio...</td>\n",
       "    </tr>\n",
       "  </tbody>\n",
       "</table>\n",
       "<p>844 rows × 4 columns</p>\n",
       "</div>"
      ],
      "text/plain": [
       "                                     Prediction Answer  \\\n",
       "0                                                 1959   \n",
       "1    sirkuit terpadu (IC) yang mulai dikembangkan p...   \n",
       "2                                                 1959   \n",
       "3                                                 1959   \n",
       "4    komponen dari sebuah nama pribadi yang berdasa...   \n",
       "..                                                 ...   \n",
       "839  bereproduksi, dan hanya memakan getah pohon hi...   \n",
       "840                                  131.3 mil persegi   \n",
       "841  Menurut Biro Sensus Amerika Serikat, kota ini ...   \n",
       "842  bisnis ayahnya terkena dampak depresi pertenga...   \n",
       "843  karena bisnis ayahnya terkena dampak depresi p...   \n",
       "\n",
       "                                      Rec. Pred Answer  \\\n",
       "0                                 ['1959', '1971', '']   \n",
       "1    ['', '', 'sirkuit terpadu (IC) yang mulai dike...   \n",
       "2    ['', '1959', 'GAN yang sedikit ngawur di bidan...   \n",
       "3                                 ['', '1959', '1971']   \n",
       "4    ['komponen dari sebuah nama pribadi yang berda...   \n",
       "..                                                 ...   \n",
       "839  ['', 'bereproduksi, dan hanya memakan getah po...   \n",
       "840  ['131.3 mil persegi', '', 'Menurut Biro Sensus...   \n",
       "841  ['', 'Menurut Biro Sensus Amerika Serikat, kot...   \n",
       "842  ['bisnis ayahnya terkena dampak depresi perten...   \n",
       "843  ['', 'karena bisnis ayahnya terkena dampak dep...   \n",
       "\n",
       "                                           Gold Answer  \\\n",
       "0                                                 1959   \n",
       "1                                                        \n",
       "2                                                        \n",
       "3                                                        \n",
       "4    Komomene sebuah nama yang berdasarkan pada nam...   \n",
       "..                                                 ...   \n",
       "839                                                      \n",
       "840  Menurut Biro Sensus Amerika Serikat, kota ini ...   \n",
       "841                                                      \n",
       "842  Ogilvy tidak bisa kuliah di Fettes atau Oxford...   \n",
       "843                                                      \n",
       "\n",
       "                                            Properties  \n",
       "0     Answer saved from variation 3 with founded index  \n",
       "1     Answer saved from variation 3 with founded index  \n",
       "2     Answer saved from variation 3 with founded index  \n",
       "3     Answer saved from variation 3 with founded index  \n",
       "4     Answer saved from variation 3 with founded index  \n",
       "..                                                 ...  \n",
       "839   Answer saved from variation 3 with founded index  \n",
       "840   Answer saved from variation 3 with founded index  \n",
       "841   Answer saved from variation 3 with founded index  \n",
       "842   Answer saved from variation 3 with founded index  \n",
       "843  Highest probability answer saved from variatio...  \n",
       "\n",
       "[844 rows x 4 columns]"
      ]
     },
     "execution_count": 8,
     "metadata": {},
     "output_type": "execute_result"
    }
   ],
   "source": [
    "x = take_dataframe(url)\n",
    "x"
   ]
  },
  {
   "cell_type": "code",
   "execution_count": 14,
   "id": "c1d93d7e",
   "metadata": {},
   "outputs": [
    {
     "data": {
      "text/plain": [
       "'1959'"
      ]
     },
     "execution_count": 14,
     "metadata": {},
     "output_type": "execute_result"
    }
   ],
   "source": [
    "eval(x['Rec. Pred Answer'][0])[0]"
   ]
  },
  {
   "cell_type": "code",
   "execution_count": 30,
   "id": "8463d0b2",
   "metadata": {},
   "outputs": [],
   "source": [
    "def take_accepted_and_rejected_qa_with_nli(df):\n",
    "    \n",
    "    right_pred_model_qa_and_accepted_by_nli_ctr = 0\n",
    "    right_pred_model_qa_and_rejected_by_nli_ctr = 0\n",
    "    wrong_pred_model_qa_and_accepted_by_nli_ctr = 0\n",
    "    wrong_pred_model_qa_and_rejected_by_nli_ctr = 0\n",
    "    \n",
    "    for i in tqdm(range(len(df))):\n",
    "        \n",
    "        gold_answer = df['Gold Answer'][i]\n",
    "        qa_generated_answer = eval(x['Rec. Pred Answer'][i])[0]\n",
    "        nli_validated_answer = df['Prediction Answer'][i]\n",
    "    \n",
    "        # Jawaban dari model qa yg benar & di-accept sama model NLI\n",
    "        right_pred_model_qa_and_accepted_by_nli = (gold_answer == qa_generated_answer) and \\\n",
    "            (qa_generated_answer == nli_validated_answer)\n",
    "\n",
    "        # Jawaban dari model qa yg benar & di-reject sama model NLI\n",
    "        right_pred_model_qa_and_rejected_by_nli = (gold_answer == qa_generated_answer) and \\\n",
    "            (qa_generated_answer != nli_validated_answer)\n",
    "\n",
    "        # Jawaban dari model qa yg salah & di-accept sama model NLI\n",
    "        wrong_pred_model_qa_and_accepted_by_nli = (gold_answer != qa_generated_answer) and \\\n",
    "            (qa_generated_answer == nli_validated_answer)\n",
    "\n",
    "        # Jawaban dari model qa yg salah & di-reject sama model NLI\n",
    "        wrong_pred_model_qa_and_rejected_by_nli = (gold_answer != qa_generated_answer) and \\\n",
    "            (qa_generated_answer != nli_validated_answer)\n",
    "        \n",
    "        if right_pred_model_qa_and_accepted_by_nli:\n",
    "            right_pred_model_qa_and_accepted_by_nli_ctr += 1\n",
    "        elif right_pred_model_qa_and_rejected_by_nli:\n",
    "            right_pred_model_qa_and_rejected_by_nli_ctr += 1\n",
    "        elif wrong_pred_model_qa_and_accepted_by_nli:\n",
    "            wrong_pred_model_qa_and_accepted_by_nli_ctr += 1\n",
    "        elif wrong_pred_model_qa_and_rejected_by_nli:\n",
    "            wrong_pred_model_qa_and_rejected_by_nli_ctr += 1\n",
    "    \n",
    "    return right_pred_model_qa_and_accepted_by_nli_ctr, right_pred_model_qa_and_rejected_by_nli_ctr, \\\n",
    "            wrong_pred_model_qa_and_accepted_by_nli_ctr, wrong_pred_model_qa_and_rejected_by_nli_ctr"
   ]
  },
  {
   "cell_type": "code",
   "execution_count": 31,
   "id": "47a3b744",
   "metadata": {},
   "outputs": [
    {
     "name": "stderr",
     "output_type": "stream",
     "text": [
      "100%|██████████████████████████████████████████████████████████████████████████████| 844/844 [00:00<00:00, 30755.53it/s]\n"
     ]
    }
   ],
   "source": [
    "a, b, c, d = take_accepted_and_rejected_qa_with_nli(x)"
   ]
  },
  {
   "cell_type": "code",
   "execution_count": 32,
   "id": "3abc2803",
   "metadata": {},
   "outputs": [
    {
     "data": {
      "text/plain": [
       "844"
      ]
     },
     "execution_count": 32,
     "metadata": {},
     "output_type": "execute_result"
    }
   ],
   "source": [
    "a+b+c+d"
   ]
  },
  {
   "cell_type": "code",
   "execution_count": null,
   "id": "b644eb90",
   "metadata": {},
   "outputs": [],
   "source": [
    "# Jawaban dari model qa yg benar & di-accept sama model NLI\n",
    "right_pred_model_qa_and_accepted_by_nli = (Gold Answer == Rec.Pred Answer[0]) and (Rec.Pred Answer[0] == Prediction Answer)\n",
    "\n",
    "# Jawaban dari model qa yg benar & di-reject sama model NLI\n",
    "right_pred_model_qa_and_rejected_by_nli = (Gold Answer == Rec.Pred Answer[0]) and (Rec.Pred Answer[0] != Prediction Answer)\n",
    "\n",
    "# Jawaban dari model qa yg salah & di-accept sama model NLI\n",
    "wrong_pred_model_qa_and_accepted_by_nli = (Gold Answer != Rec.Pred Answer[0]) and (Rec.Pred Answer[0] == Prediction Answer)\n",
    "\n",
    "# Jawaban dari model qa yg salah & di-reject sama model NLI\n",
    "wrong_pred_model_qa_and_rejected_by_nli = (Gold Answer != Rec.Pred Answer[0]) and (Rec.Pred Answer[0] != Prediction Answer)"
   ]
  },
  {
   "cell_type": "code",
   "execution_count": 6,
   "id": "9c98f41e-a245-49dd-934c-d6c9879ddabe",
   "metadata": {},
   "outputs": [
    {
     "ename": "SyntaxError",
     "evalue": "invalid syntax (199361488.py, line 1)",
     "output_type": "error",
     "traceback": [
      "\u001b[0;36m  Cell \u001b[0;32mIn[6], line 1\u001b[0;36m\u001b[0m\n\u001b[0;31m    right_pred_model_qa = (Gold Answer == Prediction Answer) and (Prediction Answer == Rec.Pred Answer[0])\u001b[0m\n\u001b[0m                                ^\u001b[0m\n\u001b[0;31mSyntaxError\u001b[0m\u001b[0;31m:\u001b[0m invalid syntax\n"
     ]
    }
   ],
   "source": [
    "right_pred_model_qa = (Gold Answer == Prediction Answer) and (Prediction Answer == Rec.Pred Answer[0])\n",
    "wrong_pred_model_qa = (Gold Answer != Prediction Answer) and (Prediction Answer == Rec.Pred Answer[0])\n",
    "\n",
    "right_pred_model_nli = (Gold Answer == Prediction Answer) and (Prediction Answer != Rec.Pred Answer[0])\n",
    "wrong_pred_model_nli = (Gold Answer != Prediction Answer) and (Prediction Answer != Rec.Pred Answer[0])"
   ]
  },
  {
   "cell_type": "code",
   "execution_count": null,
   "id": "f084ef29-4853-4ad6-84dd-fdf536bef5b1",
   "metadata": {},
   "outputs": [],
   "source": []
  }
 ],
 "metadata": {
  "kernelspec": {
   "display_name": "Python 3 (ipykernel)",
   "language": "python",
   "name": "python3"
  },
  "language_info": {
   "codemirror_mode": {
    "name": "ipython",
    "version": 3
   },
   "file_extension": ".py",
   "mimetype": "text/x-python",
   "name": "python",
   "nbconvert_exporter": "python",
   "pygments_lexer": "ipython3",
   "version": "3.8.10"
  }
 },
 "nbformat": 4,
 "nbformat_minor": 5
}
