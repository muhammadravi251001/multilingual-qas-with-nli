{
 "cells": [
  {
   "cell_type": "markdown",
   "id": "9171daa4",
   "metadata": {},
   "source": [
    "# Define tool and model of the tool"
   ]
  },
  {
   "cell_type": "code",
   "execution_count": 209,
   "id": "1a063a2c",
   "metadata": {},
   "outputs": [
    {
     "name": "stdout",
     "output_type": "stream",
     "text": [
      "Wed Oct 11 14:30:22 2023       \n",
      "+-----------------------------------------------------------------------------+\n",
      "| NVIDIA-SMI 470.161.03   Driver Version: 470.161.03   CUDA Version: 11.5     |\n",
      "|-------------------------------+----------------------+----------------------+\n",
      "| GPU  Name        Persistence-M| Bus-Id        Disp.A | Volatile Uncorr. ECC |\n",
      "| Fan  Temp  Perf  Pwr:Usage/Cap|         Memory-Usage | GPU-Util  Compute M. |\n",
      "|                               |                      |               MIG M. |\n",
      "|===============================+======================+======================|\n",
      "|   0  Tesla V100-SXM2...  On   | 00000000:06:00.0 Off |                    0 |\n",
      "| N/A   35C    P0    56W / 300W |   2800MiB / 32510MiB |      0%      Default |\n",
      "|                               |                      |                  N/A |\n",
      "+-------------------------------+----------------------+----------------------+\n",
      "|   1  Tesla V100-SXM2...  On   | 00000000:07:00.0 Off |                    0 |\n",
      "| N/A   44C    P0    94W / 300W |  15636MiB / 32510MiB |     23%      Default |\n",
      "|                               |                      |                  N/A |\n",
      "+-------------------------------+----------------------+----------------------+\n",
      "|   2  Tesla V100-SXM2...  On   | 00000000:0A:00.0 Off |                    0 |\n",
      "| N/A   50C    P0   100W / 300W |  16782MiB / 32510MiB |     24%      Default |\n",
      "|                               |                      |                  N/A |\n",
      "+-------------------------------+----------------------+----------------------+\n",
      "|   3  Tesla V100-SXM2...  On   | 00000000:0B:00.0 Off |                    0 |\n",
      "| N/A   45C    P0    84W / 300W |  16880MiB / 32510MiB |     62%      Default |\n",
      "|                               |                      |                  N/A |\n",
      "+-------------------------------+----------------------+----------------------+\n",
      "|   4  Tesla V100-SXM2...  On   | 00000000:85:00.0 Off |                    0 |\n",
      "| N/A   46C    P0    98W / 300W |  17004MiB / 32510MiB |     29%      Default |\n",
      "|                               |                      |                  N/A |\n",
      "+-------------------------------+----------------------+----------------------+\n",
      "|   5  Tesla V100-SXM2...  On   | 00000000:86:00.0 Off |                    0 |\n",
      "| N/A   49C    P0   105W / 300W |  31732MiB / 32510MiB |     27%      Default |\n",
      "|                               |                      |                  N/A |\n",
      "+-------------------------------+----------------------+----------------------+\n",
      "|   6  Tesla V100-SXM2...  On   | 00000000:89:00.0 Off |                    0 |\n",
      "| N/A   41C    P0    44W / 300W |      3MiB / 32510MiB |      0%      Default |\n",
      "|                               |                      |                  N/A |\n",
      "+-------------------------------+----------------------+----------------------+\n",
      "|   7  Tesla V100-SXM2...  On   | 00000000:8A:00.0 Off |                    0 |\n",
      "| N/A   41C    P0    74W / 300W |  14368MiB / 32510MiB |     13%      Default |\n",
      "|                               |                      |                  N/A |\n",
      "+-------------------------------+----------------------+----------------------+\n",
      "                                                                               \n",
      "+-----------------------------------------------------------------------------+\n",
      "| Processes:                                                                  |\n",
      "|  GPU   GI   CI        PID   Type   Process name                  GPU Memory |\n",
      "|        ID   ID                                                   Usage      |\n",
      "|=============================================================================|\n",
      "+-----------------------------------------------------------------------------+\n"
     ]
    }
   ],
   "source": [
    "!nvidia-smi"
   ]
  },
  {
   "cell_type": "markdown",
   "id": "59f10e14",
   "metadata": {},
   "source": [
    "Below, it is some settings to run in my local."
   ]
  },
  {
   "cell_type": "code",
   "execution_count": 210,
   "id": "e59d867f",
   "metadata": {},
   "outputs": [],
   "source": [
    "import os, torch\n",
    "os.environ[\"TOKENIZERS_PARALLELISM\"] = \"false\"\n",
    "os.environ['TRANSFORMERS_NO_ADVISORY_WARNINGS'] = 'true'\n",
    "os.environ['CUDA_VISIBLE_DEVICES'] = '0'\n",
    "device = torch.device(\"cuda\" if torch.cuda.is_available() else \"cpu\")"
   ]
  },
  {
   "cell_type": "markdown",
   "id": "23e983e0",
   "metadata": {},
   "source": [
    "You can tweak your settings too in code below."
   ]
  },
  {
   "cell_type": "code",
   "execution_count": 211,
   "id": "41849a63",
   "metadata": {},
   "outputs": [],
   "source": [
    "import sys\n",
    "\n",
    "NAME = \"idk-mrc\"\n",
    "NO_ANSWER_STATEMENT = \"Tidak ada jawaban\"\n",
    "\n",
    "TASK_NER_NAME = \"ner\"\n",
    "MODEL_NER_NAME = \"ageng-anugrah/indobert-large-p2-finetuned-ner\"\n",
    "\n",
    "TASK_CHUNKING_NAME = \"token-classification\"\n",
    "MODEL_CHUNKING_NAME = \"ageng-anugrah/indobert-large-p2-finetuned-chunking\"\n",
    "\n",
    "MODEL_SIMILARITY_NAME = \"paraphrase-multilingual-mpnet-base-v2\"\n",
    "URL_STOPWORD = \"https://raw.githubusercontent.com/6/stopwords-json/master/stopwords-all.json\"\n",
    "\n",
    "TASK_PARAPHRASER_NAME = \"text2text-generation\"\n",
    "MODEL_PARAPHRASER_NAME = \"\"\n",
    "\n",
    "# Uncomment sys.maxsize to create all of the data, \n",
    "# else if you want to debugging\n",
    "\n",
    "# SAMPLE = sys.maxsize\n",
    "SAMPLE = 250"
   ]
  },
  {
   "cell_type": "markdown",
   "id": "31d9fdd4",
   "metadata": {},
   "source": [
    "# Import anything"
   ]
  },
  {
   "cell_type": "code",
   "execution_count": 212,
   "id": "e26d313f",
   "metadata": {},
   "outputs": [],
   "source": [
    "import transformers\n",
    "import evaluate\n",
    "import torch\n",
    "import operator\n",
    "import re\n",
    "import sys\n",
    "import collections\n",
    "import string\n",
    "import contextlib\n",
    "import gc\n",
    "import random\n",
    "import string\n",
    "import requests\n",
    "\n",
    "import numpy as np\n",
    "import pandas as pd\n",
    "import torch.nn as nn\n",
    "\n",
    "from multiprocessing import cpu_count\n",
    "from evaluate import load\n",
    "from nusacrowd import NusantaraConfigHelper\n",
    "from datetime import datetime\n",
    "from huggingface_hub import notebook_login\n",
    "from tqdm import tqdm\n",
    "from huggingface_hub import HfApi\n",
    "from sentence_transformers import SentenceTransformer, util\n",
    "\n",
    "from datasets import (\n",
    "    load_dataset, \n",
    "    Dataset,\n",
    "    DatasetDict\n",
    ")\n",
    "from transformers import (\n",
    "    DataCollatorWithPadding,\n",
    "    TrainingArguments,\n",
    "    Trainer,\n",
    "    AutoModelForSequenceClassification,\n",
    "    AutoTokenizer,\n",
    "    EarlyStoppingCallback, \n",
    "    AutoModelForQuestionAnswering,\n",
    "    AutoModelForTokenClassification,\n",
    "    pipeline\n",
    ")"
   ]
  },
  {
   "cell_type": "markdown",
   "id": "079cd27c",
   "metadata": {},
   "source": [
    "# Retrieve QA dataset"
   ]
  },
  {
   "cell_type": "code",
   "execution_count": 213,
   "id": "34f426d9",
   "metadata": {},
   "outputs": [
    {
     "name": "stdout",
     "output_type": "stream",
     "text": [
      "PROGRAM STARTED\n"
     ]
    }
   ],
   "source": [
    "print(\"PROGRAM STARTED\")"
   ]
  },
  {
   "cell_type": "code",
   "execution_count": 214,
   "id": "dafbf0d8",
   "metadata": {},
   "outputs": [
    {
     "name": "stderr",
     "output_type": "stream",
     "text": [
      "WARNING:datasets.builder:Reusing dataset idk_mrc (/root/.cache/huggingface/datasets/idk_mrc/idk_mrc_source/1.0.0/cf468d86fa7341e69998db1449851672ebfb4fa46036929d66b9de15c421334f)\n"
     ]
    },
    {
     "data": {
      "application/vnd.jupyter.widget-view+json": {
       "model_id": "d9186f10757949c4a4f45b9f39680dc9",
       "version_major": 2,
       "version_minor": 0
      },
      "text/plain": [
       "  0%|          | 0/3 [00:00<?, ?it/s]"
      ]
     },
     "metadata": {},
     "output_type": "display_data"
    },
    {
     "name": "stderr",
     "output_type": "stream",
     "text": [
      "100%|███████████████████████████████████████████████████████████████████████████████| 3659/3659 [01:26<00:00, 42.40it/s]\n",
      "100%|█████████████████████████████████████████████████████████████████████████████████| 358/358 [00:06<00:00, 55.23it/s]\n",
      "100%|█████████████████████████████████████████████████████████████████████████████████| 378/378 [00:07<00:00, 53.82it/s]\n"
     ]
    },
    {
     "data": {
      "text/plain": [
       "DatasetDict({\n",
       "    train: Dataset({\n",
       "        features: ['context', 'question', 'answer'],\n",
       "        num_rows: 9332\n",
       "    })\n",
       "    validation: Dataset({\n",
       "        features: ['context', 'question', 'answer'],\n",
       "        num_rows: 764\n",
       "    })\n",
       "    test: Dataset({\n",
       "        features: ['context', 'question', 'answer'],\n",
       "        num_rows: 844\n",
       "    })\n",
       "})"
      ]
     },
     "execution_count": 214,
     "metadata": {},
     "output_type": "execute_result"
    }
   ],
   "source": [
    "conhelps = NusantaraConfigHelper()\n",
    "data_qas = conhelps.filtered(lambda x: 'idk_mrc' in x.dataset_name)[0].load_dataset()\n",
    "\n",
    "df_train = pd.DataFrame(data_qas['train'])\n",
    "df_validation = pd.DataFrame(data_qas['validation'])\n",
    "df_test = pd.DataFrame(data_qas['test'])\n",
    "\n",
    "cols = ['context', 'question', 'answer']\n",
    "new_df_train = pd.DataFrame(columns=cols)\n",
    "\n",
    "for i in tqdm(range(len(df_train['context']))):\n",
    "    for j in df_train[\"qas\"][i]:\n",
    "        if len(j['answers']) != 0:\n",
    "            new_df_train = new_df_train.append({'context': df_train[\"context\"][i], \n",
    "                                                'question': j['question'], \n",
    "                                                'answer': {\"text\": j['answers'][0]['text'], \n",
    "                                                           \"answer_start\": j['answers'][0]['answer_start'], \n",
    "                                                           \"answer_end\": j['answers'][0]['answer_start'] + len(j['answers'][0]['text'])}}, \n",
    "                                                           ignore_index=True)\n",
    "        else:\n",
    "            new_df_train = new_df_train.append({'context': df_train[\"context\"][i], \n",
    "                                                'question': j['question'], \n",
    "                                                'answer': {\"text\": str(), \n",
    "                                                           \"answer_start\": 0, \n",
    "                                                           \"answer_end\": 0}}, \n",
    "                                                           ignore_index=True)\n",
    "\n",
    "cols = ['context', 'question', 'answer']\n",
    "new_df_val = pd.DataFrame(columns=cols)\n",
    "\n",
    "for i in tqdm(range(len(df_validation['context']))):\n",
    "    for j in df_validation[\"qas\"][i]:\n",
    "        if len(j['answers']) != 0:\n",
    "            new_df_val = new_df_val.append({'context': df_validation[\"context\"][i], \n",
    "                                            'question': j['question'], \n",
    "                                            'answer': {\"text\": j['answers'][0]['text'], \n",
    "                                                       \"answer_start\": j['answers'][0]['answer_start'], \n",
    "                                                       \"answer_end\": j['answers'][0]['answer_start'] + len(j['answers'][0]['text'])}}, \n",
    "                                                       ignore_index=True)\n",
    "        else:\n",
    "            new_df_val = new_df_val.append({'context': df_validation[\"context\"][i], \n",
    "                                            'question': j['question'], \n",
    "                                            'answer': {\"text\": str(), \n",
    "                                                       \"answer_start\": 0, \n",
    "                                                       \"answer_end\": 0}}, \n",
    "                                                       ignore_index=True)        \n",
    "\n",
    "cols = ['context', 'question', 'answer']\n",
    "new_df_test = pd.DataFrame(columns=cols)\n",
    "\n",
    "for i in tqdm(range(len(df_test['context']))):\n",
    "    for j in df_test[\"qas\"][i]:\n",
    "        if len(j['answers']) != 0:\n",
    "            new_df_test = new_df_test.append({'context': df_test[\"context\"][i], \n",
    "                                            'question': j['question'], \n",
    "                                            'answer': {\"text\": j['answers'][0]['text'], \n",
    "                                                       \"answer_start\": j['answers'][0]['answer_start'], \n",
    "                                                       \"answer_end\": j['answers'][0]['answer_start'] + len(j['answers'][0]['text'])}}, \n",
    "                                                       ignore_index=True)\n",
    "        else:\n",
    "            new_df_test = new_df_test.append({'context': df_test[\"context\"][i], \n",
    "                                            'question': j['question'], \n",
    "                                            'answer': {\"text\": str(), \n",
    "                                                       \"answer_start\": 0, \n",
    "                                                       \"answer_end\": 0}}, \n",
    "                                                       ignore_index=True)\n",
    "\n",
    "train_dataset = Dataset.from_dict(new_df_train)\n",
    "validation_dataset = Dataset.from_dict(new_df_val)\n",
    "test_dataset = Dataset.from_dict(new_df_test)\n",
    "\n",
    "data_qas = DatasetDict({\"train\": train_dataset, \"validation\": validation_dataset, \"test\": test_dataset})\n",
    "data_qas"
   ]
  },
  {
   "cell_type": "markdown",
   "id": "04ae908a",
   "metadata": {},
   "source": [
    "# Convert to NLI, with hypothesis being just do concat question & answer"
   ]
  },
  {
   "cell_type": "markdown",
   "id": "ef4c79ac",
   "metadata": {},
   "source": [
    "## Convert Dataset to DataFrame format"
   ]
  },
  {
   "cell_type": "code",
   "execution_count": 215,
   "id": "b342b8ce-41f9-4714-84a5-1697cfee1fc7",
   "metadata": {},
   "outputs": [],
   "source": [
    "# 42, the answer to life the universe and everything\n",
    "\n",
    "seed_value = 42\n",
    "random.seed(seed_value)"
   ]
  },
  {
   "cell_type": "code",
   "execution_count": 216,
   "id": "275dc3da",
   "metadata": {},
   "outputs": [],
   "source": [
    "# If you want to training all of the data (prod),\n",
    "# this code will convert to DataFrame.\n",
    "# However, if you want to debug (not-prod),\n",
    "# this code will convert SAMPLE of your DataFrame\n",
    "\n",
    "if SAMPLE == sys.maxsize:\n",
    "    data_qas_train_df = pd.DataFrame(data_qas[\"train\"][:SAMPLE])\n",
    "    data_qas_val_df = pd.DataFrame(data_qas[\"validation\"][:SAMPLE])\n",
    "    data_qas_test_df = pd.DataFrame(data_qas[\"test\"][:SAMPLE])\n",
    "\n",
    "else:\n",
    "    data_qas_train_df = (pd.DataFrame(data_qas[\"train\"])).sample(n=SAMPLE, random_state=seed_value)\n",
    "    data_qas_val_df = (pd.DataFrame(data_qas[\"validation\"])).sample(n=SAMPLE, random_state=seed_value)\n",
    "    data_qas_test_df = (pd.DataFrame(data_qas[\"test\"])).sample(n=SAMPLE, random_state=seed_value)\n",
    "\n",
    "    data_qas_train_df = data_qas_train_df.reset_index(drop=True)\n",
    "    data_qas_val_df = data_qas_val_df.reset_index(drop=True)\n",
    "    data_qas_test_df = data_qas_test_df.reset_index(drop=True)"
   ]
  },
  {
   "cell_type": "markdown",
   "id": "655bbf0b",
   "metadata": {},
   "source": [
    "## Retrieve answer text only"
   ]
  },
  {
   "cell_type": "code",
   "execution_count": 217,
   "id": "0424485e",
   "metadata": {},
   "outputs": [],
   "source": [
    "# Only retrieve answer text\n",
    "# Because, we do not use answer_start\n",
    "# and answer_end\n",
    "\n",
    "def retrieve_answer_text(data):\n",
    "    for i in range(len(data)):\n",
    "        data['answer'][i] = data['answer'][i]['text']\n",
    "    return data"
   ]
  },
  {
   "cell_type": "code",
   "execution_count": 218,
   "id": "a6b1a2f3",
   "metadata": {},
   "outputs": [],
   "source": [
    "data_qas_train_df = retrieve_answer_text(data_qas_train_df)\n",
    "data_qas_val_df = retrieve_answer_text(data_qas_val_df)\n",
    "data_qas_test_df = retrieve_answer_text(data_qas_test_df)"
   ]
  },
  {
   "cell_type": "markdown",
   "id": "e881d292",
   "metadata": {},
   "source": [
    "## Create NLI dataset from copy of QA dataset above"
   ]
  },
  {
   "cell_type": "code",
   "execution_count": 219,
   "id": "8808af2a",
   "metadata": {},
   "outputs": [],
   "source": [
    "data_nli_train_df = data_qas_train_df.copy()\n",
    "data_nli_val_df = data_qas_val_df.copy()\n",
    "data_nli_test_df = data_qas_test_df.copy()"
   ]
  },
  {
   "cell_type": "code",
   "execution_count": 220,
   "id": "a89c33f1",
   "metadata": {},
   "outputs": [
    {
     "data": {
      "text/html": [
       "<div>\n",
       "<style scoped>\n",
       "    .dataframe tbody tr th:only-of-type {\n",
       "        vertical-align: middle;\n",
       "    }\n",
       "\n",
       "    .dataframe tbody tr th {\n",
       "        vertical-align: top;\n",
       "    }\n",
       "\n",
       "    .dataframe thead th {\n",
       "        text-align: right;\n",
       "    }\n",
       "</style>\n",
       "<table border=\"1\" class=\"dataframe\">\n",
       "  <thead>\n",
       "    <tr style=\"text-align: right;\">\n",
       "      <th></th>\n",
       "      <th>context</th>\n",
       "      <th>question</th>\n",
       "      <th>answer</th>\n",
       "    </tr>\n",
       "  </thead>\n",
       "  <tbody>\n",
       "    <tr>\n",
       "      <th>0</th>\n",
       "      <td>Bendera Jerman pertama kali diperkenalkan pada...</td>\n",
       "      <td>Apa warna bendera Jerman ?</td>\n",
       "      <td>hitam di atas, merah di tengah, dan kuning (\"e...</td>\n",
       "    </tr>\n",
       "    <tr>\n",
       "      <th>1</th>\n",
       "      <td>Daratan utama Skotlandia mencakup sepertiga da...</td>\n",
       "      <td>Berapa luas Skotlandia pada tahun 1835?</td>\n",
       "      <td></td>\n",
       "    </tr>\n",
       "    <tr>\n",
       "      <th>2</th>\n",
       "      <td>Paus (dari Dutch: paus; Latin: papa dari Greek...</td>\n",
       "      <td>Siapakah nama pemimpin dalam gereja ?</td>\n",
       "      <td>Paus</td>\n",
       "    </tr>\n",
       "    <tr>\n",
       "      <th>3</th>\n",
       "      <td>Euro (€) adalah mata uang yang dipakai di 19 n...</td>\n",
       "      <td>Kapan mata uang Euro secara fisik baru dipakai?</td>\n",
       "      <td>1 Januari 2002</td>\n",
       "    </tr>\n",
       "    <tr>\n",
       "      <th>4</th>\n",
       "      <td>Kabupaten Kaimana adalah salah satu kabupaten ...</td>\n",
       "      <td>Berapa luas Kabupaten Kaimana?</td>\n",
       "      <td>36.000 km2</td>\n",
       "    </tr>\n",
       "    <tr>\n",
       "      <th>...</th>\n",
       "      <td>...</td>\n",
       "      <td>...</td>\n",
       "      <td>...</td>\n",
       "    </tr>\n",
       "    <tr>\n",
       "      <th>245</th>\n",
       "      <td>Kalimantan Timur (disingkat Kaltim) adalah seb...</td>\n",
       "      <td>Berapa luas provinsi kalimantan barat?</td>\n",
       "      <td></td>\n",
       "    </tr>\n",
       "    <tr>\n",
       "      <th>246</th>\n",
       "      <td>Pada tahun 1989, saat bekerja di di CERN, Labo...</td>\n",
       "      <td>Siapakah yang mencuri server untuk pertama kali?</td>\n",
       "      <td></td>\n",
       "    </tr>\n",
       "    <tr>\n",
       "      <th>247</th>\n",
       "      <td>Ibu kota Malaysia ialah Kuala Lumpur. Kota ini...</td>\n",
       "      <td>Apa ibukota Malaysia?</td>\n",
       "      <td>Kuala Lumpur</td>\n",
       "    </tr>\n",
       "    <tr>\n",
       "      <th>248</th>\n",
       "      <td>Arctic Monkeys merupakan grup musik rock asal ...</td>\n",
       "      <td>Siapa yang tidak dikenal sebagai drummer Arcti...</td>\n",
       "      <td></td>\n",
       "    </tr>\n",
       "    <tr>\n",
       "      <th>249</th>\n",
       "      <td>PT Bintang Toedjoe didirikan pada 29 April 194...</td>\n",
       "      <td>Kapan PT Bintang Toedjoe didirikan?</td>\n",
       "      <td>29 April 1946</td>\n",
       "    </tr>\n",
       "  </tbody>\n",
       "</table>\n",
       "<p>250 rows × 3 columns</p>\n",
       "</div>"
      ],
      "text/plain": [
       "                                               context  \\\n",
       "0    Bendera Jerman pertama kali diperkenalkan pada...   \n",
       "1    Daratan utama Skotlandia mencakup sepertiga da...   \n",
       "2    Paus (dari Dutch: paus; Latin: papa dari Greek...   \n",
       "3    Euro (€) adalah mata uang yang dipakai di 19 n...   \n",
       "4    Kabupaten Kaimana adalah salah satu kabupaten ...   \n",
       "..                                                 ...   \n",
       "245  Kalimantan Timur (disingkat Kaltim) adalah seb...   \n",
       "246  Pada tahun 1989, saat bekerja di di CERN, Labo...   \n",
       "247  Ibu kota Malaysia ialah Kuala Lumpur. Kota ini...   \n",
       "248  Arctic Monkeys merupakan grup musik rock asal ...   \n",
       "249  PT Bintang Toedjoe didirikan pada 29 April 194...   \n",
       "\n",
       "                                              question  \\\n",
       "0                           Apa warna bendera Jerman ?   \n",
       "1              Berapa luas Skotlandia pada tahun 1835?   \n",
       "2                Siapakah nama pemimpin dalam gereja ?   \n",
       "3      Kapan mata uang Euro secara fisik baru dipakai?   \n",
       "4                       Berapa luas Kabupaten Kaimana?   \n",
       "..                                                 ...   \n",
       "245             Berapa luas provinsi kalimantan barat?   \n",
       "246   Siapakah yang mencuri server untuk pertama kali?   \n",
       "247                              Apa ibukota Malaysia?   \n",
       "248  Siapa yang tidak dikenal sebagai drummer Arcti...   \n",
       "249                Kapan PT Bintang Toedjoe didirikan?   \n",
       "\n",
       "                                                answer  \n",
       "0    hitam di atas, merah di tengah, dan kuning (\"e...  \n",
       "1                                                       \n",
       "2                                                 Paus  \n",
       "3                                       1 Januari 2002  \n",
       "4                                           36.000 km2  \n",
       "..                                                 ...  \n",
       "245                                                     \n",
       "246                                                     \n",
       "247                                       Kuala Lumpur  \n",
       "248                                                     \n",
       "249                                      29 April 1946  \n",
       "\n",
       "[250 rows x 3 columns]"
      ]
     },
     "execution_count": 220,
     "metadata": {},
     "output_type": "execute_result"
    }
   ],
   "source": [
    "data_qas_train_df"
   ]
  },
  {
   "cell_type": "code",
   "execution_count": 1570,
   "id": "b938d7a7",
   "metadata": {},
   "outputs": [],
   "source": [
    "data = {\n",
    "    'context': [\"Baudouin adalah putra Eustace II, Comte Boulogne dan Ide dari Lorraine (putri Godefroy III, Adipati Lorraine Hilir), dan adik Eustace III, Comte Boulogne dan Godefroy dari Bouillon. Sebagai saudara bungsu, Baudouin awalnya ditujukan untuk berkarier di gereja, namun ia menyerah pada sekitar tahun 1080; menurut Willelmus dari Tirus, yang hidup pada abad ke-12 dan tidak mengenal Baudouin secara pribadi: \\\"di masa mudanya, Baudouin juga memelihara seni liberal. Ia menjadi seorang ulama, dikatakan, dan karena keturunannya yang terkenal, memiliki manfaat yang biasa disebut prebend di gereja-gereja di Reims, Cambrai, dan Liège.\\\" Setelah itu ia tinggal di Normandia, di mana ia menikahi Godehilde (atau Godvera) de Toeni, putri Raoul de Conches dari keluarga bangsawan Anglo-Norman (dan sebelumnya bertunangan dengan istri Robert de Beaumont). Ia kembali ke Lorraine Hilir dalam rangka untuk mengendalikan kadipaten Verdun (yang sebelumnya dipegang oleh Godefroy).\"],\n",
    "    'question': [\"Siapa ibu Baudouin I ?\"],\n",
    "    'answer': [\"Ide dari Lorraine\"]\n",
    "}"
   ]
  },
  {
   "cell_type": "code",
   "execution_count": 1571,
   "id": "9ef75ac6",
   "metadata": {},
   "outputs": [
    {
     "data": {
      "text/html": [
       "<div>\n",
       "<style scoped>\n",
       "    .dataframe tbody tr th:only-of-type {\n",
       "        vertical-align: middle;\n",
       "    }\n",
       "\n",
       "    .dataframe tbody tr th {\n",
       "        vertical-align: top;\n",
       "    }\n",
       "\n",
       "    .dataframe thead th {\n",
       "        text-align: right;\n",
       "    }\n",
       "</style>\n",
       "<table border=\"1\" class=\"dataframe\">\n",
       "  <thead>\n",
       "    <tr style=\"text-align: right;\">\n",
       "      <th></th>\n",
       "      <th>context</th>\n",
       "      <th>question</th>\n",
       "      <th>answer</th>\n",
       "    </tr>\n",
       "  </thead>\n",
       "  <tbody>\n",
       "    <tr>\n",
       "      <th>0</th>\n",
       "      <td>Baudouin adalah putra Eustace II, Comte Boulog...</td>\n",
       "      <td>Siapa ibu Baudouin I ?</td>\n",
       "      <td>Ide dari Lorraine</td>\n",
       "    </tr>\n",
       "  </tbody>\n",
       "</table>\n",
       "</div>"
      ],
      "text/plain": [
       "                                             context                question  \\\n",
       "0  Baudouin adalah putra Eustace II, Comte Boulog...  Siapa ibu Baudouin I ?   \n",
       "\n",
       "              answer  \n",
       "0  Ide dari Lorraine  "
      ]
     },
     "execution_count": 1571,
     "metadata": {},
     "output_type": "execute_result"
    }
   ],
   "source": [
    "#data_debug = pd.DataFrame(data)\n",
    "#data_debug"
   ]
  },
  {
   "cell_type": "markdown",
   "id": "83072dc4",
   "metadata": {},
   "source": [
    "## Convert context pair to premise (only renaming column)"
   ]
  },
  {
   "cell_type": "code",
   "execution_count": 1572,
   "id": "a1562622",
   "metadata": {},
   "outputs": [],
   "source": [
    "# Renaming it, just for consistency\n",
    "\n",
    "data_nli_train_df = data_nli_train_df.rename(columns={\"context\": \"premise\"})\n",
    "data_nli_val_df = data_nli_val_df.rename(columns={\"context\": \"premise\"})\n",
    "data_nli_test_df = data_nli_test_df.rename(columns={\"context\": \"premise\"})"
   ]
  },
  {
   "cell_type": "code",
   "execution_count": 1573,
   "id": "a09ab26a",
   "metadata": {},
   "outputs": [],
   "source": [
    "#data_debug = data_debug.rename(columns={\"context\": \"premise\"})"
   ]
  },
  {
   "cell_type": "markdown",
   "id": "e33986ce",
   "metadata": {},
   "source": [
    "# Add contradiction label cases"
   ]
  },
  {
   "cell_type": "markdown",
   "id": "095664cc",
   "metadata": {},
   "source": [
    "## Import pipeline to create contradiction cases"
   ]
  },
  {
   "cell_type": "code",
   "execution_count": 1574,
   "id": "e8850d2a",
   "metadata": {},
   "outputs": [],
   "source": [
    "nlp_tools_ner = pipeline(task = TASK_NER_NAME, \n",
    "                     model = MODEL_NER_NAME, \n",
    "                     tokenizer = AutoTokenizer.from_pretrained(MODEL_NER_NAME, \n",
    "                                                               model_max_length=512, \n",
    "                                                               truncation=True),\n",
    "                     aggregation_strategy = 'simple')"
   ]
  },
  {
   "cell_type": "code",
   "execution_count": 1575,
   "id": "e84dda9f",
   "metadata": {},
   "outputs": [],
   "source": [
    "nlp_tools_chunking = pipeline(task = TASK_CHUNKING_NAME, \n",
    "                     model = MODEL_CHUNKING_NAME, \n",
    "                     tokenizer = AutoTokenizer.from_pretrained(MODEL_CHUNKING_NAME, \n",
    "                                                               model_max_length=512, \n",
    "                                                               truncation=True),\n",
    "                     aggregation_strategy = 'simple')"
   ]
  },
  {
   "cell_type": "markdown",
   "id": "f0ae4a76",
   "metadata": {},
   "source": [
    "## Add NER and chunking tag column in DataFrame"
   ]
  },
  {
   "cell_type": "code",
   "execution_count": 1576,
   "id": "a68f3fd3",
   "metadata": {},
   "outputs": [],
   "source": [
    "# This code useful for cleaning the data (text)\n",
    "\n",
    "def remove_space_after_number_and_punctuation(text):\n",
    "    pattern = r'(\\d+)\\s*([.,])\\s*(?=\\S|$)'\n",
    "    cleaned_text = re.sub(pattern, r'\\1\\2', text)\n",
    "    return cleaned_text"
   ]
  },
  {
   "cell_type": "code",
   "execution_count": 1577,
   "id": "ee495118-61e1-4603-9194-690c0ae737c2",
   "metadata": {},
   "outputs": [],
   "source": [
    "# This code useful for tagging the entire premise\n",
    "# with NER and chunking tools\n",
    "\n",
    "def add_premise_tag(data, tag, index, premise_array, ner=nlp_tools_ner, chunking=nlp_tools_chunking):\n",
    "\n",
    "    if tag == \"ner\": tools=ner\n",
    "    else: tools=chunking\n",
    "    \n",
    "    # If the tools detected nothing, retrieve NO TOKEN DETECTED\n",
    "    if len(tools(data['premise'][index])) == 0:\n",
    "        premise_array.append(\"NO TOKEN DETECTED\")\n",
    "    \n",
    "    # Else if, the tools detected something, retrieve all of the entity and the word associated\n",
    "    else:\n",
    "        for j in tools(data['premise'][index]):\n",
    "            tag_premise = (j['entity_group'], remove_space_after_number_and_punctuation(j['word']))\n",
    "            premise_array.append(tag_premise)\n",
    "\n",
    "    return premise_array"
   ]
  },
  {
   "cell_type": "code",
   "execution_count": 1578,
   "id": "8de4a3d1",
   "metadata": {},
   "outputs": [],
   "source": [
    "# Function for clean the text off punctuation\n",
    "\n",
    "def remove_punctuation(text):\n",
    "    cleaned_text = text.lstrip(string.punctuation)\n",
    "    cleaned_text = cleaned_text.rstrip(string.punctuation)\n",
    "    return cleaned_text"
   ]
  },
  {
   "cell_type": "code",
   "execution_count": 1579,
   "id": "2c888804-88ec-4858-ba18-131545ee6267",
   "metadata": {},
   "outputs": [],
   "source": [
    "# This code useful for tagging the entire answer\n",
    "# with NER and chunking tools\n",
    "\n",
    "def add_answer_tag(answer, tag, premise_array, ner=nlp_tools_ner, chunking=nlp_tools_chunking):\n",
    "\n",
    "    if tag == \"ner\": tools=ner\n",
    "    else: tools=chunking\n",
    "\n",
    "    tag_answer_list = list()\n",
    "    \n",
    "    if tag == \"ner\":\n",
    "        \n",
    "        # If tools in premise detecting some token\n",
    "        \n",
    "        if len(premise_array) != 0:\n",
    "            \n",
    "            for i in premise_array:\n",
    "                \n",
    "                # Extract the label and the word of premise\n",
    "                \n",
    "                label_from_premise_tag = i[0]\n",
    "                word_from_premise_tag = remove_space_after_number_and_punctuation(i[1])\n",
    "\n",
    "                # With assumption, that I do not dividing label when\n",
    "                # there is more than one label in one word answer.\n",
    "                # Instead, I give a NULL.\n",
    "\n",
    "                if word_from_premise_tag.lower() == answer.lower():\n",
    "                    tag_answer = (label_from_premise_tag, word_from_premise_tag)\n",
    "                    break\n",
    "\n",
    "                # Or, I could do this: to reducing NULL label \n",
    "                # with subset of string not really with the entire string.\n",
    "                \n",
    "                elif answer.lower() in word_from_premise_tag or word_from_premise_tag in answer.lower():\n",
    "                    tag_answer = (label_from_premise_tag, answer.lower())\n",
    "                    break\n",
    "                \n",
    "                # Then, if you still do not find the word, NULL given\n",
    "                \n",
    "                else:\n",
    "                    tag_answer = (\"NULL\", answer)\n",
    "            \n",
    "            tag_answer_list.append(tag_answer)\n",
    "\n",
    "        # If tools in premise NOT detecting some token, NULL given\n",
    "        \n",
    "        else:\n",
    "            tag_answer = (\"NULL\", answer)\n",
    "            tag_answer_list.append(tag_answer)\n",
    "    \n",
    "    elif tag == \"chunking\":\n",
    "        \n",
    "        # In chunking, it's slightly different because \n",
    "        # the basic assumption is that there are no NULL chunks,\n",
    "        # so it will capture all the chunk labels.\n",
    "        \n",
    "        retrieved_from_tools = tools(answer)\n",
    "\n",
    "        if len(retrieved_from_tools) != 0:\n",
    "            \n",
    "            for i in retrieved_from_tools:\n",
    "                tag_answer = (i['entity_group'], i['word'])\n",
    "                tag_answer_list.append(tag_answer)\n",
    "        \n",
    "        # So, it rarely going down there\n",
    "        # But, if really going down there\n",
    "        # from basic assumption, there is no NULL in chunking\n",
    "        # We can check subset of the sentence from premise,\n",
    "        # if found, we can take that particular label\n",
    "        \n",
    "        else:\n",
    "            \n",
    "            for i in premise_array:\n",
    "                \n",
    "                # Extract the label and the word of premise\n",
    "                \n",
    "                label_from_premise_tag = i[0]\n",
    "                word_from_premise_tag = remove_space_after_number_and_punctuation(i[1])\n",
    "                \n",
    "                # Take label from subset of sentence from premise\n",
    "                \n",
    "                if answer.lower() in word_from_premise_tag:\n",
    "                    tag_answer = (label_from_premise_tag, answer.lower())\n",
    "                    tag_answer_list.append(tag_answer)\n",
    "                    break\n",
    "            \n",
    "            # Use for and then direct else (for-else),\n",
    "            # if for-loop above not getting the break statement\n",
    "            \n",
    "            else:\n",
    "                tag_answer = (\"NULL\", answer)\n",
    "                tag_answer_list.append(tag_answer)\n",
    "        \n",
    "    return tag_answer_list"
   ]
  },
  {
   "cell_type": "code",
   "execution_count": 1580,
   "id": "4967bb5f",
   "metadata": {},
   "outputs": [],
   "source": [
    "# This is a helper code to run\n",
    "# process for add tag to entire premise\n",
    "# and answer\n",
    "\n",
    "def add_ner_and_chunking_all_tag(data):\n",
    "    \n",
    "    data['ner_tag_answer'] = \"\"\n",
    "    data['chunking_tag_answer'] = \"\"\n",
    "    \n",
    "    data['ner_tag_premise'] = \"\"\n",
    "    data['chunking_tag_premise'] = \"\"\n",
    "    \n",
    "    for i in tqdm(range(len(data))):\n",
    "        \n",
    "        answer = data['answer'][i]\n",
    "        premise = data['premise'][i]\n",
    "        \n",
    "        ner_premise_array = list()\n",
    "        chunking_premise_array = list()\n",
    "                                                \n",
    "        data['ner_tag_premise'][i] = add_premise_tag(data, \"ner\", i, ner_premise_array)\n",
    "        data['chunking_tag_premise'][i] = add_premise_tag(data, \"chunking\", i, chunking_premise_array)\n",
    "        \n",
    "        data['ner_tag_answer'][i] = add_answer_tag(answer, \"ner\", data['ner_tag_premise'][i])\n",
    "        data['chunking_tag_answer'][i] = add_answer_tag(answer, \"chunking\", data['chunking_tag_premise'][i])\n",
    "    \n",
    "    return data"
   ]
  },
  {
   "cell_type": "code",
   "execution_count": 1581,
   "id": "25cad8f1",
   "metadata": {
    "scrolled": true
   },
   "outputs": [],
   "source": [
    "data_nli_train_df = add_ner_and_chunking_all_tag(data_nli_train_df)\n",
    "data_nli_val_df = add_ner_and_chunking_all_tag(data_nli_val_df)\n",
    "data_nli_test_df = add_ner_and_chunking_all_tag(data_nli_test_df)"
   ]
  },
  {
   "cell_type": "code",
   "execution_count": 1582,
   "id": "7dee2bd0",
   "metadata": {},
   "outputs": [
    {
     "name": "stderr",
     "output_type": "stream",
     "text": [
      "100%|█████████████████████████████████████████████████████████████████████████████████████| 1/1 [00:09<00:00,  9.32s/it]\n"
     ]
    },
    {
     "data": {
      "text/html": [
       "<div>\n",
       "<style scoped>\n",
       "    .dataframe tbody tr th:only-of-type {\n",
       "        vertical-align: middle;\n",
       "    }\n",
       "\n",
       "    .dataframe tbody tr th {\n",
       "        vertical-align: top;\n",
       "    }\n",
       "\n",
       "    .dataframe thead th {\n",
       "        text-align: right;\n",
       "    }\n",
       "</style>\n",
       "<table border=\"1\" class=\"dataframe\">\n",
       "  <thead>\n",
       "    <tr style=\"text-align: right;\">\n",
       "      <th></th>\n",
       "      <th>premise</th>\n",
       "      <th>question</th>\n",
       "      <th>answer</th>\n",
       "      <th>ner_tag_answer</th>\n",
       "      <th>chunking_tag_answer</th>\n",
       "      <th>ner_tag_premise</th>\n",
       "      <th>chunking_tag_premise</th>\n",
       "    </tr>\n",
       "  </thead>\n",
       "  <tbody>\n",
       "    <tr>\n",
       "      <th>0</th>\n",
       "      <td>Baudouin adalah putra Eustace II, Comte Boulog...</td>\n",
       "      <td>Siapa ibu Baudouin I ?</td>\n",
       "      <td>Ide dari Lorraine</td>\n",
       "      <td>[(PLACE, ide dari lorraine)]</td>\n",
       "      <td>[(NP, ide), (PP, dari), (NP, lorraine)]</td>\n",
       "      <td>[(PERSON, baudouin), (PERSON, eustace ii), (PL...</td>\n",
       "      <td>[(NP, baudouin), (VP, adalah), (NP, putra eust...</td>\n",
       "    </tr>\n",
       "  </tbody>\n",
       "</table>\n",
       "</div>"
      ],
      "text/plain": [
       "                                             premise                question  \\\n",
       "0  Baudouin adalah putra Eustace II, Comte Boulog...  Siapa ibu Baudouin I ?   \n",
       "\n",
       "              answer                ner_tag_answer  \\\n",
       "0  Ide dari Lorraine  [(PLACE, ide dari lorraine)]   \n",
       "\n",
       "                       chunking_tag_answer  \\\n",
       "0  [(NP, ide), (PP, dari), (NP, lorraine)]   \n",
       "\n",
       "                                     ner_tag_premise  \\\n",
       "0  [(PERSON, baudouin), (PERSON, eustace ii), (PL...   \n",
       "\n",
       "                                chunking_tag_premise  \n",
       "0  [(NP, baudouin), (VP, adalah), (NP, putra eust...  "
      ]
     },
     "execution_count": 1582,
     "metadata": {},
     "output_type": "execute_result"
    }
   ],
   "source": [
    "#data_debug = add_ner_and_chunking_all_tag(data_debug)\n",
    "#data_debug"
   ]
  },
  {
   "cell_type": "markdown",
   "id": "9c49a3e4",
   "metadata": {},
   "source": [
    "# Create wrong answer"
   ]
  },
  {
   "cell_type": "code",
   "execution_count": 1583,
   "id": "a0d00a15",
   "metadata": {},
   "outputs": [
    {
     "name": "stderr",
     "output_type": "stream",
     "text": [
      "INFO:sentence_transformers.SentenceTransformer:Load pretrained SentenceTransformer: paraphrase-multilingual-mpnet-base-v2\n",
      "INFO:sentence_transformers.SentenceTransformer:Use pytorch device: cuda\n"
     ]
    }
   ],
   "source": [
    "# This function useful for sorting the closest distance\n",
    "# by using embedding\n",
    "\n",
    "model_similarity = SentenceTransformer(MODEL_SIMILARITY_NAME)\n",
    "\n",
    "def return_similarity_sorted_array(right_answer, sentence_array, model=model_similarity):\n",
    "    \n",
    "    right_answer = right_answer.lower()\n",
    "    \n",
    "    embedding_right_answer = model.encode([right_answer], convert_to_tensor=True, device=device)\n",
    "    embedding_sentence_array = model.encode(sentence_array, convert_to_tensor=True, device=device)\n",
    "    \n",
    "    # Using cosine scores to calculate\n",
    "    cosine_scores = util.pytorch_cos_sim(embedding_right_answer, embedding_sentence_array)\n",
    "    \n",
    "    sorted_indices = cosine_scores.argsort(descending=True)[0]\n",
    "    sorted_array = [sentence_array[i] for i in sorted_indices]\n",
    "    \n",
    "    return sorted_array"
   ]
  },
  {
   "cell_type": "code",
   "execution_count": 1584,
   "id": "0a9f59dd",
   "metadata": {},
   "outputs": [],
   "source": [
    "# This function useful for\n",
    "# removing value with hash.\n",
    "# Because, from label-tagging before\n",
    "# Some data have a hash symbol, because\n",
    "# that data was part of a word fragment\n",
    "\n",
    "def remove_values_with_hash(arr):\n",
    "    return [item for item in arr if \"#\" not in item]"
   ]
  },
  {
   "cell_type": "code",
   "execution_count": 1585,
   "id": "bf6c62a9",
   "metadata": {},
   "outputs": [],
   "source": [
    "# Retrieve stopword from all language\n",
    "\n",
    "response = requests.get(URL_STOPWORD)\n",
    "\n",
    "if response.status_code == 200:\n",
    "    stopword_data = response.json()\n",
    "else:\n",
    "    print(\"Failed to download stopword JSON.\")\n",
    "\n",
    "stopword_data = set([item for sublist in list(stopword_data.values()) for item in sublist])"
   ]
  },
  {
   "cell_type": "code",
   "execution_count": 1586,
   "id": "c043ec1d",
   "metadata": {},
   "outputs": [],
   "source": [
    "# This function just retrieve random word\n",
    "# of entire premise\n",
    "\n",
    "def select_random_word(text, answer, stopword_data=stopword_data):\n",
    "\n",
    "    words = re.findall(r'\\w+', text.lower())\n",
    "    \n",
    "    # Filtering to remove stopword and punctuation\n",
    "    filtered_words = [word for word in words if word not in stopword_data and word not in string.punctuation]\n",
    "    \n",
    "    # If filtered words less than answer\n",
    "    # only take one word as random word\n",
    "    \n",
    "    if len(filtered_words) < len(answer.split()):\n",
    "        random_word = random.choice(filtered_words)\n",
    "    \n",
    "    # But, if filtered words NOT less than answer\n",
    "    # take a same length word as a random word\n",
    "    # with the same order as filtered words\n",
    "    \n",
    "    else:\n",
    "        start_index = random.randint(0, len(filtered_words) - len(answer.split()))\n",
    "        random_word_array = filtered_words[start_index : start_index + len(answer.split())]\n",
    "        random_word = ' '.join(random_word_array)\n",
    "    \n",
    "    return random_word.strip()"
   ]
  },
  {
   "cell_type": "code",
   "execution_count": 1587,
   "id": "d682a698",
   "metadata": {},
   "outputs": [],
   "source": [
    "# This function useful for find the same order\n",
    "# of sequence, this function will used in\n",
    "# chunking domain, to classify whether an\n",
    "# answer is word or a sentence\n",
    "\n",
    "def find_order(premise, answer):\n",
    "    \n",
    "    results = []\n",
    "    answer_labels = [item[0] for item in answer]\n",
    "    \n",
    "    i = 0\n",
    "    \n",
    "    while i < len(premise):\n",
    "        if premise[i][0] == answer_labels[0]:\n",
    "            j = 0\n",
    "            matching_words = []\n",
    "            \n",
    "            while i + j < len(premise) and j < len(answer_labels) and premise[i + j][0] == answer_labels[j]:\n",
    "                matching_words.append(premise[i + j][1])\n",
    "                j += 1\n",
    "            \n",
    "            if j == len(answer_labels):\n",
    "                results.append(\" \".join(matching_words))\n",
    "            \n",
    "        i += 1\n",
    "    \n",
    "    return results"
   ]
  },
  {
   "cell_type": "code",
   "execution_count": 1588,
   "id": "76d0afd1-e751-4cb8-ae22-1b7bb10a5dae",
   "metadata": {},
   "outputs": [],
   "source": [
    "# This function useful for grouping same tag-label \n",
    "# between answer and word (or sentence) in an entire premise\n",
    "\n",
    "def grouping_same_tag(tag_answers, tag_premises, same_tag_array, tag):\n",
    "    \n",
    "    # In NER, basicly you need to iterate\n",
    "    # to find a same tag-label\n",
    "    \n",
    "    if tag == \"ner\":\n",
    "        \n",
    "        for tag_premise in tag_premises:\n",
    "\n",
    "            label_tag_premise = tag_premise[0]\n",
    "            word_premise = tag_premise[1]\n",
    "\n",
    "            for tag_answer in tag_answers:\n",
    "\n",
    "                label_tag_answer = tag_answer[0]\n",
    "\n",
    "                if label_tag_answer == label_tag_premise:\n",
    "                    same_tag_array.append(word_premise)\n",
    "                    \n",
    "    # In Chunking, slightly different\n",
    "    # you need to find subset for find the same order\n",
    "    # of sequence with find_order() function\n",
    "    \n",
    "    elif tag == \"chunking\":\n",
    "        \n",
    "        matching_words = find_order(tag_premises, tag_answers)\n",
    "        \n",
    "        # If there is a correct order of subset answer to premise, add it word\n",
    "        \n",
    "        if len(matching_words) != 0:\n",
    "            for word in matching_words:\n",
    "                same_tag_array.append(word)\n",
    "        \n",
    "        # If no matching words, use NER algorithm above\n",
    "        \n",
    "        else:\n",
    "            grouping_same_tag(tag_answers, tag_premises, same_tag_array, \"ner\")\n",
    "\n",
    "    # Still, filter value with hash\n",
    "    \n",
    "    return remove_values_with_hash(same_tag_array)"
   ]
  },
  {
   "cell_type": "code",
   "execution_count": 1589,
   "id": "598b3cba",
   "metadata": {},
   "outputs": [],
   "source": [
    "# This function useful for\n",
    "# checking text if only\n",
    "# contain punctuation, no words at all \n",
    "\n",
    "def contains_only_punctuation(text):\n",
    "    return all(char in string.punctuation for char in text)"
   ]
  },
  {
   "cell_type": "code",
   "execution_count": 1590,
   "id": "c20d3bbc",
   "metadata": {},
   "outputs": [],
   "source": [
    "# This function useful for\n",
    "# filter overlapping right answer and wrong answer\n",
    "# that provided in plausible answer\n",
    "\n",
    "def filtering_plausible_answer(answer, plausible_answer_array):\n",
    "    \n",
    "    if type(plausible_answer_array) == str: \n",
    "        plausible_answer_array = list([plausible_answer_array])\n",
    "    \n",
    "    answer = answer.lower()\n",
    "    \n",
    "    plausible_answer_array = [item.lower().strip() for item in plausible_answer_array]\n",
    "    plausible_answer_array = [string for string in plausible_answer_array if not contains_only_punctuation(string)]\n",
    "    plausible_answer_array = [remove_punctuation(text) for text in plausible_answer_array]\n",
    "    \n",
    "    final_plausible_answer_array = list()\n",
    "    answer_words = set(remove_punctuation(text) for text in answer.split())\n",
    "    \n",
    "    # For check overlapping answer, using set of word,\n",
    "    # and so, check for intersection\n",
    "    \n",
    "    for plausible_answer in plausible_answer_array:\n",
    "        plausible_answer_words = set(plausible_answer.split())\n",
    "        if not plausible_answer_words.intersection(answer_words):\n",
    "            if not all(word in answer for word in plausible_answer.split()):\n",
    "                final_plausible_answer_array.append(plausible_answer)\n",
    "    \n",
    "    return final_plausible_answer_array"
   ]
  },
  {
   "cell_type": "code",
   "execution_count": 1591,
   "id": "ddb26145",
   "metadata": {},
   "outputs": [],
   "source": [
    "# This function useful for\n",
    "# detecting number, date, time\n",
    "# to give plausible answer more\n",
    "# \"make sense\" answer\n",
    "\n",
    "def is_number(input_str):\n",
    "    pattern = r'^.*\\b\\d+(\\.\\d+)?\\b.*$'\n",
    "    return re.match(pattern, input_str) is not None\n",
    "\n",
    "def is_date(input_str):\n",
    "    pattern_1 = r'\\d{1,2} [A-Za-z]+(?: \\d{4})?'\n",
    "    pattern_2 = r'^\\d{4}-\\d{2}-\\d{2}$'\n",
    "    return (re.match(pattern_1, input_str) or re.match(pattern_2, input_str)) is not None\n",
    "\n",
    "def is_time(input_str):\n",
    "    pattern = r'^\\d{2}:\\d{2}:\\d{2}$'\n",
    "    return re.match(pattern, input_str) is not None\n",
    "\n",
    "def check_regex(right_answer, plausible_answer_array):\n",
    "    \n",
    "    if is_number(right_answer):\n",
    "        plausible_answer_array = [item for item in plausible_answer_array if is_number(item)]\n",
    "    \n",
    "    elif is_date(right_answer):\n",
    "        plausible_answer_array = [item for item in plausible_answer_array if is_date(item)]\n",
    "    \n",
    "    elif is_time(right_answer):\n",
    "        plausible_answer_array = [item for item in plausible_answer_array if is_time(item)]\n",
    "        \n",
    "    else:\n",
    "        plausible_answer_array = [item for item in plausible_answer_array if (not is_number(item) or \n",
    "                                                                              not is_date(item) or \n",
    "                                                                              not is_time(item)\n",
    "                                                                             )]\n",
    "    \n",
    "    return plausible_answer_array"
   ]
  },
  {
   "cell_type": "code",
   "execution_count": 1592,
   "id": "5369eced-0cee-4d0d-a436-89a97d2af242",
   "metadata": {},
   "outputs": [],
   "source": [
    "# This function useful for\n",
    "# sorting similarity and\n",
    "# to give final wrong answer \n",
    "# and properties\n",
    "\n",
    "def return_wrong_and_plausible(data, right_answer, index, tag, plausible_answer_array, premise,\n",
    "                       NO_ANSWER_STATEMENT=NO_ANSWER_STATEMENT):\n",
    "\n",
    "    if tag == \"ner\": slice = 'same_ner_tag_answer'\n",
    "    elif tag == \"chunking\": slice = 'same_chunking_tag_answer'\n",
    "    else: slice = None\n",
    "\n",
    "    # Find all the sorted (by similarity) plausible wrong answer, \n",
    "    # and remove hask & punctuation only answer\n",
    "    \n",
    "    if slice != None:\n",
    "        wrong_answer_array = return_similarity_sorted_array(right_answer, data[slice][index])\n",
    "    \n",
    "    else:\n",
    "        wrong_answer_array = return_similarity_sorted_array(right_answer, plausible_answer_array)\n",
    "    \n",
    "    # Below, do the filtering to plausible answer\n",
    "    \n",
    "    plausible_answer_array = remove_values_with_hash(wrong_answer_array)\n",
    "    plausible_answer_array = filtering_plausible_answer(right_answer, plausible_answer_array)\n",
    "    plausible_answer_array = check_regex(right_answer, plausible_answer_array)\n",
    "    \n",
    "    try:\n",
    "        \n",
    "        # Only return the most similar to right_answer\n",
    "        wrong_answer = plausible_answer_array[0].strip()\n",
    "        \n",
    "        if tag == \"ner\": \n",
    "            properties = \"IDENTICAL NER labels were found, and the highest similarity score same NER array was selected\"\n",
    "        \n",
    "        elif tag == \"chunking\":\n",
    "            properties = \"IDENTICAL Chunking labels were found, and the highest similarity score from same Chunking array was selected\"\n",
    "        \n",
    "        else:\n",
    "            properties = \"NO CHUNKING labels were found, and the highest similarity score from plausible answer was selected\"\n",
    "    \n",
    "    except:\n",
    "        \n",
    "        # Selecting wrong answer from random word in premise\n",
    "        wrong_answer = select_random_word(premise, right_answer)\n",
    "        \n",
    "        # If that random word is overlapping to right answer,\n",
    "        # iterate again until it is not overlap again\n",
    "        \n",
    "        while True:\n",
    "            \n",
    "            if filtering_plausible_answer(right_answer, wrong_answer) != []:\n",
    "                break\n",
    "\n",
    "            wrong_answer = select_random_word(premise, right_answer)[0]\n",
    "\n",
    "        # If it still detect overlapped right answer,\n",
    "        # just assign it with NO_ANSWER_STATEMENT.\n",
    "        # But, this condition is very-extraordinary\n",
    "        \n",
    "        else:\n",
    "            wrong_answer = NO_ANSWER_STATEMENT\n",
    "        \n",
    "        if tag == \"ner\": \n",
    "            properties = \"Detected (NER) wrong answer that is the SAME as the right answer, search random word from premise\"\n",
    "        \n",
    "        elif tag == \"chunking\":\n",
    "            properties = \"Detected (Chunking) wrong answer that is the SAME as the right answer, search random word from premise\"\n",
    "        \n",
    "        else:\n",
    "            properties = \"Detected (Random) wrong answer that is the SAME as the right answer, search random word from premise\"\n",
    "    \n",
    "    # Still need to check/assert the wrong answer\n",
    "    # and the plausible answer type\n",
    "    \n",
    "    assert isinstance(wrong_answer, str)\n",
    "    assert isinstance(plausible_answer_array, list)\n",
    "    \n",
    "    return wrong_answer, plausible_answer_array, properties"
   ]
  },
  {
   "cell_type": "code",
   "execution_count": 1593,
   "id": "20cab74a",
   "metadata": {},
   "outputs": [],
   "source": [
    "# This function useful for\n",
    "# matching regex in the first\n",
    "# section on create wrong answer\n",
    "# to detect: number, date, and time\n",
    "\n",
    "def matching_regex(right_answer, premise):\n",
    "    \n",
    "    plausible_answer_array = []\n",
    "\n",
    "    for word in premise.split():\n",
    "        \n",
    "        word = remove_punctuation(word)\n",
    "        right_answer = remove_punctuation(right_answer)\n",
    "        \n",
    "        if (word != right_answer) and (word not in right_answer):\n",
    "        \n",
    "            if is_number(word) and is_number(right_answer):\n",
    "                plausible_answer_array.append(word)\n",
    "\n",
    "            if is_date(word) and is_date(right_answer):\n",
    "                plausible_answer_array.append(word)\n",
    "\n",
    "            if is_time(word) and is_time(right_answer):\n",
    "                plausible_answer_array.append(word)\n",
    "\n",
    "    return plausible_answer_array"
   ]
  },
  {
   "cell_type": "code",
   "execution_count": 1594,
   "id": "97759144",
   "metadata": {},
   "outputs": [],
   "source": [
    "# This function is the main idea to create wrong answer\n",
    "# Though, this function is helper function\n",
    "\n",
    "def create_wrong_answer(data, NO_ANSWER_STATEMENT=NO_ANSWER_STATEMENT):\n",
    "    \n",
    "    data['same_ner_tag_answer'] = \"\"\n",
    "    data['same_chunking_tag_answer'] = \"\"\n",
    "    data['wrong_answer'] = \"\"\n",
    "    data['no_answer'] = \"\"\n",
    "    data['plausible_answer_based_on_method'] = \"\"\n",
    "    data['properties'] = \"\"\n",
    "    \n",
    "    for i in tqdm(range(len(data))):\n",
    "        \n",
    "        right_answer = data['answer'][i]\n",
    "        premise = data['premise'][i]\n",
    "\n",
    "        same_ner_tag_answer_array = list()\n",
    "        same_chunking_tag_answer_array = list()\n",
    "\n",
    "        ner_tag_answer = data['ner_tag_answer'][i]\n",
    "        ner_tag_premise = data['ner_tag_premise'][i]\n",
    "\n",
    "        chunking_tag_answer = data['chunking_tag_answer'][i]\n",
    "        chunking_tag_premise = data['chunking_tag_premise'][i]\n",
    "        \n",
    "        # If that row of data is unanswerable, do this, then continue\n",
    "        \n",
    "        if right_answer == \"\":\n",
    "            data['properties'][i] = \"Unanswerable question\"\n",
    "            data['wrong_answer'][i] = \"NULL\"\n",
    "            data['no_answer'][i] = \"NULL\"\n",
    "            data['plausible_answer_based_on_method'][i] = \"Unanswerable question\"\n",
    "            continue\n",
    "            \n",
    "        # Grouped with the same NER & Chunking group, between answer and word of premise\n",
    "        \n",
    "        data['same_ner_tag_answer'][i] = grouping_same_tag(ner_tag_answer,\n",
    "                                                           ner_tag_premise,\n",
    "                                                           same_ner_tag_answer_array, \"ner\")\n",
    "        \n",
    "        data['same_chunking_tag_answer'][i] = grouping_same_tag(chunking_tag_answer, \n",
    "                                                                chunking_tag_premise, \n",
    "                                                                same_chunking_tag_answer_array, \"chunking\")\n",
    "        \n",
    "        # Start to create wrong answer\n",
    "        plausible_answer_array = list()\n",
    "        \n",
    "        # Firstly, matching regex\n",
    "        if is_number(right_answer) or is_date(right_answer) or is_time(right_answer):\n",
    "            \n",
    "            plausible_answer_array = matching_regex(right_answer, premise)\n",
    "            \n",
    "            if len(plausible_answer_array) != 0:\n",
    "                plausible_answer_array = return_similarity_sorted_array(right_answer, plausible_answer_array)\n",
    "                wrong_answer = plausible_answer_array[0].strip()\n",
    "                data['properties'][i] = \"Regex matched with right answer, and get alternative answer\"\n",
    "            \n",
    "            else:\n",
    "                wrong_answer = NO_ANSWER_STATEMENT\n",
    "                data['properties'][i] = \"Regex matched with right answer, but no alternative answer\"\n",
    "            \n",
    "            data['wrong_answer'][i] = wrong_answer\n",
    "            data['no_answer'][i] = NO_ANSWER_STATEMENT\n",
    "            data['plausible_answer_based_on_method'][i] = list(set(plausible_answer_array))\n",
    "            continue\n",
    "\n",
    "        # Perform NER classification\n",
    "        # If the NER of the right_answer can be detected, then calculate the distance using semantic \n",
    "        # similarity or word vectors between the right_answer and various possible wrong_answers with \n",
    "        # the same NER as the right_answer. Once done, proceed to the final wrong_answer.\n",
    "        \n",
    "        if data['same_ner_tag_answer'][i] != list():\n",
    "            wrong_answer, plausible_answer_array, properties = return_wrong_and_plausible(data, right_answer, \\\n",
    "                                                                      i, \"ner\", plausible_answer_array, premise)\n",
    "            \n",
    "        # If the NER of the right_answer cannot be detected (NULL) or context/premise does not contain \n",
    "        # any of NER of right_answer, then the POS/Chunking of the right_answer will be identified.\n",
    "        \n",
    "        # Perform POS/Chunking classification\n",
    "        \n",
    "        else:\n",
    "            \n",
    "            # If the POS/Chunking of the right_answer can be detected, then calculate the distance \n",
    "            # using semantic similarity or word vectors between the right_answer and various possible \n",
    "            # wrong_answers with the same POS/Chunking as the right_answer. Once done, proceed to the \n",
    "            # final wrong_answer.\n",
    "            \n",
    "            if data['same_chunking_tag_answer'][i] != list():\n",
    "                wrong_answer, plausible_answer_array, properties = return_wrong_and_plausible(data, right_answer, \\\n",
    "                                                                          i, \"chunking\", plausible_answer_array, premise)\n",
    "            \n",
    "            # If the POS/Chunking of the right_answer cannot be detected (NULL) or context/premise \n",
    "            # does not contain any of NER of right_answer, then the final wrong_answer will be chosen \n",
    "            # based on a plausible answer.\n",
    "            \n",
    "            else:\n",
    "                for chunking_tag in chunking_tag_premise:\n",
    "                    plausible_answer_array.append(chunking_tag[1])\n",
    "\n",
    "                wrong_answer, plausible_answer_array, properties = return_wrong_and_plausible(data, right_answer, \\\n",
    "                                                                          i, \"none\", plausible_answer_array, premise)\n",
    "        \n",
    "        data['properties'][i] = properties\n",
    "        data['wrong_answer'][i] = wrong_answer\n",
    "        data['no_answer'][i] = NO_ANSWER_STATEMENT\n",
    "        data['plausible_answer_based_on_method'][i] = list(set(plausible_answer_array))\n",
    "            \n",
    "    return data       "
   ]
  },
  {
   "cell_type": "code",
   "execution_count": 1595,
   "id": "efed3dff",
   "metadata": {},
   "outputs": [],
   "source": [
    "data_nli_train_df = create_wrong_answer(data_nli_train_df)\n",
    "data_nli_val_df = create_wrong_answer(data_nli_val_df)\n",
    "data_nli_test_df = create_wrong_answer(data_nli_test_df)"
   ]
  },
  {
   "cell_type": "code",
   "execution_count": 1596,
   "id": "e50ad7aa",
   "metadata": {},
   "outputs": [
    {
     "name": "stderr",
     "output_type": "stream",
     "text": [
      "  0%|                                                                                             | 0/1 [00:00<?, ?it/s]"
     ]
    },
    {
     "data": {
      "application/vnd.jupyter.widget-view+json": {
       "model_id": "f241fe572f2140589eecaa6e50196d74",
       "version_major": 2,
       "version_minor": 0
      },
      "text/plain": [
       "Batches:   0%|          | 0/1 [00:00<?, ?it/s]"
      ]
     },
     "metadata": {},
     "output_type": "display_data"
    },
    {
     "data": {
      "application/vnd.jupyter.widget-view+json": {
       "model_id": "e676e49ddedf4c00b9043f7b6c18d87a",
       "version_major": 2,
       "version_minor": 0
      },
      "text/plain": [
       "Batches:   0%|          | 0/1 [00:00<?, ?it/s]"
      ]
     },
     "metadata": {},
     "output_type": "display_data"
    },
    {
     "name": "stderr",
     "output_type": "stream",
     "text": [
      "100%|█████████████████████████████████████████████████████████████████████████████████████| 1/1 [00:00<00:00,  3.86it/s]\n"
     ]
    },
    {
     "data": {
      "text/html": [
       "<div>\n",
       "<style scoped>\n",
       "    .dataframe tbody tr th:only-of-type {\n",
       "        vertical-align: middle;\n",
       "    }\n",
       "\n",
       "    .dataframe tbody tr th {\n",
       "        vertical-align: top;\n",
       "    }\n",
       "\n",
       "    .dataframe thead th {\n",
       "        text-align: right;\n",
       "    }\n",
       "</style>\n",
       "<table border=\"1\" class=\"dataframe\">\n",
       "  <thead>\n",
       "    <tr style=\"text-align: right;\">\n",
       "      <th></th>\n",
       "      <th>premise</th>\n",
       "      <th>question</th>\n",
       "      <th>answer</th>\n",
       "      <th>ner_tag_answer</th>\n",
       "      <th>chunking_tag_answer</th>\n",
       "      <th>ner_tag_premise</th>\n",
       "      <th>chunking_tag_premise</th>\n",
       "      <th>same_ner_tag_answer</th>\n",
       "      <th>same_chunking_tag_answer</th>\n",
       "      <th>wrong_answer</th>\n",
       "      <th>no_answer</th>\n",
       "      <th>plausible_answer_based_on_method</th>\n",
       "      <th>properties</th>\n",
       "    </tr>\n",
       "  </thead>\n",
       "  <tbody>\n",
       "    <tr>\n",
       "      <th>0</th>\n",
       "      <td>Baudouin adalah putra Eustace II, Comte Boulog...</td>\n",
       "      <td>Siapa ibu Baudouin I ?</td>\n",
       "      <td>Ide dari Lorraine</td>\n",
       "      <td>[(PLACE, ide dari lorraine)]</td>\n",
       "      <td>[(NP, ide), (PP, dari), (NP, lorraine)]</td>\n",
       "      <td>[(PERSON, baudouin), (PERSON, eustace ii), (PL...</td>\n",
       "      <td>[(NP, baudouin), (VP, adalah), (NP, putra eust...</td>\n",
       "      <td>[boulogne, lorrain, lorraine hilir, boulogne, ...</td>\n",
       "      <td>[putra eustace ii, comte boulogne dan ide dari...</td>\n",
       "      <td>verdun</td>\n",
       "      <td>Tidak ada jawaban</td>\n",
       "      <td>[boulogne, tirus, verdun, normandia, anglo - n...</td>\n",
       "      <td>IDENTICAL NER labels were found, and the highe...</td>\n",
       "    </tr>\n",
       "  </tbody>\n",
       "</table>\n",
       "</div>"
      ],
      "text/plain": [
       "                                             premise                question  \\\n",
       "0  Baudouin adalah putra Eustace II, Comte Boulog...  Siapa ibu Baudouin I ?   \n",
       "\n",
       "              answer                ner_tag_answer  \\\n",
       "0  Ide dari Lorraine  [(PLACE, ide dari lorraine)]   \n",
       "\n",
       "                       chunking_tag_answer  \\\n",
       "0  [(NP, ide), (PP, dari), (NP, lorraine)]   \n",
       "\n",
       "                                     ner_tag_premise  \\\n",
       "0  [(PERSON, baudouin), (PERSON, eustace ii), (PL...   \n",
       "\n",
       "                                chunking_tag_premise  \\\n",
       "0  [(NP, baudouin), (VP, adalah), (NP, putra eust...   \n",
       "\n",
       "                                 same_ner_tag_answer  \\\n",
       "0  [boulogne, lorrain, lorraine hilir, boulogne, ...   \n",
       "\n",
       "                            same_chunking_tag_answer wrong_answer  \\\n",
       "0  [putra eustace ii, comte boulogne dan ide dari...       verdun   \n",
       "\n",
       "           no_answer                   plausible_answer_based_on_method  \\\n",
       "0  Tidak ada jawaban  [boulogne, tirus, verdun, normandia, anglo - n...   \n",
       "\n",
       "                                          properties  \n",
       "0  IDENTICAL NER labels were found, and the highe...  "
      ]
     },
     "execution_count": 1596,
     "metadata": {},
     "output_type": "execute_result"
    }
   ],
   "source": [
    "#data_debug = create_wrong_answer(data_debug)\n",
    "#data_debug"
   ]
  },
  {
   "cell_type": "code",
   "execution_count": 1597,
   "id": "99c842fd",
   "metadata": {
    "scrolled": true
   },
   "outputs": [
    {
     "name": "stdout",
     "output_type": "stream",
     "text": [
      "Right answer: Ide dari Lorraine\n",
      "\n",
      "['boulogne', 'tirus', 'verdun', 'normandia', 'anglo - norman', 'cambrai', 'reims', 'bouillon', 'liege']\n",
      "Wrong answer: verdun\n"
     ]
    }
   ],
   "source": [
    "#print(\"Right answer:\", data_debug['answer'][0])\n",
    "#print()\n",
    "#print(data_debug['plausible_answer_based_on_method'][0])\n",
    "#print(\"Wrong answer:\", data_debug['wrong_answer'][0])"
   ]
  },
  {
   "cell_type": "code",
   "execution_count": 1498,
   "id": "d93c9395",
   "metadata": {},
   "outputs": [
    {
     "data": {
      "text/plain": [
       "2"
      ]
     },
     "execution_count": 1498,
     "metadata": {},
     "output_type": "execute_result"
    }
   ],
   "source": [
    "#1+1"
   ]
  },
  {
   "cell_type": "code",
   "execution_count": 1503,
   "id": "878ffec9",
   "metadata": {},
   "outputs": [
    {
     "name": "stdout",
     "output_type": "stream",
     "text": [
      "Premise: Nekolim adalah sebuah istilah yang dikenalkan oleh Panglima besar Revolusioner Indonesia yang juga merupakan Presiden pertama Negara Kesatuan Republik Indonesia, yaitu Ir. Soekarno.[1] Adapun menurut sumber lain menyatakan bahwa istilah Nekolim diciptakan oleh Jendral Ahmad Yani di tengah masa pasangnya ofensif Revolusi Indonesia.[2] Nekolim merupakan akronim dari Neokolonialisme-Kolonialisme-Imperialisme.[3][4] Oleh karena Neokolonialisme pada hakikatnya untuk membangun dominasi sistem politik suatu negera atas negara lain (Imperialisme), maka dua kata itu dirangkai menjadi Neokolonialisme-Imperialisme (Nekolim) yang bersamaan dengan subversif asing ditunjuk oleh Ir. Soekarno sebagai musuh utama Revolusi Indonesia.\n",
      "Question: Apakah kepanjangan dari Nekolim?\n",
      "\n",
      "[('PLACE', 'indonesia'), ('PLACE', 'indonesia'), ('PERSON', 'soekarno'), ('PERSON', 'ahmad yani'), ('PLACE', 'indonesia'), ('PERSON', 'soekarno'), ('PLACE', 'indonesia')]\n",
      "[('NP', 'nekolim'), ('VP', 'adalah'), ('NP', 'sebuah istilah'), ('SBAR', 'yang'), ('VP', 'dikenalkan'), ('PP', 'oleh'), ('NP', 'panglima besar revolusioner indonesia'), ('SBAR', 'yang'), ('ADVP', 'juga'), ('VP', 'merupakan'), ('NP', 'presiden pertama negara kesatuan republik indonesia,'), ('SBAR', 'yaitu'), ('NP', 'ir. soekarno'), ('NP', '1'), ('PP', 'menurut'), ('NP', 'sumber lain'), ('VP', 'menyatakan'), ('SBAR', 'bahwa'), ('NP', 'istilah nekolim'), ('VP', 'diciptakan'), ('PP', 'oleh'), ('NP', 'jendral ahmad yani'), ('PP', 'di'), ('NP', 'tengah masa'), ('VP', 'pasangnya'), ('NP', 'ofensif revolusi indonesia'), ('NP', '2'), ('NP', 'nekolim'), ('VP', 'merupakan'), ('NP', 'akronim'), ('PP', 'dari'), ('NP', 'neokolonialisme - kolonialisme - imperialisme'), ('NP', '3 ] [ 4'), ('PP', 'oleh'), ('SBAR', 'karena'), ('NP', 'neokolonialisme'), ('PP', 'pada'), ('NP', 'hakikatnya'), ('SBAR', 'untuk'), ('VP', 'membangun'), ('NP', 'dominasi sistem politik suatu negera'), ('PP', 'atas'), ('NP', 'negara lain ( imperialisme )'), ('SBAR', 'maka'), ('NP', 'dua kata itu'), ('VP', 'dirangkai menjadi'), ('NP', 'neokolonialisme - imperialisme ( nekolim )'), ('SBAR', 'yang'), ('ADVP', 'bersamaan'), ('PP', 'dengan'), ('NP', 'subversif asing'), ('VP', 'ditunjuk'), ('PP', 'oleh'), ('NP', 'ir. soekarno'), ('PP', 'sebagai'), ('NP', 'musuh utama revolusi indonesia')]\n"
     ]
    }
   ],
   "source": [
    "#print(\"Premise:\", data_debug['premise'][0])\n",
    "#print(\"Question:\", data_debug['question'][0])\n",
    "#print()\n",
    "#print(data_debug['ner_tag_premise'][0])\n",
    "#print(data_debug['chunking_tag_premise'][0])"
   ]
  },
  {
   "cell_type": "markdown",
   "id": "3fe61c82",
   "metadata": {},
   "source": [
    "# Split to two dataset: right dataset & wrong dataset"
   ]
  },
  {
   "cell_type": "code",
   "execution_count": 33,
   "id": "b9d6c549",
   "metadata": {},
   "outputs": [],
   "source": [
    "# This method is just only\n",
    "# for aesthetics of column number\n",
    "\n",
    "def move_to_column_number(data, column_name=\"hypothesis\", column_num=3):\n",
    "\n",
    "    cols = list(data.columns)\n",
    "    cols.remove(column_name)\n",
    "    cols.insert(column_num, column_name)\n",
    "\n",
    "    data = data[cols]\n",
    "    \n",
    "    return data"
   ]
  },
  {
   "cell_type": "code",
   "execution_count": 34,
   "id": "56880d92",
   "metadata": {},
   "outputs": [],
   "source": [
    "# Creating answerable right (entailment label) dataset\n",
    "\n",
    "columns_to_exclude = ['wrong_answer', 'no_answer']\n",
    "\n",
    "data_nli_answerable_right_train_df = data_nli_train_df.drop(columns=columns_to_exclude).copy()\n",
    "data_nli_answerable_right_val_df = data_nli_val_df.drop(columns=columns_to_exclude).copy()\n",
    "data_nli_answerable_right_test_df = data_nli_test_df.drop(columns=columns_to_exclude).copy()\n",
    "\n",
    "data_nli_answerable_right_train_df = data_nli_answerable_right_train_df[data_nli_answerable_right_train_df['answer'] != '']\n",
    "data_nli_answerable_right_val_df = data_nli_answerable_right_val_df[data_nli_answerable_right_val_df['answer'] != '']\n",
    "data_nli_answerable_right_test_df = data_nli_answerable_right_test_df[data_nli_answerable_right_test_df['answer'] != '']\n",
    "\n",
    "data_nli_answerable_right_train_df = data_nli_answerable_right_train_df.reset_index(drop=True)\n",
    "data_nli_answerable_right_val_df = data_nli_answerable_right_val_df.reset_index(drop=True)\n",
    "data_nli_answerable_right_test_df = data_nli_answerable_right_test_df.reset_index(drop=True)"
   ]
  },
  {
   "cell_type": "code",
   "execution_count": 35,
   "id": "232c2891",
   "metadata": {},
   "outputs": [],
   "source": [
    "# Creating answerable wrong (contradiction label) dataset\n",
    "\n",
    "columns_to_exclude = ['answer', 'no_answer']\n",
    "\n",
    "data_nli_answerable_wrong_train_df = data_nli_train_df[data_nli_train_df['answer'] != '']\n",
    "data_nli_answerable_wrong_val_df = data_nli_val_df[data_nli_val_df['answer'] != '']\n",
    "data_nli_answerable_wrong_test_df = data_nli_test_df[data_nli_test_df['answer'] != '']\n",
    "\n",
    "data_nli_answerable_wrong_train_df = data_nli_answerable_wrong_train_df.drop(columns=columns_to_exclude).copy()\n",
    "data_nli_answerable_wrong_val_df = data_nli_answerable_wrong_val_df.drop(columns=columns_to_exclude).copy()\n",
    "data_nli_answerable_wrong_test_df = data_nli_answerable_wrong_test_df.drop(columns=columns_to_exclude).copy()\n",
    "\n",
    "data_nli_answerable_wrong_train_df.rename(columns={'wrong_answer': 'answer'}, inplace=True)\n",
    "data_nli_answerable_wrong_val_df.rename(columns={'wrong_answer': 'answer'}, inplace=True)\n",
    "data_nli_answerable_wrong_test_df.rename(columns={'wrong_answer': 'answer'}, inplace=True)\n",
    "\n",
    "data_nli_answerable_wrong_train_df = data_nli_answerable_wrong_train_df.reset_index(drop=True)\n",
    "data_nli_answerable_wrong_val_df = data_nli_answerable_wrong_val_df.reset_index(drop=True)\n",
    "data_nli_answerable_wrong_test_df = data_nli_answerable_wrong_test_df.reset_index(drop=True)\n",
    "\n",
    "data_nli_answerable_wrong_train_df = move_to_column_number(data_nli_answerable_wrong_train_df, \"answer\", 2)\n",
    "data_nli_answerable_wrong_val_df = move_to_column_number(data_nli_answerable_wrong_val_df, \"answer\", 2)\n",
    "data_nli_answerable_wrong_test_df = move_to_column_number(data_nli_answerable_wrong_test_df, \"answer\", 2)"
   ]
  },
  {
   "cell_type": "code",
   "execution_count": 36,
   "id": "297a7d39",
   "metadata": {},
   "outputs": [],
   "source": [
    "# Creating unanswerable right (entailment label) and no-answer dataset\n",
    "\n",
    "columns_to_exclude = ['wrong_answer', 'no_answer']\n",
    "\n",
    "data_nli_unanswerable_right_train_df = data_nli_train_df.drop(columns=columns_to_exclude).copy()\n",
    "data_nli_unanswerable_right_val_df = data_nli_val_df.drop(columns=columns_to_exclude).copy()\n",
    "data_nli_unanswerable_right_test_df = data_nli_test_df.drop(columns=columns_to_exclude).copy()\n",
    "\n",
    "data_nli_unanswerable_right_train_df = data_nli_unanswerable_right_train_df[data_nli_unanswerable_right_train_df['answer'] == '']\n",
    "data_nli_unanswerable_right_val_df = data_nli_unanswerable_right_val_df[data_nli_unanswerable_right_val_df['answer'] == '']\n",
    "data_nli_unanswerable_right_test_df = data_nli_unanswerable_right_test_df[data_nli_unanswerable_right_test_df['answer'] == '']"
   ]
  },
  {
   "cell_type": "code",
   "execution_count": 37,
   "id": "ef5df327",
   "metadata": {},
   "outputs": [],
   "source": [
    "# Creating unanswerable wrong (contradiction label) and no-answer dataset\n",
    "\n",
    "columns_to_exclude = ['answer', 'wrong_answer']\n",
    "\n",
    "data_nli_unanswerable_wrong_train_df = data_nli_train_df[data_nli_train_df['answer'] != '']\n",
    "data_nli_unanswerable_wrong_val_df = data_nli_val_df[data_nli_val_df['answer'] != '']\n",
    "data_nli_unanswerable_wrong_test_df = data_nli_test_df[data_nli_test_df['answer'] != '']\n",
    "\n",
    "data_nli_unanswerable_wrong_train_df = data_nli_unanswerable_wrong_train_df.drop(columns=columns_to_exclude).copy()\n",
    "data_nli_unanswerable_wrong_val_df = data_nli_unanswerable_wrong_val_df.drop(columns=columns_to_exclude).copy()\n",
    "data_nli_unanswerable_wrong_test_df = data_nli_unanswerable_wrong_test_df.drop(columns=columns_to_exclude).copy()\n",
    "\n",
    "data_nli_unanswerable_wrong_train_df.rename(columns={'no_answer': 'answer'}, inplace=True)\n",
    "data_nli_unanswerable_wrong_val_df.rename(columns={'no_answer': 'answer'}, inplace=True)\n",
    "data_nli_unanswerable_wrong_test_df.rename(columns={'no_answer': 'answer'}, inplace=True)\n",
    "\n",
    "data_nli_unanswerable_wrong_train_df = move_to_column_number(data_nli_unanswerable_wrong_train_df, \"answer\", 2)\n",
    "data_nli_unanswerable_wrong_val_df = move_to_column_number(data_nli_unanswerable_wrong_val_df, \"answer\", 2)\n",
    "data_nli_unanswerable_wrong_test_df = move_to_column_number(data_nli_unanswerable_wrong_test_df, \"answer\", 2)"
   ]
  },
  {
   "cell_type": "code",
   "execution_count": 38,
   "id": "54b4d3d9",
   "metadata": {},
   "outputs": [],
   "source": [
    "# Rather than duplicating the no-answer statement, \n",
    "# it's better to remove the excessing row ones.\n",
    "\n",
    "def balancing_data(data1, data2):\n",
    "    \n",
    "    if len(data1) > len(data2):\n",
    "        data1 = data1.sample(n=len(data2))\n",
    "    \n",
    "    elif len(data1) < len(data2):\n",
    "        data2 = data2.sample(n=len(data1))\n",
    "        \n",
    "    return data1, data2"
   ]
  },
  {
   "cell_type": "code",
   "execution_count": 39,
   "id": "312fdb7e",
   "metadata": {},
   "outputs": [],
   "source": [
    "data_nli_unanswerable_right_train_df, data_nli_unanswerable_wrong_train_df = balancing_data(data_nli_unanswerable_right_train_df,\n",
    "                                                                                            data_nli_unanswerable_wrong_train_df)\n",
    "\n",
    "data_nli_unanswerable_right_val_df, data_nli_unanswerable_wrong_val_df = balancing_data(data_nli_unanswerable_right_val_df,\n",
    "                                                                                        data_nli_unanswerable_wrong_val_df)\n",
    "\n",
    "data_nli_unanswerable_right_test_df, data_nli_unanswerable_wrong_test_df = balancing_data(data_nli_unanswerable_right_test_df,\n",
    "                                                                                        data_nli_unanswerable_wrong_test_df)\n",
    "\n",
    "# Still need to reset index of DataFrame\n",
    "\n",
    "data_nli_unanswerable_right_train_df = data_nli_unanswerable_right_train_df.reset_index(drop=True)\n",
    "data_nli_unanswerable_right_val_df = data_nli_unanswerable_right_val_df.reset_index(drop=True)\n",
    "data_nli_unanswerable_right_test_df = data_nli_unanswerable_right_test_df.reset_index(drop=True)\n",
    "\n",
    "data_nli_unanswerable_wrong_train_df = data_nli_unanswerable_wrong_train_df.reset_index(drop=True)\n",
    "data_nli_unanswerable_wrong_val_df = data_nli_unanswerable_wrong_val_df.reset_index(drop=True)\n",
    "data_nli_unanswerable_wrong_test_df = data_nli_unanswerable_wrong_test_df.reset_index(drop=True)"
   ]
  },
  {
   "cell_type": "code",
   "execution_count": 40,
   "id": "8d4f9c4d",
   "metadata": {},
   "outputs": [
    {
     "name": "stdout",
     "output_type": "stream",
     "text": [
      "ENTAILMENT ANSWERABLE\n",
      "TRAIN: 143\n",
      "VAL: 130\n",
      "TEST: 125\n",
      "\n",
      "CONTRADICTION ANSWERABLE\n",
      "TRAIN: 143\n",
      "VAL: 130\n",
      "TEST: 125\n",
      "\n",
      "ENTAILMENT UN-ANSWERABLE\n",
      "TRAIN: 107\n",
      "VAL: 120\n",
      "TEST: 125\n",
      "\n",
      "CONTRADICTION UN-ANSWERABLE\n",
      "TRAIN: 107\n",
      "VAL: 120\n",
      "TEST: 125\n"
     ]
    }
   ],
   "source": [
    "# For debug purpose\n",
    "\n",
    "print(\"ENTAILMENT ANSWERABLE\")\n",
    "print(\"TRAIN:\", len(data_nli_answerable_right_train_df))\n",
    "print(\"VAL:\", len(data_nli_answerable_right_val_df))\n",
    "print(\"TEST:\", len(data_nli_answerable_right_test_df))\n",
    "print()\n",
    "\n",
    "print(\"CONTRADICTION ANSWERABLE\")\n",
    "print(\"TRAIN:\", len(data_nli_answerable_wrong_train_df))\n",
    "print(\"VAL:\", len(data_nli_answerable_wrong_val_df))\n",
    "print(\"TEST:\", len(data_nli_answerable_wrong_test_df))\n",
    "print()\n",
    "\n",
    "print(\"ENTAILMENT UN-ANSWERABLE\")\n",
    "print(\"TRAIN:\", len(data_nli_unanswerable_right_train_df))\n",
    "print(\"VAL:\", len(data_nli_unanswerable_right_val_df))\n",
    "print(\"TEST:\", len(data_nli_unanswerable_right_test_df))\n",
    "print()\n",
    "\n",
    "print(\"CONTRADICTION UN-ANSWERABLE\")\n",
    "print(\"TRAIN:\", len(data_nli_unanswerable_wrong_train_df))\n",
    "print(\"VAL:\", len(data_nli_unanswerable_wrong_val_df))\n",
    "print(\"TEST:\", len(data_nli_unanswerable_wrong_test_df))"
   ]
  },
  {
   "cell_type": "markdown",
   "id": "374e6f08",
   "metadata": {},
   "source": [
    "# Convert question-answer pair to hypothesis"
   ]
  },
  {
   "cell_type": "code",
   "execution_count": 41,
   "id": "f9cb9562",
   "metadata": {},
   "outputs": [],
   "source": [
    "# Maybe we can try this approach\n",
    "\n",
    "#nlp_tools_paraphraser = pipeline(task = TASK_PARAPHRASER_NAME, \n",
    "#                     model = MODEL_PARAPHRASER_NAME, \n",
    "#                     tokenizer = AutoTokenizer.from_pretrained(MODEL_PARAPHRASER_NAME, \n",
    "#                                                               model_max_length=512, \n",
    "#                                                               truncation=True))"
   ]
  },
  {
   "cell_type": "code",
   "execution_count": 42,
   "id": "01d0b1ab",
   "metadata": {},
   "outputs": [],
   "source": [
    "# This function useful for\n",
    "# retrieve hypothesis from\n",
    "# question and answer\n",
    "\n",
    "def convert_question_and_answer_to_hypothesis(data, NO_ANSWER_STATEMENT=NO_ANSWER_STATEMENT):\n",
    "    \n",
    "    data['hypothesis'] = \"\"\n",
    "    hypothesis_array = list()\n",
    "    \n",
    "    for i in range(len(data)):\n",
    "        \n",
    "        if data['answer'][i] != \"\" and type(data['answer'][i]) == str:\n",
    "            hypothesis_array.append(data['question'][i] + ' ' + data['answer'][i])\n",
    "        else:\n",
    "            hypothesis_array.append(data['question'][i] + ' ' + NO_ANSWER_STATEMENT)\n",
    "        \n",
    "        # Use this to decline no-answer-warning properties\n",
    "        #hypothesis_array.append(data['question'][i] + ' ' + data['answer'][i])\n",
    "        \n",
    "        # Use this to use paraphraser\n",
    "        #hypothesis_array.append(str(nlp_tools_paraphraser(data['question'][i] + ' ' + data['answer'][i])[0]['generated_text']))\n",
    "    \n",
    "    data['hypothesis'] = hypothesis_array\n",
    "    \n",
    "    return data"
   ]
  },
  {
   "cell_type": "code",
   "execution_count": 43,
   "id": "acf340e7",
   "metadata": {},
   "outputs": [],
   "source": [
    "data_nli_answerable_right_train_df = convert_question_and_answer_to_hypothesis(data_nli_answerable_right_train_df)\n",
    "data_nli_answerable_right_val_df = convert_question_and_answer_to_hypothesis(data_nli_answerable_right_val_df)\n",
    "data_nli_answerable_right_test_df = convert_question_and_answer_to_hypothesis(data_nli_answerable_right_test_df)\n",
    "\n",
    "data_nli_answerable_right_train_df = move_to_column_number(data_nli_answerable_right_train_df, \"hypothesis\", 3)\n",
    "data_nli_answerable_right_val_df = move_to_column_number(data_nli_answerable_right_val_df, \"hypothesis\", 3)\n",
    "data_nli_answerable_right_test_df = move_to_column_number(data_nli_answerable_right_test_df, \"hypothesis\", 3)"
   ]
  },
  {
   "cell_type": "code",
   "execution_count": 44,
   "id": "20241aa6",
   "metadata": {},
   "outputs": [],
   "source": [
    "data_nli_answerable_wrong_train_df = convert_question_and_answer_to_hypothesis(data_nli_answerable_wrong_train_df)\n",
    "data_nli_answerable_wrong_val_df = convert_question_and_answer_to_hypothesis(data_nli_answerable_wrong_val_df)\n",
    "data_nli_answerable_wrong_test_df = convert_question_and_answer_to_hypothesis(data_nli_answerable_wrong_test_df)\n",
    "\n",
    "data_nli_answerable_wrong_train_df = move_to_column_number(data_nli_answerable_wrong_train_df, \"hypothesis\", 3)\n",
    "data_nli_answerable_wrong_val_df = move_to_column_number(data_nli_answerable_wrong_val_df, \"hypothesis\", 3)\n",
    "data_nli_answerable_wrong_test_df = move_to_column_number(data_nli_answerable_wrong_test_df, \"hypothesis\", 3)"
   ]
  },
  {
   "cell_type": "code",
   "execution_count": 45,
   "id": "8706a714",
   "metadata": {},
   "outputs": [],
   "source": [
    "data_nli_unanswerable_right_train_df = convert_question_and_answer_to_hypothesis(data_nli_unanswerable_right_train_df)\n",
    "data_nli_unanswerable_right_val_df = convert_question_and_answer_to_hypothesis(data_nli_unanswerable_right_val_df)\n",
    "data_nli_unanswerable_right_test_df = convert_question_and_answer_to_hypothesis(data_nli_unanswerable_right_test_df)\n",
    "\n",
    "data_nli_unanswerable_right_train_df = move_to_column_number(data_nli_unanswerable_right_train_df, \"hypothesis\", 3)\n",
    "data_nli_unanswerable_right_val_df = move_to_column_number(data_nli_unanswerable_right_val_df, \"hypothesis\", 3)\n",
    "data_nli_unanswerable_right_test_df = move_to_column_number(data_nli_unanswerable_right_test_df, \"hypothesis\", 3)"
   ]
  },
  {
   "cell_type": "code",
   "execution_count": 46,
   "id": "b5d28ce3",
   "metadata": {},
   "outputs": [],
   "source": [
    "data_nli_unanswerable_wrong_train_df = convert_question_and_answer_to_hypothesis(data_nli_unanswerable_wrong_train_df)\n",
    "data_nli_unanswerable_wrong_val_df = convert_question_and_answer_to_hypothesis(data_nli_unanswerable_wrong_val_df)\n",
    "data_nli_unanswerable_wrong_test_df = convert_question_and_answer_to_hypothesis(data_nli_unanswerable_wrong_test_df)\n",
    "\n",
    "data_nli_unanswerable_wrong_train_df = move_to_column_number(data_nli_unanswerable_wrong_train_df, \"hypothesis\", 3)\n",
    "data_nli_unanswerable_wrong_val_df = move_to_column_number(data_nli_unanswerable_wrong_val_df, \"hypothesis\", 3)\n",
    "data_nli_unanswerable_wrong_test_df = move_to_column_number(data_nli_unanswerable_wrong_test_df, \"hypothesis\", 3)"
   ]
  },
  {
   "cell_type": "markdown",
   "id": "b56c4ace",
   "metadata": {},
   "source": [
    "# Assign the label: entailment & contradiction"
   ]
  },
  {
   "cell_type": "code",
   "execution_count": 47,
   "id": "45df14ca",
   "metadata": {},
   "outputs": [],
   "source": [
    "data_nli_answerable_right_train_df['label'] = 'entailment'\n",
    "data_nli_answerable_right_val_df['label'] = 'entailment'\n",
    "data_nli_answerable_right_test_df['label'] = 'entailment'\n",
    "\n",
    "data_nli_answerable_right_train_df = move_to_column_number(data_nli_answerable_right_train_df, \"label\", 4)\n",
    "data_nli_answerable_right_val_df = move_to_column_number(data_nli_answerable_right_val_df, \"label\", 4)\n",
    "data_nli_answerable_right_test_df = move_to_column_number(data_nli_answerable_right_test_df, \"label\", 4)"
   ]
  },
  {
   "cell_type": "code",
   "execution_count": 48,
   "id": "02098578",
   "metadata": {},
   "outputs": [],
   "source": [
    "data_nli_answerable_wrong_train_df['label'] = 'contradiction'\n",
    "data_nli_answerable_wrong_val_df['label'] = 'contradiction'\n",
    "data_nli_answerable_wrong_test_df['label'] = 'contradiction'\n",
    "\n",
    "data_nli_answerable_wrong_train_df = move_to_column_number(data_nli_answerable_wrong_train_df, \"label\", 4)\n",
    "data_nli_answerable_wrong_val_df = move_to_column_number(data_nli_answerable_wrong_val_df, \"label\", 4)\n",
    "data_nli_answerable_wrong_test_df = move_to_column_number(data_nli_answerable_wrong_test_df, \"label\", 4)"
   ]
  },
  {
   "cell_type": "code",
   "execution_count": 49,
   "id": "198ebcc7",
   "metadata": {},
   "outputs": [],
   "source": [
    "data_nli_unanswerable_right_train_df['label'] = 'entailment'\n",
    "data_nli_unanswerable_right_val_df['label'] = 'entailment'\n",
    "data_nli_unanswerable_right_test_df['label'] = 'entailment'\n",
    "\n",
    "data_nli_unanswerable_right_train_df = move_to_column_number(data_nli_unanswerable_right_train_df, \"label\", 4)\n",
    "data_nli_unanswerable_right_val_df = move_to_column_number(data_nli_unanswerable_right_val_df, \"label\", 4)\n",
    "data_nli_unanswerable_right_test_df = move_to_column_number(data_nli_unanswerable_right_test_df, \"label\", 4)"
   ]
  },
  {
   "cell_type": "code",
   "execution_count": 50,
   "id": "d219b49b",
   "metadata": {},
   "outputs": [],
   "source": [
    "data_nli_unanswerable_wrong_train_df['label'] = 'contradiction'\n",
    "data_nli_unanswerable_wrong_val_df['label'] = 'contradiction'\n",
    "data_nli_unanswerable_wrong_test_df['label'] = 'contradiction'\n",
    "\n",
    "data_nli_unanswerable_wrong_train_df = move_to_column_number(data_nli_unanswerable_wrong_train_df, \"label\", 4)\n",
    "data_nli_unanswerable_wrong_val_df = move_to_column_number(data_nli_unanswerable_wrong_val_df, \"label\", 4)\n",
    "data_nli_unanswerable_wrong_test_df = move_to_column_number(data_nli_unanswerable_wrong_test_df, \"label\", 4)"
   ]
  },
  {
   "cell_type": "markdown",
   "id": "0f431144",
   "metadata": {},
   "source": [
    "# Concat the right and wrong NLI to one NLI dataset"
   ]
  },
  {
   "cell_type": "code",
   "execution_count": 51,
   "id": "165d72c6",
   "metadata": {},
   "outputs": [],
   "source": [
    "data_nli_train_df_final = pd.concat([data_nli_answerable_right_train_df, \n",
    "                                     data_nli_answerable_wrong_train_df,\n",
    "                                     data_nli_unanswerable_right_train_df,\n",
    "                                     data_nli_unanswerable_wrong_train_df], axis=0, ignore_index=True)\n",
    "\n",
    "data_nli_val_df_final = pd.concat([data_nli_answerable_right_val_df, \n",
    "                                   data_nli_answerable_wrong_val_df,\n",
    "                                   data_nli_unanswerable_right_val_df,\n",
    "                                   data_nli_unanswerable_wrong_val_df], axis=0, ignore_index=True)\n",
    "\n",
    "data_nli_test_df_final = pd.concat([data_nli_answerable_right_test_df, \n",
    "                                    data_nli_answerable_wrong_test_df,\n",
    "                                    data_nli_unanswerable_right_test_df,\n",
    "                                    data_nli_unanswerable_wrong_test_df], axis=0, ignore_index=True)"
   ]
  },
  {
   "cell_type": "code",
   "execution_count": 52,
   "id": "3a980a8f",
   "metadata": {},
   "outputs": [],
   "source": [
    "# For debug purpose,\n",
    "# you can modify it too\n",
    "\n",
    "def debug_data(data):\n",
    "    \n",
    "    for i in range(len(data)):\n",
    "        \n",
    "        print(f\"Iteration: {i}\")\n",
    "        print(f\"Answer: {data['answer'][i]}\")\n",
    "        \n",
    "        print(\"NER\")\n",
    "        print(data['ner_tag_answer'][i])\n",
    "        print(data['ner_tag_premise'][i])\n",
    "        \n",
    "        print(\"Chunking\")\n",
    "        print(data['chunking_tag_answer'][i])\n",
    "        print(data['chunking_tag_premise'][i])\n",
    "        print()\n",
    "\n",
    "# debug_data(data_nli_train_df_final)\n",
    "# debug_data(data_nli_val_df_final)\n",
    "# debug_data(data_nli_test_df_final)"
   ]
  },
  {
   "cell_type": "code",
   "execution_count": 53,
   "id": "f2e0b9ca",
   "metadata": {},
   "outputs": [
    {
     "name": "stdout",
     "output_type": "stream",
     "text": [
      "TRAIN FINAL\n",
      "500\n",
      "\n",
      "VAL FINAL\n",
      "500\n",
      "\n",
      "TEST FINAL\n",
      "500\n"
     ]
    }
   ],
   "source": [
    "# For debug purpose\n",
    "\n",
    "print(\"TRAIN FINAL\")\n",
    "print(len(data_nli_train_df_final))\n",
    "print()\n",
    "\n",
    "print(\"VAL FINAL\")\n",
    "print(len(data_nli_val_df_final))\n",
    "print()\n",
    "\n",
    "print(\"TEST FINAL\")\n",
    "print(len(data_nli_test_df_final))"
   ]
  },
  {
   "cell_type": "markdown",
   "id": "04ea9097",
   "metadata": {},
   "source": [
    "# Convert to DataFrame format to CSV"
   ]
  },
  {
   "cell_type": "code",
   "execution_count": 54,
   "id": "794bedb1",
   "metadata": {},
   "outputs": [],
   "source": [
    "data_nli_train_df_final.to_csv(f\"{NAME}_nli_train_df.csv\", index=False)\n",
    "data_nli_val_df_final.to_csv(f\"{NAME}_nli_val_df.csv\", index=False)\n",
    "data_nli_test_df_final.to_csv(f\"{NAME}_nli_test_df.csv\", index=False)"
   ]
  },
  {
   "cell_type": "code",
   "execution_count": 55,
   "id": "85460bc2",
   "metadata": {},
   "outputs": [
    {
     "name": "stdout",
     "output_type": "stream",
     "text": [
      "PROGRAM FINISHED\n"
     ]
    }
   ],
   "source": [
    "print(\"PROGRAM FINISHED\")"
   ]
  },
  {
   "cell_type": "code",
   "execution_count": null,
   "id": "b6f4a255",
   "metadata": {},
   "outputs": [],
   "source": []
  }
 ],
 "metadata": {
  "kernelspec": {
   "display_name": "Python 3 (ipykernel)",
   "language": "python",
   "name": "python3"
  },
  "language_info": {
   "codemirror_mode": {
    "name": "ipython",
    "version": 3
   },
   "file_extension": ".py",
   "mimetype": "text/x-python",
   "name": "python",
   "nbconvert_exporter": "python",
   "pygments_lexer": "ipython3",
   "version": "3.8.10"
  }
 },
 "nbformat": 4,
 "nbformat_minor": 5
}
