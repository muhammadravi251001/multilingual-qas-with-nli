{
 "cells": [
  {
   "cell_type": "code",
   "execution_count": 1,
   "id": "406874f1",
   "metadata": {},
   "outputs": [],
   "source": [
    "from tqdm import tqdm\n",
    "import pandas as pd\n",
    "import string, math"
   ]
  },
  {
   "cell_type": "code",
   "execution_count": 2,
   "id": "fecb9054",
   "metadata": {},
   "outputs": [],
   "source": [
    "def count_label(data, message):\n",
    "    \n",
    "    total_entailment_gold = data['Label from Gold Answer'].str.count('entailment').sum()\n",
    "    total_neutral_gold = data['Label from Gold Answer'].str.count('neutral').sum()\n",
    "    total_contradiction_gold = data['Label from Gold Answer'].str.count('contradiction').sum()\n",
    "    \n",
    "    total_entailment_pred = data['Label from Prediction Answer'].str.count('entailment').sum()\n",
    "    total_neutral_pred = data['Label from Prediction Answer'].str.count('neutral').sum()\n",
    "    total_contradiction_pred = data['Label from Prediction Answer'].str.count('contradiction').sum()\n",
    "    \n",
    "    total_label_gold = len(data[data['Label from Gold Answer'] != \"NULL\"])\n",
    "    total_label_pred = len(data[data['Label from Prediction Answer'] != \"NULL\"])\n",
    "    \n",
    "    #print(f\"PREDICTION {message.upper()}\")\n",
    "    #print(f\"E: {total_entailment_pred} ({round(total_entailment_pred/total_label_pred, 2) * 100} %)\")\n",
    "    #print(f\"N: {total_neutral_pred} ({round(total_neutral_pred/total_label_pred, 2) * 100} %)\")\n",
    "    #print(f\"C: {total_contradiction_pred} ({round(total_contradiction_pred/total_label_pred, 2) * 100} %)\")\n",
    "    #print()\n",
    "    print(f\"GOLD {message.upper()}\")\n",
    "    print(f\"E: {total_entailment_gold} ({round(total_entailment_gold/total_label_gold, 2) * 100} %)\")\n",
    "    print(f\"N: {total_neutral_gold} ({round(total_neutral_gold/total_label_gold, 2) * 100} %)\")\n",
    "    print(f\"C: {total_contradiction_gold} ({round(total_contradiction_gold/total_label_gold, 2) * 100} %)\")\n",
    "    print()\n",
    "    print(f\"Total data: {len(data)}\")"
   ]
  },
  {
   "cell_type": "code",
   "execution_count": 3,
   "id": "85a6dfda",
   "metadata": {},
   "outputs": [],
   "source": [
    "def count_properties(data, message):\n",
    "    \n",
    "    re = data['properties'].str.count('Right answer and entailment label').sum()\n",
    "    rn = data['properties'].str.count('Right answer and neutral label').sum()\n",
    "    rc = data['properties'].str.count('Right answer and contradiction label').sum()\n",
    "    \n",
    "    we = data['properties'].str.count('Wrong answer and entailment label').sum()\n",
    "    wn = data['properties'].str.count('Wrong answer and neutral label').sum()\n",
    "    wc = data['properties'].str.count('Wrong answer and contradiction label').sum()\n",
    "    \n",
    "    total_right_answer = re + rn + rc\n",
    "    total_wrong_answer = we + wn + wc\n",
    "    \n",
    "    print(message.upper())\n",
    "    \n",
    "    if total_right_answer != 0:\n",
    "        print(f\"RE: {re} ({round(re/total_right_answer, 2) * 100}) %\")\n",
    "        print(f\"RN: {rn} ({round(rn/total_right_answer, 2) * 100}) %\")\n",
    "        print(f\"RC: {rc} ({round(rc/total_right_answer, 2) * 100}) %\")\n",
    "    else:\n",
    "        print(f\"RE: 0 (0) %\")\n",
    "        print(f\"RN: 0 (0) %\")\n",
    "        print(f\"RC: 0 (0) %\")\n",
    "    \n",
    "    print()\n",
    "    \n",
    "    if total_wrong_answer != 0:\n",
    "        print(f\"WE: {we} ({round(we/total_wrong_answer, 2) * 100}) %\")\n",
    "        print(f\"WN: {wn} ({round(wn/total_wrong_answer, 2) * 100}) %\")\n",
    "        print(f\"WC: {wc} ({round(wc/total_wrong_answer, 2) * 100}) %\")\n",
    "    \n",
    "    else:\n",
    "        print(f\"WE: 0 (0) %\")\n",
    "        print(f\"WN: 0 (0) %\")\n",
    "        print(f\"WC: 0 (0) %\")"
   ]
  },
  {
   "cell_type": "code",
   "execution_count": 4,
   "id": "2cd25171",
   "metadata": {},
   "outputs": [],
   "source": [
    "def remove_punctuation(text):\n",
    "    return text.strip(string.punctuation)\n",
    "\n",
    "def return_overlap_between_gold_and_pred(data):\n",
    "    \n",
    "    data['is_overlap'] = \"\"\n",
    "    overlap_data_array = []\n",
    "    \n",
    "    for i in tqdm(range(len(data))):\n",
    "        \n",
    "        pred_answer = data['Prediction Answer'][i]\n",
    "        gold_answer = data['Gold Answer'][i]\n",
    "        \n",
    "        if type(pred_answer) != str and math.isnan(pred_answer): pred_answer = \"\"\n",
    "        if type(gold_answer) != str and math.isnan(gold_answer): gold_answer = \"\"\n",
    "        \n",
    "        pred_answer = remove_punctuation(str(pred_answer).lower().strip())\n",
    "        gold_answer = remove_punctuation(str(gold_answer).lower().strip())\n",
    "        \n",
    "        pred_answer_words = set(remove_punctuation(text) for text in pred_answer.split())\n",
    "        gold_answer_words = set(remove_punctuation(text) for text in gold_answer.split())\n",
    "        \n",
    "        if pred_answer_words.intersection(gold_answer_words):\n",
    "            if pred_answer == gold_answer:\n",
    "                overlap_data_array.append(False)\n",
    "            else:\n",
    "                overlap_data_array.append(True)\n",
    "        else:\n",
    "            overlap_data_array.append(False)\n",
    "            \n",
    "    data['is_overlap'] = overlap_data_array\n",
    "    return data"
   ]
  },
  {
   "cell_type": "markdown",
   "id": "c2d2bf5b",
   "metadata": {},
   "source": [
    "# All (drop nothing)"
   ]
  },
  {
   "cell_type": "markdown",
   "id": "54cebb2a",
   "metadata": {},
   "source": [
    "## All (drop nothing) - Model idk-mrc-nli_keep+indonli+mnli-translated"
   ]
  },
  {
   "cell_type": "code",
   "execution_count": 5,
   "id": "1ed6c325",
   "metadata": {},
   "outputs": [],
   "source": [
    "df_idkmrc = pd.read_excel(\"df_idkmrc_idk-mrc-nli_keep+indonli+mnli-translated.xlsx\")\n",
    "df_tydiqaid = pd.read_excel(\"df_tydiqaid_idk-mrc-nli_keep+indonli+mnli-translated.xlsx\")"
   ]
  },
  {
   "cell_type": "code",
   "execution_count": 6,
   "id": "13d5f0bd",
   "metadata": {},
   "outputs": [
    {
     "name": "stdout",
     "output_type": "stream",
     "text": [
      "GOLD IDK-MRC\n",
      "E: 419 (49.0 %)\n",
      "N: 13 (2.0 %)\n",
      "C: 416 (49.0 %)\n",
      "\n",
      "Total data: 848\n",
      "========================\n",
      "GOLD TYDI-QA-ID\n",
      "E: 846 (99.0 %)\n",
      "N: 0 (0.0 %)\n",
      "C: 11 (1.0 %)\n",
      "\n",
      "Total data: 857\n",
      "\n",
      "IDK-MRC\n",
      "RE: 266 (100.0) %\n",
      "RN: 0 (0.0) %\n",
      "RC: 1 (0.0) %\n",
      "\n",
      "WE: 142 (24.0) %\n",
      "WN: 15 (3.0) %\n",
      "WC: 424 (73.0) %\n",
      "====================\n",
      "TYDI-QA-ID\n",
      "RE: 569 (100.0) %\n",
      "RN: 0 (0.0) %\n",
      "RC: 1 (0.0) %\n",
      "\n",
      "WE: 255 (89.0) %\n",
      "WN: 1 (0.0) %\n",
      "WC: 31 (11.0) %\n"
     ]
    }
   ],
   "source": [
    "count_label(df_idkmrc, \"IDK-MRC\")\n",
    "print(\"=\" * 24)\n",
    "count_label(df_tydiqaid, \"TyDI-QA-ID\")\n",
    "\n",
    "print()\n",
    "count_properties(df_idkmrc, \"IDK-MRC\")\n",
    "print(\"=\" * 20)\n",
    "count_properties(df_tydiqaid, \"TyDI-QA-ID\")"
   ]
  },
  {
   "cell_type": "markdown",
   "id": "f379eae8",
   "metadata": {},
   "source": [
    "## All (drop nothing) - Model idk-mrc-nli_keep"
   ]
  },
  {
   "cell_type": "code",
   "execution_count": 7,
   "id": "53d62388",
   "metadata": {},
   "outputs": [],
   "source": [
    "df_idkmrc = pd.read_excel(\"df_idkmrc_idk-mrc-nli_keep.xlsx\")\n",
    "df_tydiqaid = pd.read_excel(\"df_tydiqaid_idk-mrc-nli_keep.xlsx\")"
   ]
  },
  {
   "cell_type": "code",
   "execution_count": 8,
   "id": "4926f720",
   "metadata": {},
   "outputs": [
    {
     "name": "stdout",
     "output_type": "stream",
     "text": [
      "GOLD IDK-MRC\n",
      "E: 676 (80.0 %)\n",
      "N: 0 (0.0 %)\n",
      "C: 172 (20.0 %)\n",
      "\n",
      "Total data: 848\n",
      "========================\n",
      "GOLD TYDI-QA-ID\n",
      "E: 849 (99.0 %)\n",
      "N: 0 (0.0 %)\n",
      "C: 8 (1.0 %)\n",
      "\n",
      "Total data: 857\n",
      "\n",
      "IDK-MRC\n",
      "RE: 266 (100.0) %\n",
      "RN: 0 (0.0) %\n",
      "RC: 1 (0.0) %\n",
      "\n",
      "WE: 416 (72.0) %\n",
      "WN: 0 (0.0) %\n",
      "WC: 165 (28.000000000000004) %\n",
      "====================\n",
      "TYDI-QA-ID\n",
      "RE: 570 (100.0) %\n",
      "RN: 0 (0.0) %\n",
      "RC: 0 (0.0) %\n",
      "\n",
      "WE: 274 (95.0) %\n",
      "WN: 0 (0.0) %\n",
      "WC: 13 (5.0) %\n"
     ]
    }
   ],
   "source": [
    "count_label(df_idkmrc, \"IDK-MRC\")\n",
    "print(\"=\" * 24)\n",
    "count_label(df_tydiqaid, \"TyDI-QA-ID\")\n",
    "\n",
    "print()\n",
    "count_properties(df_idkmrc, \"IDK-MRC\")\n",
    "print(\"=\" * 20)\n",
    "count_properties(df_tydiqaid, \"TyDI-QA-ID\")"
   ]
  },
  {
   "cell_type": "markdown",
   "id": "655bd9ac",
   "metadata": {},
   "source": [
    "## All (drop nothing) - Model indonli+mnli-translated"
   ]
  },
  {
   "cell_type": "code",
   "execution_count": 9,
   "id": "0eaaed84",
   "metadata": {},
   "outputs": [],
   "source": [
    "df_idkmrc = pd.read_excel(\"df_idkmrc_indonli+mnli-translated.xlsx\")\n",
    "df_tydiqaid = pd.read_excel(\"df_tydiqaid_indonli+mnli-translated.xlsx\")"
   ]
  },
  {
   "cell_type": "code",
   "execution_count": 10,
   "id": "59a4ead6",
   "metadata": {},
   "outputs": [
    {
     "name": "stdout",
     "output_type": "stream",
     "text": [
      "GOLD IDK-MRC\n",
      "E: 255 (30.0 %)\n",
      "N: 453 (53.0 %)\n",
      "C: 140 (17.0 %)\n",
      "\n",
      "Total data: 848\n",
      "========================\n",
      "GOLD TYDI-QA-ID\n",
      "E: 513 (60.0 %)\n",
      "N: 286 (33.0 %)\n",
      "C: 58 (7.000000000000001 %)\n",
      "\n",
      "Total data: 857\n",
      "\n",
      "IDK-MRC\n",
      "RE: 178 (67.0) %\n",
      "RN: 65 (24.0) %\n",
      "RC: 24 (9.0) %\n",
      "\n",
      "WE: 83 (14.000000000000002) %\n",
      "WN: 386 (66.0) %\n",
      "WC: 112 (19.0) %\n",
      "====================\n",
      "TYDI-QA-ID\n",
      "RE: 370 (65.0) %\n",
      "RN: 167 (28.999999999999996) %\n",
      "RC: 33 (6.0) %\n",
      "\n",
      "WE: 145 (51.0) %\n",
      "WN: 112 (39.0) %\n",
      "WC: 30 (10.0) %\n"
     ]
    }
   ],
   "source": [
    "count_label(df_idkmrc, \"IDK-MRC\")\n",
    "print(\"=\" * 24)\n",
    "count_label(df_tydiqaid, \"TyDI-QA-ID\")\n",
    "\n",
    "print()\n",
    "count_properties(df_idkmrc, \"IDK-MRC\")\n",
    "print(\"=\" * 20)\n",
    "count_properties(df_tydiqaid, \"TyDI-QA-ID\")"
   ]
  },
  {
   "cell_type": "markdown",
   "id": "b47fe2e1",
   "metadata": {},
   "source": [
    "# Only unanswerable (gold answer NaN only)"
   ]
  },
  {
   "cell_type": "markdown",
   "id": "6560bc9a",
   "metadata": {},
   "source": [
    "## Only unanswerable (gold answer NaN only) - Model idk-mrc-nli_keep+indonli+mnli-translated"
   ]
  },
  {
   "cell_type": "code",
   "execution_count": 11,
   "id": "c0b5a46b",
   "metadata": {},
   "outputs": [],
   "source": [
    "df_idkmrc = pd.read_excel(\"df_idkmrc_idk-mrc-nli_keep+indonli+mnli-translated.xlsx\")\n",
    "df_tydiqaid = pd.read_excel(\"df_tydiqaid_idk-mrc-nli_keep+indonli+mnli-translated.xlsx\")\n",
    "\n",
    "df_idkmrc_unanswerable_only = df_idkmrc[df_idkmrc['Gold Answer'].isna()]\n",
    "df_tydiqaid_unanswerable_only = df_tydiqaid[df_tydiqaid['Gold Answer'].isna()]"
   ]
  },
  {
   "cell_type": "code",
   "execution_count": 12,
   "id": "217e7e1c",
   "metadata": {},
   "outputs": [
    {
     "name": "stdout",
     "output_type": "stream",
     "text": [
      "GOLD IDK-MRC\n",
      "E: 4 (1.0 %)\n",
      "N: 13 (3.0 %)\n",
      "C: 409 (96.0 %)\n",
      "\n",
      "Total data: 426\n",
      "========================\n",
      "GOLD TYDI-QA-ID\n",
      "E: 0 (0.0 %)\n",
      "N: 0 (0.0 %)\n",
      "C: 1 (100.0 %)\n",
      "\n",
      "Total data: 1\n",
      "\n",
      "IDK-MRC\n",
      "RE: 0 (0) %\n",
      "RN: 0 (0) %\n",
      "RC: 0 (0) %\n",
      "\n",
      "WE: 35 (8.0) %\n",
      "WN: 13 (3.0) %\n",
      "WC: 378 (89.0) %\n",
      "====================\n",
      "TYDI-QA-ID\n",
      "RE: 0 (0) %\n",
      "RN: 0 (0) %\n",
      "RC: 0 (0) %\n",
      "\n",
      "WE: 1 (100.0) %\n",
      "WN: 0 (0.0) %\n",
      "WC: 0 (0.0) %\n"
     ]
    }
   ],
   "source": [
    "count_label(df_idkmrc_unanswerable_only, \"IDK-MRC\")\n",
    "print(\"=\" * 24)\n",
    "count_label(df_tydiqaid_unanswerable_only, \"TyDI-QA-ID\")\n",
    "\n",
    "print()\n",
    "count_properties(df_idkmrc_unanswerable_only, \"IDK-MRC\")\n",
    "print(\"=\" * 20)\n",
    "count_properties(df_tydiqaid_unanswerable_only, \"TyDI-QA-ID\")"
   ]
  },
  {
   "cell_type": "markdown",
   "id": "a27bd1de",
   "metadata": {},
   "source": [
    "## Only unanswerable (gold answer NaN only) - Model idk-mrc-nli_keep"
   ]
  },
  {
   "cell_type": "code",
   "execution_count": 13,
   "id": "e1363036",
   "metadata": {},
   "outputs": [],
   "source": [
    "df_idkmrc = pd.read_excel(\"df_idkmrc_idk-mrc-nli_keep.xlsx\")\n",
    "df_tydiqaid = pd.read_excel(\"df_tydiqaid_idk-mrc-nli_keep.xlsx\")\n",
    "\n",
    "df_idkmrc_unanswerable_only = df_idkmrc[df_idkmrc['Gold Answer'].isna()]\n",
    "df_tydiqaid_unanswerable_only = df_tydiqaid[df_tydiqaid['Gold Answer'].isna()]"
   ]
  },
  {
   "cell_type": "code",
   "execution_count": 14,
   "id": "83f2f29d",
   "metadata": {},
   "outputs": [
    {
     "name": "stdout",
     "output_type": "stream",
     "text": [
      "GOLD IDK-MRC\n",
      "E: 264 (62.0 %)\n",
      "N: 0 (0.0 %)\n",
      "C: 162 (38.0 %)\n",
      "\n",
      "Total data: 426\n",
      "========================\n",
      "GOLD TYDI-QA-ID\n",
      "E: 1 (100.0 %)\n",
      "N: 0 (0.0 %)\n",
      "C: 0 (0.0 %)\n",
      "\n",
      "Total data: 1\n",
      "\n",
      "IDK-MRC\n",
      "RE: 0 (0) %\n",
      "RN: 0 (0) %\n",
      "RC: 0 (0) %\n",
      "\n",
      "WE: 275 (65.0) %\n",
      "WN: 0 (0.0) %\n",
      "WC: 151 (35.0) %\n",
      "====================\n",
      "TYDI-QA-ID\n",
      "RE: 0 (0) %\n",
      "RN: 0 (0) %\n",
      "RC: 0 (0) %\n",
      "\n",
      "WE: 1 (100.0) %\n",
      "WN: 0 (0.0) %\n",
      "WC: 0 (0.0) %\n"
     ]
    }
   ],
   "source": [
    "count_label(df_idkmrc_unanswerable_only, \"IDK-MRC\")\n",
    "print(\"=\" * 24)\n",
    "count_label(df_tydiqaid_unanswerable_only, \"TyDI-QA-ID\")\n",
    "\n",
    "print()\n",
    "count_properties(df_idkmrc_unanswerable_only, \"IDK-MRC\")\n",
    "print(\"=\" * 20)\n",
    "count_properties(df_tydiqaid_unanswerable_only, \"TyDI-QA-ID\")"
   ]
  },
  {
   "cell_type": "markdown",
   "id": "4349ff61",
   "metadata": {},
   "source": [
    "## Only unanswerable (gold answer NaN only) - Model indonli+mnli-translated"
   ]
  },
  {
   "cell_type": "code",
   "execution_count": 15,
   "id": "cedec795",
   "metadata": {},
   "outputs": [],
   "source": [
    "df_idkmrc = pd.read_excel(\"df_idkmrc_indonli+mnli-translated.xlsx\")\n",
    "df_tydiqaid = pd.read_excel(\"df_tydiqaid_indonli+mnli-translated.xlsx\")\n",
    "\n",
    "df_idkmrc_unanswerable_only = df_idkmrc[df_idkmrc['Gold Answer'].isna()]\n",
    "df_tydiqaid_unanswerable_only = df_tydiqaid[df_tydiqaid['Gold Answer'].isna()]"
   ]
  },
  {
   "cell_type": "code",
   "execution_count": 16,
   "id": "db0408e7",
   "metadata": {
    "scrolled": true
   },
   "outputs": [
    {
     "name": "stdout",
     "output_type": "stream",
     "text": [
      "GOLD IDK-MRC\n",
      "E: 1 (0.0 %)\n",
      "N: 333 (78.0 %)\n",
      "C: 92 (22.0 %)\n",
      "\n",
      "Total data: 426\n",
      "========================\n",
      "GOLD TYDI-QA-ID\n",
      "E: 0 (0.0 %)\n",
      "N: 1 (100.0 %)\n",
      "C: 0 (0.0 %)\n",
      "\n",
      "Total data: 1\n",
      "\n",
      "IDK-MRC\n",
      "RE: 0 (0) %\n",
      "RN: 0 (0) %\n",
      "RC: 0 (0) %\n",
      "\n",
      "WE: 13 (3.0) %\n",
      "WN: 330 (77.0) %\n",
      "WC: 83 (19.0) %\n",
      "====================\n",
      "TYDI-QA-ID\n",
      "RE: 0 (0) %\n",
      "RN: 0 (0) %\n",
      "RC: 0 (0) %\n",
      "\n",
      "WE: 0 (0.0) %\n",
      "WN: 1 (100.0) %\n",
      "WC: 0 (0.0) %\n"
     ]
    }
   ],
   "source": [
    "count_label(df_idkmrc_unanswerable_only, \"IDK-MRC\")\n",
    "print(\"=\" * 24)\n",
    "count_label(df_tydiqaid_unanswerable_only, \"TyDI-QA-ID\")\n",
    "\n",
    "print()\n",
    "count_properties(df_idkmrc_unanswerable_only, \"IDK-MRC\")\n",
    "print(\"=\" * 20)\n",
    "count_properties(df_tydiqaid_unanswerable_only, \"TyDI-QA-ID\")"
   ]
  },
  {
   "cell_type": "markdown",
   "id": "8fa7625d",
   "metadata": {},
   "source": [
    "# Answerable + Non overlap"
   ]
  },
  {
   "cell_type": "markdown",
   "id": "3fb774e8",
   "metadata": {},
   "source": [
    "## Answerable + Non overlap - Model idk-mrc-nli_keep+indonli+mnli-translated"
   ]
  },
  {
   "cell_type": "code",
   "execution_count": 17,
   "id": "aed64cf5",
   "metadata": {},
   "outputs": [
    {
     "name": "stderr",
     "output_type": "stream",
     "text": [
      "100%|██████████████████████████████████████████████████████████████████████████████| 848/848 [00:00<00:00, 63974.13it/s]\n",
      "100%|██████████████████████████████████████████████████████████████████████████████| 857/857 [00:00<00:00, 60268.24it/s]\n"
     ]
    }
   ],
   "source": [
    "df_idkmrc = pd.read_excel(\"df_idkmrc_idk-mrc-nli_keep+indonli+mnli-translated.xlsx\")\n",
    "df_tydiqaid = pd.read_excel(\"df_tydiqaid_idk-mrc-nli_keep+indonli+mnli-translated.xlsx\")\n",
    "\n",
    "df_idkmrc = return_overlap_between_gold_and_pred(df_idkmrc)\n",
    "df_tydiqaid = return_overlap_between_gold_and_pred(df_tydiqaid)\n",
    "\n",
    "df_idkmrc = df_idkmrc[df_idkmrc['is_overlap'] == False].reset_index(drop=True)\n",
    "df_tydiqaid = df_tydiqaid[df_tydiqaid['is_overlap'] == False].reset_index(drop=True)\n",
    "\n",
    "df_idkmrc_answerable_non_overlap = df_idkmrc.dropna(subset=['Gold Answer']).reset_index(drop=True)\n",
    "df_tydiqaid_answerable_non_overlap = df_tydiqaid.dropna(subset=['Gold Answer']).reset_index(drop=True)"
   ]
  },
  {
   "cell_type": "code",
   "execution_count": 18,
   "id": "f5db6c24",
   "metadata": {},
   "outputs": [
    {
     "name": "stdout",
     "output_type": "stream",
     "text": [
      "GOLD IDK-MRC\n",
      "E: 322 (98.0 %)\n",
      "N: 0 (0.0 %)\n",
      "C: 5 (2.0 %)\n",
      "\n",
      "Total data: 327\n",
      "========================\n",
      "GOLD TYDI-QA-ID\n",
      "E: 660 (99.0 %)\n",
      "N: 0 (0.0 %)\n",
      "C: 8 (1.0 %)\n",
      "\n",
      "Total data: 668\n",
      "\n",
      "IDK-MRC\n",
      "RE: 266 (100.0) %\n",
      "RN: 0 (0.0) %\n",
      "RC: 1 (0.0) %\n",
      "\n",
      "WE: 19 (32.0) %\n",
      "WN: 2 (3.0) %\n",
      "WC: 39 (65.0) %\n",
      "====================\n",
      "TYDI-QA-ID\n",
      "RE: 569 (100.0) %\n",
      "RN: 0 (0.0) %\n",
      "RC: 1 (0.0) %\n",
      "\n",
      "WE: 72 (73.0) %\n",
      "WN: 1 (1.0) %\n",
      "WC: 25 (26.0) %\n"
     ]
    }
   ],
   "source": [
    "count_label(df_idkmrc_answerable_non_overlap, \"IDK-MRC\")\n",
    "print(\"=\" * 24)\n",
    "count_label(df_tydiqaid_answerable_non_overlap, \"TyDI-QA-ID\")\n",
    "\n",
    "print()\n",
    "count_properties(df_idkmrc_answerable_non_overlap, \"IDK-MRC\")\n",
    "print(\"=\" * 20)\n",
    "count_properties(df_tydiqaid_answerable_non_overlap, \"TyDI-QA-ID\")"
   ]
  },
  {
   "cell_type": "markdown",
   "id": "c21d7398",
   "metadata": {},
   "source": [
    "## Answerable + Non overlap - Model idk-mrc-nli_keep"
   ]
  },
  {
   "cell_type": "code",
   "execution_count": 19,
   "id": "85f4d25c",
   "metadata": {},
   "outputs": [
    {
     "name": "stderr",
     "output_type": "stream",
     "text": [
      "100%|██████████████████████████████████████████████████████████████████████████████| 848/848 [00:00<00:00, 69913.31it/s]\n",
      "100%|██████████████████████████████████████████████████████████████████████████████| 857/857 [00:00<00:00, 61867.79it/s]\n"
     ]
    }
   ],
   "source": [
    "df_idkmrc = pd.read_excel(\"df_idkmrc_idk-mrc-nli_keep.xlsx\")\n",
    "df_tydiqaid = pd.read_excel(\"df_tydiqaid_idk-mrc-nli_keep.xlsx\")\n",
    "\n",
    "df_idkmrc = return_overlap_between_gold_and_pred(df_idkmrc)\n",
    "df_tydiqaid = return_overlap_between_gold_and_pred(df_tydiqaid)\n",
    "\n",
    "df_idkmrc = df_idkmrc[df_idkmrc['is_overlap'] == False].reset_index(drop=True)\n",
    "df_tydiqaid = df_tydiqaid[df_tydiqaid['is_overlap'] == False].reset_index(drop=True)\n",
    "\n",
    "df_idkmrc_answerable_non_overlap = df_idkmrc.dropna(subset=['Gold Answer']).reset_index(drop=True)\n",
    "df_tydiqaid_answerable_non_overlap = df_tydiqaid.dropna(subset=['Gold Answer']).reset_index(drop=True)"
   ]
  },
  {
   "cell_type": "code",
   "execution_count": 20,
   "id": "eaa73fca",
   "metadata": {},
   "outputs": [
    {
     "name": "stdout",
     "output_type": "stream",
     "text": [
      "GOLD IDK-MRC\n",
      "E: 319 (98.0 %)\n",
      "N: 0 (0.0 %)\n",
      "C: 8 (2.0 %)\n",
      "\n",
      "Total data: 327\n",
      "========================\n",
      "GOLD TYDI-QA-ID\n",
      "E: 664 (99.0 %)\n",
      "N: 0 (0.0 %)\n",
      "C: 4 (1.0 %)\n",
      "\n",
      "Total data: 668\n",
      "\n",
      "IDK-MRC\n",
      "RE: 266 (100.0) %\n",
      "RN: 0 (0.0) %\n",
      "RC: 1 (0.0) %\n",
      "\n",
      "WE: 52 (87.0) %\n",
      "WN: 0 (0.0) %\n",
      "WC: 8 (13.0) %\n",
      "====================\n",
      "TYDI-QA-ID\n",
      "RE: 570 (100.0) %\n",
      "RN: 0 (0.0) %\n",
      "RC: 0 (0.0) %\n",
      "\n",
      "WE: 89 (91.0) %\n",
      "WN: 0 (0.0) %\n",
      "WC: 9 (9.0) %\n"
     ]
    }
   ],
   "source": [
    "count_label(df_idkmrc_answerable_non_overlap, \"IDK-MRC\")\n",
    "print(\"=\" * 24)\n",
    "count_label(df_tydiqaid_answerable_non_overlap, \"TyDI-QA-ID\")\n",
    "\n",
    "print()\n",
    "count_properties(df_idkmrc_answerable_non_overlap, \"IDK-MRC\")\n",
    "print(\"=\" * 20)\n",
    "count_properties(df_tydiqaid_answerable_non_overlap, \"TyDI-QA-ID\")"
   ]
  },
  {
   "cell_type": "markdown",
   "id": "96b9a457",
   "metadata": {},
   "source": [
    "## Answerable + Non overlap - Model indonli+mnli-translated"
   ]
  },
  {
   "cell_type": "code",
   "execution_count": 21,
   "id": "1f564e04",
   "metadata": {},
   "outputs": [
    {
     "name": "stderr",
     "output_type": "stream",
     "text": [
      "100%|██████████████████████████████████████████████████████████████████████████████| 848/848 [00:00<00:00, 70770.22it/s]\n",
      "100%|██████████████████████████████████████████████████████████████████████████████| 857/857 [00:00<00:00, 62234.12it/s]\n"
     ]
    }
   ],
   "source": [
    "df_idkmrc = pd.read_excel(\"df_idkmrc_indonli+mnli-translated.xlsx\")\n",
    "df_tydiqaid = pd.read_excel(\"df_tydiqaid_indonli+mnli-translated.xlsx\")\n",
    "\n",
    "df_idkmrc = return_overlap_between_gold_and_pred(df_idkmrc)\n",
    "df_tydiqaid = return_overlap_between_gold_and_pred(df_tydiqaid)\n",
    "\n",
    "df_idkmrc = df_idkmrc[df_idkmrc['is_overlap'] == False].reset_index(drop=True)\n",
    "df_tydiqaid = df_tydiqaid[df_tydiqaid['is_overlap'] == False].reset_index(drop=True)\n",
    "\n",
    "df_idkmrc_answerable_non_overlap = df_idkmrc.dropna(subset=['Gold Answer']).reset_index(drop=True)\n",
    "df_tydiqaid_answerable_non_overlap = df_tydiqaid.dropna(subset=['Gold Answer']).reset_index(drop=True)"
   ]
  },
  {
   "cell_type": "code",
   "execution_count": 22,
   "id": "da2116b8",
   "metadata": {},
   "outputs": [
    {
     "name": "stdout",
     "output_type": "stream",
     "text": [
      "GOLD IDK-MRC\n",
      "E: 197 (60.0 %)\n",
      "N: 93 (28.000000000000004 %)\n",
      "C: 37 (11.0 %)\n",
      "\n",
      "Total data: 327\n",
      "========================\n",
      "GOLD TYDI-QA-ID\n",
      "E: 408 (61.0 %)\n",
      "N: 215 (32.0 %)\n",
      "C: 45 (7.000000000000001 %)\n",
      "\n",
      "Total data: 668\n",
      "\n",
      "IDK-MRC\n",
      "RE: 178 (67.0) %\n",
      "RN: 65 (24.0) %\n",
      "RC: 24 (9.0) %\n",
      "\n",
      "WE: 4 (7.000000000000001) %\n",
      "WN: 34 (56.99999999999999) %\n",
      "WC: 22 (37.0) %\n",
      "====================\n",
      "TYDI-QA-ID\n",
      "RE: 370 (65.0) %\n",
      "RN: 167 (28.999999999999996) %\n",
      "RC: 33 (6.0) %\n",
      "\n",
      "WE: 29 (30.0) %\n",
      "WN: 52 (53.0) %\n",
      "WC: 17 (17.0) %\n"
     ]
    }
   ],
   "source": [
    "count_label(df_idkmrc_answerable_non_overlap, \"IDK-MRC\")\n",
    "print(\"=\" * 24)\n",
    "count_label(df_tydiqaid_answerable_non_overlap, \"TyDI-QA-ID\")\n",
    "\n",
    "print()\n",
    "count_properties(df_idkmrc_answerable_non_overlap, \"IDK-MRC\")\n",
    "print(\"=\" * 20)\n",
    "count_properties(df_tydiqaid_answerable_non_overlap, \"TyDI-QA-ID\")"
   ]
  },
  {
   "cell_type": "markdown",
   "id": "1a33e130",
   "metadata": {},
   "source": [
    "# Answerable + Overlap"
   ]
  },
  {
   "cell_type": "markdown",
   "id": "50332cd6",
   "metadata": {},
   "source": [
    "## Answerable + Overlap - Model idk-mrc-nli_keep+indonli+mnli-translated"
   ]
  },
  {
   "cell_type": "code",
   "execution_count": 23,
   "id": "7cc4efe8",
   "metadata": {},
   "outputs": [],
   "source": [
    "df_idkmrc = pd.read_excel(\"df_idkmrc_idk-mrc-nli_keep+indonli+mnli-translated.xlsx\")\n",
    "df_tydiqaid = pd.read_excel(\"df_tydiqaid_idk-mrc-nli_keep+indonli+mnli-translated.xlsx\")\n",
    "\n",
    "df_idkmrc_answerable_overlap = df_idkmrc.dropna(subset=['Gold Answer']).reset_index(drop=True)\n",
    "df_tydiqaid_answerable_overlap = df_tydiqaid.dropna(subset=['Gold Answer']).reset_index(drop=True)"
   ]
  },
  {
   "cell_type": "code",
   "execution_count": 24,
   "id": "7974a428",
   "metadata": {},
   "outputs": [
    {
     "name": "stdout",
     "output_type": "stream",
     "text": [
      "GOLD IDK-MRC\n",
      "E: 415 (98.0 %)\n",
      "N: 0 (0.0 %)\n",
      "C: 7 (2.0 %)\n",
      "\n",
      "Total data: 422\n",
      "========================\n",
      "GOLD TYDI-QA-ID\n",
      "E: 846 (99.0 %)\n",
      "N: 0 (0.0 %)\n",
      "C: 10 (1.0 %)\n",
      "\n",
      "Total data: 856\n",
      "\n",
      "IDK-MRC\n",
      "RE: 266 (100.0) %\n",
      "RN: 0 (0.0) %\n",
      "RC: 1 (0.0) %\n",
      "\n",
      "WE: 107 (69.0) %\n",
      "WN: 2 (1.0) %\n",
      "WC: 46 (30.0) %\n",
      "====================\n",
      "TYDI-QA-ID\n",
      "RE: 569 (100.0) %\n",
      "RN: 0 (0.0) %\n",
      "RC: 1 (0.0) %\n",
      "\n",
      "WE: 254 (89.0) %\n",
      "WN: 1 (0.0) %\n",
      "WC: 31 (11.0) %\n"
     ]
    }
   ],
   "source": [
    "count_label(df_idkmrc_answerable_overlap, \"IDK-MRC\")\n",
    "print(\"=\" * 24)\n",
    "count_label(df_tydiqaid_answerable_overlap, \"TyDI-QA-ID\")\n",
    "\n",
    "print()\n",
    "count_properties(df_idkmrc_answerable_overlap, \"IDK-MRC\")\n",
    "print(\"=\" * 20)\n",
    "count_properties(df_tydiqaid_answerable_overlap, \"TyDI-QA-ID\")"
   ]
  },
  {
   "cell_type": "markdown",
   "id": "ef214f2b",
   "metadata": {},
   "source": [
    "## Answerable + Overlap - Model idk-mrc-nli_keep"
   ]
  },
  {
   "cell_type": "code",
   "execution_count": 25,
   "id": "0df8d6b3",
   "metadata": {},
   "outputs": [],
   "source": [
    "df_idkmrc = pd.read_excel(\"df_idkmrc_idk-mrc-nli_keep.xlsx\")\n",
    "df_tydiqaid = pd.read_excel(\"df_tydiqaid_idk-mrc-nli_keep.xlsx\")\n",
    "\n",
    "df_idkmrc_answerable_overlap = df_idkmrc.dropna(subset=['Gold Answer']).reset_index(drop=True)\n",
    "df_tydiqaid_answerable_overlap = df_tydiqaid.dropna(subset=['Gold Answer']).reset_index(drop=True)"
   ]
  },
  {
   "cell_type": "code",
   "execution_count": 26,
   "id": "df7e2ff0",
   "metadata": {},
   "outputs": [
    {
     "name": "stdout",
     "output_type": "stream",
     "text": [
      "GOLD IDK-MRC\n",
      "E: 412 (98.0 %)\n",
      "N: 0 (0.0 %)\n",
      "C: 10 (2.0 %)\n",
      "\n",
      "Total data: 422\n",
      "========================\n",
      "GOLD TYDI-QA-ID\n",
      "E: 848 (99.0 %)\n",
      "N: 0 (0.0 %)\n",
      "C: 8 (1.0 %)\n",
      "\n",
      "Total data: 856\n",
      "\n",
      "IDK-MRC\n",
      "RE: 266 (100.0) %\n",
      "RN: 0 (0.0) %\n",
      "RC: 1 (0.0) %\n",
      "\n",
      "WE: 141 (91.0) %\n",
      "WN: 0 (0.0) %\n",
      "WC: 14 (9.0) %\n",
      "====================\n",
      "TYDI-QA-ID\n",
      "RE: 570 (100.0) %\n",
      "RN: 0 (0.0) %\n",
      "RC: 0 (0.0) %\n",
      "\n",
      "WE: 273 (95.0) %\n",
      "WN: 0 (0.0) %\n",
      "WC: 13 (5.0) %\n"
     ]
    }
   ],
   "source": [
    "count_label(df_idkmrc_answerable_overlap, \"IDK-MRC\")\n",
    "print(\"=\" * 24)\n",
    "count_label(df_tydiqaid_answerable_overlap, \"TyDI-QA-ID\")\n",
    "\n",
    "print()\n",
    "count_properties(df_idkmrc_answerable_overlap, \"IDK-MRC\")\n",
    "print(\"=\" * 20)\n",
    "count_properties(df_tydiqaid_answerable_overlap, \"TyDI-QA-ID\")"
   ]
  },
  {
   "cell_type": "markdown",
   "id": "112516f8",
   "metadata": {},
   "source": [
    "## Answerable + Overlap - Model indonli+mnli-translated"
   ]
  },
  {
   "cell_type": "code",
   "execution_count": 27,
   "id": "31187457",
   "metadata": {},
   "outputs": [],
   "source": [
    "df_idkmrc = pd.read_excel(\"df_idkmrc_indonli+mnli-translated.xlsx\")\n",
    "df_tydiqaid = pd.read_excel(\"df_tydiqaid_indonli+mnli-translated.xlsx\")\n",
    "\n",
    "df_idkmrc_answerable_overlap = df_idkmrc.dropna(subset=['Gold Answer']).reset_index(drop=True)\n",
    "df_tydiqaid_answerable_overlap = df_tydiqaid.dropna(subset=['Gold Answer']).reset_index(drop=True)"
   ]
  },
  {
   "cell_type": "code",
   "execution_count": 28,
   "id": "5173e547",
   "metadata": {},
   "outputs": [
    {
     "name": "stdout",
     "output_type": "stream",
     "text": [
      "GOLD IDK-MRC\n",
      "E: 254 (60.0 %)\n",
      "N: 120 (28.000000000000004 %)\n",
      "C: 48 (11.0 %)\n",
      "\n",
      "Total data: 422\n",
      "========================\n",
      "GOLD TYDI-QA-ID\n",
      "E: 513 (60.0 %)\n",
      "N: 285 (33.0 %)\n",
      "C: 58 (7.000000000000001 %)\n",
      "\n",
      "Total data: 856\n",
      "\n",
      "IDK-MRC\n",
      "RE: 178 (67.0) %\n",
      "RN: 65 (24.0) %\n",
      "RC: 24 (9.0) %\n",
      "\n",
      "WE: 70 (45.0) %\n",
      "WN: 56 (36.0) %\n",
      "WC: 29 (19.0) %\n",
      "====================\n",
      "TYDI-QA-ID\n",
      "RE: 370 (65.0) %\n",
      "RN: 167 (28.999999999999996) %\n",
      "RC: 33 (6.0) %\n",
      "\n",
      "WE: 145 (51.0) %\n",
      "WN: 111 (39.0) %\n",
      "WC: 30 (10.0) %\n"
     ]
    }
   ],
   "source": [
    "count_label(df_idkmrc_answerable_overlap, \"IDK-MRC\")\n",
    "print(\"=\" * 24)\n",
    "count_label(df_tydiqaid_answerable_overlap, \"TyDI-QA-ID\")\n",
    "\n",
    "print()\n",
    "count_properties(df_idkmrc_answerable_overlap, \"IDK-MRC\")\n",
    "print(\"=\" * 20)\n",
    "count_properties(df_tydiqaid_answerable_overlap, \"TyDI-QA-ID\")"
   ]
  }
 ],
 "metadata": {
  "kernelspec": {
   "display_name": "Python 3 (ipykernel)",
   "language": "python",
   "name": "python3"
  },
  "language_info": {
   "codemirror_mode": {
    "name": "ipython",
    "version": 3
   },
   "file_extension": ".py",
   "mimetype": "text/x-python",
   "name": "python",
   "nbconvert_exporter": "python",
   "pygments_lexer": "ipython3",
   "version": "3.8.10"
  }
 },
 "nbformat": 4,
 "nbformat_minor": 5
}
