{
 "cells": [
  {
   "cell_type": "markdown",
   "id": "10dc0b06",
   "metadata": {},
   "source": [
    "# Define tool and model of the tool, to create contradiction cases"
   ]
  },
  {
   "cell_type": "code",
   "execution_count": 1,
   "id": "9b796605",
   "metadata": {},
   "outputs": [],
   "source": [
    "import sys\n",
    "\n",
    "TOOLS_NAME = \"ner\"\n",
    "MODEL_TOOLS_NAME = \"ageng-anugrah/indobert-large-p2-finetuned-chunking\"\n",
    "SAMPLE = sys.maxsize"
   ]
  },
  {
   "cell_type": "markdown",
   "id": "43fdc04c",
   "metadata": {},
   "source": [
    "# Import anything"
   ]
  },
  {
   "cell_type": "code",
   "execution_count": 2,
   "id": "876d1cfe",
   "metadata": {},
   "outputs": [],
   "source": [
    "import transformers\n",
    "import evaluate\n",
    "import torch\n",
    "import operator\n",
    "import re\n",
    "import sys\n",
    "import collections\n",
    "import string\n",
    "import contextlib\n",
    "import gc\n",
    "import random\n",
    "\n",
    "import numpy as np\n",
    "import pandas as pd\n",
    "import torch.nn as nn\n",
    "\n",
    "from multiprocessing import cpu_count\n",
    "from evaluate import load\n",
    "from nusacrowd import NusantaraConfigHelper\n",
    "from datetime import datetime\n",
    "from huggingface_hub import notebook_login\n",
    "from tqdm import tqdm\n",
    "from huggingface_hub import HfApi\n",
    "\n",
    "from datasets import (\n",
    "    load_dataset, \n",
    "    Dataset,\n",
    "    DatasetDict\n",
    ")\n",
    "from transformers import (\n",
    "    DataCollatorWithPadding,\n",
    "    TrainingArguments,\n",
    "    Trainer,\n",
    "    AutoModelForSequenceClassification,\n",
    "    AutoTokenizer,\n",
    "    EarlyStoppingCallback, \n",
    "    AutoModelForQuestionAnswering,\n",
    "    AutoModelForTokenClassification,\n",
    "    pipeline\n",
    ")"
   ]
  },
  {
   "cell_type": "markdown",
   "id": "3df64757",
   "metadata": {},
   "source": [
    "# Retrieve QA dataset"
   ]
  },
  {
   "cell_type": "code",
   "execution_count": 3,
   "id": "b113f2a8",
   "metadata": {},
   "outputs": [
    {
     "name": "stderr",
     "output_type": "stream",
     "text": [
      "WARNING:datasets.builder:Reusing dataset idk_mrc (/root/.cache/huggingface/datasets/idk_mrc/idk_mrc_source/1.0.0/cf468d86fa7341e69998db1449851672ebfb4fa46036929d66b9de15c421334f)\n"
     ]
    },
    {
     "data": {
      "application/vnd.jupyter.widget-view+json": {
       "model_id": "6480e7fb3613461eac6fbbba0f2c7f96",
       "version_major": 2,
       "version_minor": 0
      },
      "text/plain": [
       "  0%|          | 0/3 [00:00<?, ?it/s]"
      ]
     },
     "metadata": {},
     "output_type": "display_data"
    },
    {
     "name": "stderr",
     "output_type": "stream",
     "text": [
      "100%|██████████████████████████████████████████████████████████████████████████████| 3659/3659 [00:22<00:00, 161.01it/s]\n",
      "100%|█████████████████████████████████████████████████████████████████████████████████| 358/358 [00:09<00:00, 38.99it/s]\n",
      "100%|█████████████████████████████████████████████████████████████████████████████████| 378/378 [00:10<00:00, 36.38it/s]\n"
     ]
    },
    {
     "data": {
      "text/plain": [
       "DatasetDict({\n",
       "    train: Dataset({\n",
       "        features: ['context', 'question', 'answer'],\n",
       "        num_rows: 9332\n",
       "    })\n",
       "    validation: Dataset({\n",
       "        features: ['context', 'question', 'answer'],\n",
       "        num_rows: 764\n",
       "    })\n",
       "    test: Dataset({\n",
       "        features: ['context', 'question', 'answer'],\n",
       "        num_rows: 844\n",
       "    })\n",
       "})"
      ]
     },
     "execution_count": 3,
     "metadata": {},
     "output_type": "execute_result"
    }
   ],
   "source": [
    "conhelps = NusantaraConfigHelper()\n",
    "data_qas = conhelps.filtered(lambda x: 'idk_mrc' in x.dataset_name)[0].load_dataset()\n",
    "\n",
    "df_train = pd.DataFrame(data_qas['train'])\n",
    "df_validation = pd.DataFrame(data_qas['validation'])\n",
    "df_test = pd.DataFrame(data_qas['test'])\n",
    "\n",
    "cols = ['context', 'question', 'answer']\n",
    "new_df_train = pd.DataFrame(columns=cols)\n",
    "\n",
    "for i in tqdm(range(len(df_train['context']))):\n",
    "    for j in df_train[\"qas\"][i]:\n",
    "        if len(j['answers']) != 0:\n",
    "            new_df_train = new_df_train.append({'context': df_train[\"context\"][i], \n",
    "                                                'question': j['question'], \n",
    "                                                'answer': {\"text\": j['answers'][0]['text'], \n",
    "                                                           \"answer_start\": j['answers'][0]['answer_start'], \n",
    "                                                           \"answer_end\": j['answers'][0]['answer_start'] + len(j['answers'][0]['text'])}}, \n",
    "                                                           ignore_index=True)\n",
    "        else:\n",
    "            new_df_train = new_df_train.append({'context': df_train[\"context\"][i], \n",
    "                                                'question': j['question'], \n",
    "                                                'answer': {\"text\": str(), \n",
    "                                                           \"answer_start\": 0, \n",
    "                                                           \"answer_end\": 0}}, \n",
    "                                                           ignore_index=True)\n",
    "\n",
    "cols = ['context', 'question', 'answer']\n",
    "new_df_val = pd.DataFrame(columns=cols)\n",
    "\n",
    "for i in tqdm(range(len(df_validation['context']))):\n",
    "    for j in df_validation[\"qas\"][i]:\n",
    "        if len(j['answers']) != 0:\n",
    "            new_df_val = new_df_val.append({'context': df_validation[\"context\"][i], \n",
    "                                            'question': j['question'], \n",
    "                                            'answer': {\"text\": j['answers'][0]['text'], \n",
    "                                                       \"answer_start\": j['answers'][0]['answer_start'], \n",
    "                                                       \"answer_end\": j['answers'][0]['answer_start'] + len(j['answers'][0]['text'])}}, \n",
    "                                                       ignore_index=True)\n",
    "        else:\n",
    "            new_df_val = new_df_val.append({'context': df_validation[\"context\"][i], \n",
    "                                            'question': j['question'], \n",
    "                                            'answer': {\"text\": str(), \n",
    "                                                       \"answer_start\": 0, \n",
    "                                                       \"answer_end\": 0}}, \n",
    "                                                       ignore_index=True)        \n",
    "\n",
    "cols = ['context', 'question', 'answer']\n",
    "new_df_test = pd.DataFrame(columns=cols)\n",
    "\n",
    "for i in tqdm(range(len(df_test['context']))):\n",
    "    for j in df_test[\"qas\"][i]:\n",
    "        if len(j['answers']) != 0:\n",
    "            new_df_test = new_df_test.append({'context': df_test[\"context\"][i], \n",
    "                                            'question': j['question'], \n",
    "                                            'answer': {\"text\": j['answers'][0]['text'], \n",
    "                                                       \"answer_start\": j['answers'][0]['answer_start'], \n",
    "                                                       \"answer_end\": j['answers'][0]['answer_start'] + len(j['answers'][0]['text'])}}, \n",
    "                                                       ignore_index=True)\n",
    "        else:\n",
    "            new_df_test = new_df_test.append({'context': df_test[\"context\"][i], \n",
    "                                            'question': j['question'], \n",
    "                                            'answer': {\"text\": str(), \n",
    "                                                       \"answer_start\": 0, \n",
    "                                                       \"answer_end\": 0}}, \n",
    "                                                       ignore_index=True)\n",
    "\n",
    "train_dataset = Dataset.from_dict(new_df_train)\n",
    "validation_dataset = Dataset.from_dict(new_df_val)\n",
    "test_dataset = Dataset.from_dict(new_df_test)\n",
    "\n",
    "data_qas = DatasetDict({\"train\": train_dataset, \"validation\": validation_dataset, \"test\": test_dataset})\n",
    "data_qas"
   ]
  },
  {
   "cell_type": "markdown",
   "id": "973f78f4",
   "metadata": {},
   "source": [
    "# Convert to NLI, with hypothesis being just do concat question & answer"
   ]
  },
  {
   "cell_type": "markdown",
   "id": "db64d785",
   "metadata": {},
   "source": [
    "## Convert Dataset to DataFrame format"
   ]
  },
  {
   "cell_type": "code",
   "execution_count": 4,
   "id": "713aaa4b",
   "metadata": {},
   "outputs": [],
   "source": [
    "data_qas_train_df = pd.DataFrame(data_qas[\"train\"][:SAMPLE])\n",
    "data_qas_val_df = pd.DataFrame(data_qas[\"validation\"][:SAMPLE])\n",
    "data_qas_test_df = pd.DataFrame(data_qas[\"test\"][:SAMPLE])"
   ]
  },
  {
   "cell_type": "markdown",
   "id": "f45cec7a",
   "metadata": {},
   "source": [
    "## Retrieve answer text only"
   ]
  },
  {
   "cell_type": "code",
   "execution_count": 5,
   "id": "255bad11",
   "metadata": {},
   "outputs": [],
   "source": [
    "def retrieve_answer_text(data):\n",
    "    for i in range(len(data)):\n",
    "        data['answer'][i] = data['answer'][i]['text']\n",
    "    return data"
   ]
  },
  {
   "cell_type": "code",
   "execution_count": 6,
   "id": "181b690f",
   "metadata": {},
   "outputs": [],
   "source": [
    "data_qas_train_df = retrieve_answer_text(data_qas_train_df)\n",
    "data_qas_val_df = retrieve_answer_text(data_qas_val_df)\n",
    "data_qas_test_df = retrieve_answer_text(data_qas_test_df)"
   ]
  },
  {
   "cell_type": "markdown",
   "id": "d713bd68",
   "metadata": {},
   "source": [
    "## Create NLI dataset from copy of QA dataset above"
   ]
  },
  {
   "cell_type": "code",
   "execution_count": 7,
   "id": "105ab3d8",
   "metadata": {},
   "outputs": [],
   "source": [
    "data_nli_right_train_df = data_qas_train_df.copy()\n",
    "data_nli_right_val_df = data_qas_val_df.copy()\n",
    "data_nli_right_test_df = data_qas_test_df.copy()"
   ]
  },
  {
   "cell_type": "markdown",
   "id": "a31b64b8",
   "metadata": {},
   "source": [
    "## Convert context pair to premise (only renaming column)"
   ]
  },
  {
   "cell_type": "code",
   "execution_count": 8,
   "id": "d7a5fd65",
   "metadata": {},
   "outputs": [],
   "source": [
    "data_nli_right_train_df = data_nli_right_train_df.rename(columns={\"context\": \"premise\"})\n",
    "data_nli_right_val_df = data_nli_right_val_df.rename(columns={\"context\": \"premise\"})\n",
    "data_nli_right_test_df = data_nli_right_test_df.rename(columns={\"context\": \"premise\"})"
   ]
  },
  {
   "cell_type": "markdown",
   "id": "3a7d4462",
   "metadata": {},
   "source": [
    "## Add entailment label for all row"
   ]
  },
  {
   "cell_type": "code",
   "execution_count": 9,
   "id": "19e971e5",
   "metadata": {},
   "outputs": [],
   "source": [
    "data_nli_right_train_df['label'] = 'entailment'\n",
    "data_nli_right_val_df['label'] = 'entailment'\n",
    "data_nli_right_test_df['label'] = 'entailment'"
   ]
  },
  {
   "cell_type": "markdown",
   "id": "a9451e50",
   "metadata": {},
   "source": [
    "# Add contradiction label cases"
   ]
  },
  {
   "cell_type": "markdown",
   "id": "66824e4c",
   "metadata": {},
   "source": [
    "## Import pipeline to create contradiction cases"
   ]
  },
  {
   "cell_type": "code",
   "execution_count": 10,
   "id": "cad6f525",
   "metadata": {},
   "outputs": [],
   "source": [
    "nlp_tools = pipeline(task = TOOLS_NAME, \n",
    "                     model = MODEL_TOOLS_NAME, \n",
    "                     tokenizer = AutoTokenizer.from_pretrained(MODEL_TOOLS_NAME, \n",
    "                                                               model_max_length=512, \n",
    "                                                               truncation=True))"
   ]
  },
  {
   "cell_type": "markdown",
   "id": "dec30554",
   "metadata": {},
   "source": [
    "## Retrieve entity from answer column, by creating wrong answer NLI dataset"
   ]
  },
  {
   "cell_type": "code",
   "execution_count": 11,
   "id": "906ac13c",
   "metadata": {},
   "outputs": [],
   "source": [
    "def retrieve_only_entity(data, nlp_tools=nlp_tools):\n",
    "    \n",
    "    data['ner_label'] = \"\"\n",
    "    \n",
    "    for i in tqdm(range(len(data))):\n",
    "        \n",
    "        entity_array = []\n",
    "        ner_result = nlp_tools(data['answer'][i])\n",
    "        \n",
    "        for j in ner_result:\n",
    "            entity = j['entity'][2:]\n",
    "            entity_array.append(entity)\n",
    "        \n",
    "        data['ner_label'][i] = set(entity_array)\n",
    "        \n",
    "    return data"
   ]
  },
  {
   "cell_type": "code",
   "execution_count": null,
   "id": "c4cbb0ae",
   "metadata": {
    "scrolled": false
   },
   "outputs": [
    {
     "name": "stderr",
     "output_type": "stream",
     "text": [
      "  8%|█████▉                                                                        | 717/9332 [39:45<5:06:16,  2.13s/it]"
     ]
    }
   ],
   "source": [
    "data_nli_wrong_train_df = retrieve_only_entity(data_nli_right_train_df)\n",
    "data_nli_wrong_val_df = retrieve_only_entity(data_nli_right_val_df)\n",
    "data_nli_wrong_test_df = retrieve_only_entity(data_nli_right_test_df)"
   ]
  },
  {
   "cell_type": "markdown",
   "id": "bf2dcd9a",
   "metadata": {},
   "source": [
    "## Find the same entity in the premise"
   ]
  },
  {
   "cell_type": "code",
   "execution_count": null,
   "id": "5ed9e93f",
   "metadata": {},
   "outputs": [],
   "source": [
    "seed_value = 42\n",
    "random.seed(seed_value)"
   ]
  },
  {
   "cell_type": "code",
   "execution_count": null,
   "id": "892eaf07",
   "metadata": {},
   "outputs": [],
   "source": [
    "def find_wrong_answer_in_premise(data, nlp_tools=nlp_tools):\n",
    "    \n",
    "    data['wrong_answer'] = \"\"\n",
    "    \n",
    "    for i in tqdm(range(len(data))):\n",
    "        \n",
    "        entity_array = []\n",
    "        \n",
    "        ner_answer = data['ner_label'][i]\n",
    "        ner_premise = nlp_tools(data['premise'][i])\n",
    "        \n",
    "        if ner_answer == set():\n",
    "            # Choose random answer, like: random word in premise\n",
    "            premise = data['premise'][0]\n",
    "            random_word = random.choice(premise.split())\n",
    "            data['wrong_answer'][i] = random_word\n",
    "            \n",
    "        else:\n",
    "            \n",
    "            plausible_answer = []\n",
    "        \n",
    "            for j in ner_answer:\n",
    "\n",
    "                for k in ner_premise:\n",
    "                    \n",
    "                    entity_premise = k['entity'][2:]\n",
    "                    word_entity_premise = k['word']\n",
    "\n",
    "                    if j == entity_premise:\n",
    "                        for l in data['answer'][i]:\n",
    "                            if l.lower() != word_entity_premise:\n",
    "                                if '#' not in word_entity_premise:\n",
    "                                    plausible_answer.append(word_entity_premise)\n",
    "            \n",
    "            if len(plausible_answer) != 0:\n",
    "                wrong_answer = random.choice(plausible_answer)\n",
    "                data['wrong_answer'][i] = wrong_answer\n",
    "            \n",
    "            else:\n",
    "                premise = data['premise'][0]\n",
    "                random_word = random.choice(premise.split())\n",
    "                data['wrong_answer'][i] = random_word\n",
    "                \n",
    "    data = data.drop('answer', axis=1)\n",
    "    data = data.rename(columns={'wrong_answer': 'answer'})\n",
    "    \n",
    "    return data"
   ]
  },
  {
   "cell_type": "code",
   "execution_count": null,
   "id": "12c2a31d",
   "metadata": {},
   "outputs": [],
   "source": [
    "data_nli_wrong_train_df = find_wrong_answer_in_premise(data_nli_wrong_train_df)\n",
    "data_nli_wrong_val_df = find_wrong_answer_in_premise(data_nli_wrong_val_df)\n",
    "data_nli_wrong_test_df = find_wrong_answer_in_premise(data_nli_wrong_test_df)"
   ]
  },
  {
   "cell_type": "markdown",
   "id": "f2239d34",
   "metadata": {},
   "source": [
    "## For that wrong answer, assign contradiction label"
   ]
  },
  {
   "cell_type": "code",
   "execution_count": null,
   "id": "60fe1ce4",
   "metadata": {},
   "outputs": [],
   "source": [
    "data_nli_wrong_train_df['label'] = 'contradiction'\n",
    "data_nli_wrong_val_df['label'] = 'contradiction'\n",
    "data_nli_wrong_test_df['label'] = 'contradiction'"
   ]
  },
  {
   "cell_type": "markdown",
   "id": "1215f656",
   "metadata": {},
   "source": [
    "# Concat the right and wrong NLI to one NLI dataset"
   ]
  },
  {
   "cell_type": "code",
   "execution_count": null,
   "id": "1f8745c4",
   "metadata": {},
   "outputs": [],
   "source": [
    "data_nli_train_df = pd.concat([data_nli_right_train_df, data_nli_wrong_train_df], axis=0, ignore_index=True)\n",
    "data_nli_val_df = pd.concat([data_nli_right_val_df, data_nli_wrong_val_df], axis=0, ignore_index=True)\n",
    "data_nli_test_df = pd.concat([data_nli_right_test_df, data_nli_wrong_test_df], axis=0, ignore_index=True)"
   ]
  },
  {
   "cell_type": "markdown",
   "id": "8e48b33d",
   "metadata": {},
   "source": [
    "# Convert question-answer pair to hypothesis"
   ]
  },
  {
   "cell_type": "code",
   "execution_count": null,
   "id": "72879d7a",
   "metadata": {},
   "outputs": [],
   "source": [
    "def convert_question_and_answer_to_hypothesis(data):\n",
    "    for i in range(len(data)):\n",
    "        data['hypothesis'] = data['question'] + ' ' + data['answer']\n",
    "    return data"
   ]
  },
  {
   "cell_type": "code",
   "execution_count": null,
   "id": "1b6d6bf0",
   "metadata": {},
   "outputs": [],
   "source": [
    "data_nli_train_df = convert_question_and_answer_to_hypothesis(data_nli_train_df)\n",
    "data_nli_val_df = convert_question_and_answer_to_hypothesis(data_nli_val_df)\n",
    "data_nli_test_df = convert_question_and_answer_to_hypothesis(data_nli_test_df)"
   ]
  },
  {
   "cell_type": "markdown",
   "id": "04e22ee3",
   "metadata": {},
   "source": [
    "# Drop another column other than: premise, hypothesis, and label"
   ]
  },
  {
   "cell_type": "code",
   "execution_count": null,
   "id": "e1ceb6e9",
   "metadata": {},
   "outputs": [],
   "source": [
    "columns_to_keep = ['premise', 'hypothesis', 'label']\n",
    "columns_to_drop = [col for col in data_nli_train_df.columns if col not in columns_to_keep]"
   ]
  },
  {
   "cell_type": "code",
   "execution_count": null,
   "id": "5a224bb2",
   "metadata": {},
   "outputs": [],
   "source": [
    "data_nli_train_df = data_nli_train_df.drop(columns=columns_to_drop)\n",
    "data_nli_val_df = data_nli_val_df.drop(columns=columns_to_drop)\n",
    "data_nli_test_df = data_nli_test_df.drop(columns=columns_to_drop)"
   ]
  },
  {
   "cell_type": "markdown",
   "id": "de338e28",
   "metadata": {},
   "source": [
    "# Convert to DataFrame format to CSV"
   ]
  },
  {
   "cell_type": "code",
   "execution_count": null,
   "id": "be0ca8e8",
   "metadata": {},
   "outputs": [],
   "source": [
    "data_nli_train_df.to_csv(\"data_nli_train_chunking_df.csv\", index=False)\n",
    "data_nli_val_df.to_csv(\"data_nli_val_chunking_df.csv\", index=False)\n",
    "data_nli_test_df.to_csv(\"data_nli_test_chunking_df.csv\", index=False)"
   ]
  }
 ],
 "metadata": {
  "kernelspec": {
   "display_name": "Python 3 (ipykernel)",
   "language": "python",
   "name": "python3"
  },
  "language_info": {
   "codemirror_mode": {
    "name": "ipython",
    "version": 3
   },
   "file_extension": ".py",
   "mimetype": "text/x-python",
   "name": "python",
   "nbconvert_exporter": "python",
   "pygments_lexer": "ipython3",
   "version": "3.8.10"
  }
 },
 "nbformat": 4,
 "nbformat_minor": 5
}
